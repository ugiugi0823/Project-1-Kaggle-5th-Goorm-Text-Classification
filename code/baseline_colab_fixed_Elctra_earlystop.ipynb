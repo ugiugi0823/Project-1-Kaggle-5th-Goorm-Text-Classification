{
  "cells": [
    {
      "cell_type": "markdown",
      "metadata": {
        "id": "7s02-JfNCXT4"
      },
      "source": [
        "# Kaggle login, data download"
      ]
    },
    {
      "cell_type": "code",
      "execution_count": null,
      "metadata": {
        "colab": {
          "base_uri": "https://localhost:8080/",
          "height": 307
        },
        "id": "34nk5jiaBDQ4",
        "outputId": "6e257e3f-76a0-4f31-d951-12c3c0cee368"
      },
      "outputs": [
        {
          "output_type": "stream",
          "name": "stdout",
          "text": [
            "Looking in indexes: https://pypi.org/simple, https://us-python.pkg.dev/colab-wheels/public/simple/\n",
            "Requirement already satisfied: kaggle in /usr/local/lib/python3.8/dist-packages (1.5.12)\n",
            "Requirement already satisfied: tqdm in /usr/local/lib/python3.8/dist-packages (from kaggle) (4.64.1)\n",
            "Requirement already satisfied: certifi in /usr/local/lib/python3.8/dist-packages (from kaggle) (2022.12.7)\n",
            "Requirement already satisfied: six>=1.10 in /usr/local/lib/python3.8/dist-packages (from kaggle) (1.15.0)\n",
            "Requirement already satisfied: urllib3 in /usr/local/lib/python3.8/dist-packages (from kaggle) (1.24.3)\n",
            "Requirement already satisfied: requests in /usr/local/lib/python3.8/dist-packages (from kaggle) (2.25.1)\n",
            "Requirement already satisfied: python-slugify in /usr/local/lib/python3.8/dist-packages (from kaggle) (8.0.0)\n",
            "Requirement already satisfied: python-dateutil in /usr/local/lib/python3.8/dist-packages (from kaggle) (2.8.2)\n",
            "Requirement already satisfied: text-unidecode>=1.3 in /usr/local/lib/python3.8/dist-packages (from python-slugify->kaggle) (1.3)\n",
            "Requirement already satisfied: chardet<5,>=3.0.2 in /usr/local/lib/python3.8/dist-packages (from requests->kaggle) (4.0.0)\n",
            "Requirement already satisfied: idna<3,>=2.5 in /usr/local/lib/python3.8/dist-packages (from requests->kaggle) (2.10)\n"
          ]
        },
        {
          "output_type": "display_data",
          "data": {
            "text/plain": [
              "<IPython.core.display.HTML object>"
            ],
            "text/html": [
              "\n",
              "     <input type=\"file\" id=\"files-4328dc52-afa4-432c-99c6-69ef8c89990d\" name=\"files[]\" multiple disabled\n",
              "        style=\"border:none\" />\n",
              "     <output id=\"result-4328dc52-afa4-432c-99c6-69ef8c89990d\">\n",
              "      Upload widget is only available when the cell has been executed in the\n",
              "      current browser session. Please rerun this cell to enable.\n",
              "      </output>\n",
              "      <script>// Copyright 2017 Google LLC\n",
              "//\n",
              "// Licensed under the Apache License, Version 2.0 (the \"License\");\n",
              "// you may not use this file except in compliance with the License.\n",
              "// You may obtain a copy of the License at\n",
              "//\n",
              "//      http://www.apache.org/licenses/LICENSE-2.0\n",
              "//\n",
              "// Unless required by applicable law or agreed to in writing, software\n",
              "// distributed under the License is distributed on an \"AS IS\" BASIS,\n",
              "// WITHOUT WARRANTIES OR CONDITIONS OF ANY KIND, either express or implied.\n",
              "// See the License for the specific language governing permissions and\n",
              "// limitations under the License.\n",
              "\n",
              "/**\n",
              " * @fileoverview Helpers for google.colab Python module.\n",
              " */\n",
              "(function(scope) {\n",
              "function span(text, styleAttributes = {}) {\n",
              "  const element = document.createElement('span');\n",
              "  element.textContent = text;\n",
              "  for (const key of Object.keys(styleAttributes)) {\n",
              "    element.style[key] = styleAttributes[key];\n",
              "  }\n",
              "  return element;\n",
              "}\n",
              "\n",
              "// Max number of bytes which will be uploaded at a time.\n",
              "const MAX_PAYLOAD_SIZE = 100 * 1024;\n",
              "\n",
              "function _uploadFiles(inputId, outputId) {\n",
              "  const steps = uploadFilesStep(inputId, outputId);\n",
              "  const outputElement = document.getElementById(outputId);\n",
              "  // Cache steps on the outputElement to make it available for the next call\n",
              "  // to uploadFilesContinue from Python.\n",
              "  outputElement.steps = steps;\n",
              "\n",
              "  return _uploadFilesContinue(outputId);\n",
              "}\n",
              "\n",
              "// This is roughly an async generator (not supported in the browser yet),\n",
              "// where there are multiple asynchronous steps and the Python side is going\n",
              "// to poll for completion of each step.\n",
              "// This uses a Promise to block the python side on completion of each step,\n",
              "// then passes the result of the previous step as the input to the next step.\n",
              "function _uploadFilesContinue(outputId) {\n",
              "  const outputElement = document.getElementById(outputId);\n",
              "  const steps = outputElement.steps;\n",
              "\n",
              "  const next = steps.next(outputElement.lastPromiseValue);\n",
              "  return Promise.resolve(next.value.promise).then((value) => {\n",
              "    // Cache the last promise value to make it available to the next\n",
              "    // step of the generator.\n",
              "    outputElement.lastPromiseValue = value;\n",
              "    return next.value.response;\n",
              "  });\n",
              "}\n",
              "\n",
              "/**\n",
              " * Generator function which is called between each async step of the upload\n",
              " * process.\n",
              " * @param {string} inputId Element ID of the input file picker element.\n",
              " * @param {string} outputId Element ID of the output display.\n",
              " * @return {!Iterable<!Object>} Iterable of next steps.\n",
              " */\n",
              "function* uploadFilesStep(inputId, outputId) {\n",
              "  const inputElement = document.getElementById(inputId);\n",
              "  inputElement.disabled = false;\n",
              "\n",
              "  const outputElement = document.getElementById(outputId);\n",
              "  outputElement.innerHTML = '';\n",
              "\n",
              "  const pickedPromise = new Promise((resolve) => {\n",
              "    inputElement.addEventListener('change', (e) => {\n",
              "      resolve(e.target.files);\n",
              "    });\n",
              "  });\n",
              "\n",
              "  const cancel = document.createElement('button');\n",
              "  inputElement.parentElement.appendChild(cancel);\n",
              "  cancel.textContent = 'Cancel upload';\n",
              "  const cancelPromise = new Promise((resolve) => {\n",
              "    cancel.onclick = () => {\n",
              "      resolve(null);\n",
              "    };\n",
              "  });\n",
              "\n",
              "  // Wait for the user to pick the files.\n",
              "  const files = yield {\n",
              "    promise: Promise.race([pickedPromise, cancelPromise]),\n",
              "    response: {\n",
              "      action: 'starting',\n",
              "    }\n",
              "  };\n",
              "\n",
              "  cancel.remove();\n",
              "\n",
              "  // Disable the input element since further picks are not allowed.\n",
              "  inputElement.disabled = true;\n",
              "\n",
              "  if (!files) {\n",
              "    return {\n",
              "      response: {\n",
              "        action: 'complete',\n",
              "      }\n",
              "    };\n",
              "  }\n",
              "\n",
              "  for (const file of files) {\n",
              "    const li = document.createElement('li');\n",
              "    li.append(span(file.name, {fontWeight: 'bold'}));\n",
              "    li.append(span(\n",
              "        `(${file.type || 'n/a'}) - ${file.size} bytes, ` +\n",
              "        `last modified: ${\n",
              "            file.lastModifiedDate ? file.lastModifiedDate.toLocaleDateString() :\n",
              "                                    'n/a'} - `));\n",
              "    const percent = span('0% done');\n",
              "    li.appendChild(percent);\n",
              "\n",
              "    outputElement.appendChild(li);\n",
              "\n",
              "    const fileDataPromise = new Promise((resolve) => {\n",
              "      const reader = new FileReader();\n",
              "      reader.onload = (e) => {\n",
              "        resolve(e.target.result);\n",
              "      };\n",
              "      reader.readAsArrayBuffer(file);\n",
              "    });\n",
              "    // Wait for the data to be ready.\n",
              "    let fileData = yield {\n",
              "      promise: fileDataPromise,\n",
              "      response: {\n",
              "        action: 'continue',\n",
              "      }\n",
              "    };\n",
              "\n",
              "    // Use a chunked sending to avoid message size limits. See b/62115660.\n",
              "    let position = 0;\n",
              "    do {\n",
              "      const length = Math.min(fileData.byteLength - position, MAX_PAYLOAD_SIZE);\n",
              "      const chunk = new Uint8Array(fileData, position, length);\n",
              "      position += length;\n",
              "\n",
              "      const base64 = btoa(String.fromCharCode.apply(null, chunk));\n",
              "      yield {\n",
              "        response: {\n",
              "          action: 'append',\n",
              "          file: file.name,\n",
              "          data: base64,\n",
              "        },\n",
              "      };\n",
              "\n",
              "      let percentDone = fileData.byteLength === 0 ?\n",
              "          100 :\n",
              "          Math.round((position / fileData.byteLength) * 100);\n",
              "      percent.textContent = `${percentDone}% done`;\n",
              "\n",
              "    } while (position < fileData.byteLength);\n",
              "  }\n",
              "\n",
              "  // All done.\n",
              "  yield {\n",
              "    response: {\n",
              "      action: 'complete',\n",
              "    }\n",
              "  };\n",
              "}\n",
              "\n",
              "scope.google = scope.google || {};\n",
              "scope.google.colab = scope.google.colab || {};\n",
              "scope.google.colab._files = {\n",
              "  _uploadFiles,\n",
              "  _uploadFilesContinue,\n",
              "};\n",
              "})(self);\n",
              "</script> "
            ]
          },
          "metadata": {}
        },
        {
          "output_type": "stream",
          "name": "stdout",
          "text": [
            "Saving kaggle.json to kaggle.json\n"
          ]
        },
        {
          "output_type": "execute_result",
          "data": {
            "text/plain": [
              "{'kaggle.json': b'{\"username\":\"hyonukjo\",\"key\":\"c809a350a55c435ea7448c20610ab419\"}'}"
            ]
          },
          "metadata": {},
          "execution_count": 1
        }
      ],
      "source": [
        "!pip install kaggle\n",
        "from google.colab import files\n",
        "files.upload()"
      ]
    },
    {
      "cell_type": "code",
      "execution_count": null,
      "metadata": {
        "colab": {
          "base_uri": "https://localhost:8080/"
        },
        "id": "IpIoPwv8Bmlx",
        "outputId": "4323f75e-f970-4615-c29d-48269a4fcbca"
      },
      "outputs": [
        {
          "output_type": "stream",
          "name": "stdout",
          "text": [
            "kaggle.json\n"
          ]
        }
      ],
      "source": [
        "!ls -1ha kaggle.json\n",
        "!mkdir -p ~/.kaggle\n",
        "!cp kaggle.json ~/.kaggle/\n",
        "# Permission Warning 방지\n",
        "!chmod 600 ~/.kaggle/kaggle.json"
      ]
    },
    {
      "cell_type": "code",
      "execution_count": null,
      "metadata": {
        "colab": {
          "base_uri": "https://localhost:8080/"
        },
        "id": "hdNEILMDACG9",
        "outputId": "7fd93059-a2d9-4b73-9f96-1de4e63df2d8"
      },
      "outputs": [
        {
          "output_type": "stream",
          "name": "stdout",
          "text": [
            "Downloading 5th-goorm-project-1-text-classification.zip to /content\n",
            "\r  0% 0.00/6.12M [00:00<?, ?B/s]\n",
            "\r100% 6.12M/6.12M [00:00<00:00, 108MB/s]\n"
          ]
        }
      ],
      "source": [
        "!kaggle competitions download -c 5th-goorm-project-1-text-classification"
      ]
    },
    {
      "cell_type": "code",
      "execution_count": null,
      "metadata": {
        "id": "Jc6VjEisCEEY"
      },
      "outputs": [],
      "source": [
        "from zipfile import ZipFile\n",
        "# 데이터 경로\n",
        "data_path = '/content/'\n",
        "\n",
        "with ZipFile(data_path + '5th-goorm-project-1-text-classification.zip') as zipper:\n",
        "    zipper.extractall()\n"
      ]
    },
    {
      "cell_type": "markdown",
      "metadata": {
        "id": "TH32rzgprvgM"
      },
      "source": [
        "# Import requirements"
      ]
    },
    {
      "cell_type": "code",
      "execution_count": null,
      "metadata": {
        "colab": {
          "base_uri": "https://localhost:8080/"
        },
        "id": "G9EvC1HBuf41",
        "outputId": "0c53771b-81c5-4d7f-ffd7-3d134c2e8f0c"
      },
      "outputs": [
        {
          "output_type": "stream",
          "name": "stdout",
          "text": [
            "Looking in indexes: https://pypi.org/simple, https://us-python.pkg.dev/colab-wheels/public/simple/\n",
            "Collecting transformers\n",
            "  Downloading transformers-4.26.1-py3-none-any.whl (6.3 MB)\n",
            "\u001b[2K     \u001b[90m━━━━━━━━━━━━━━━━━━━━━━━━━━━━━━━━━━━━━━━━\u001b[0m \u001b[32m6.3/6.3 MB\u001b[0m \u001b[31m25.9 MB/s\u001b[0m eta \u001b[36m0:00:00\u001b[0m\n",
            "\u001b[?25hRequirement already satisfied: pyyaml>=5.1 in /usr/local/lib/python3.8/dist-packages (from transformers) (6.0)\n",
            "Requirement already satisfied: regex!=2019.12.17 in /usr/local/lib/python3.8/dist-packages (from transformers) (2022.6.2)\n",
            "Collecting tokenizers!=0.11.3,<0.14,>=0.11.1\n",
            "  Downloading tokenizers-0.13.2-cp38-cp38-manylinux_2_17_x86_64.manylinux2014_x86_64.whl (7.6 MB)\n",
            "\u001b[2K     \u001b[90m━━━━━━━━━━━━━━━━━━━━━━━━━━━━━━━━━━━━━━━━\u001b[0m \u001b[32m7.6/7.6 MB\u001b[0m \u001b[31m54.4 MB/s\u001b[0m eta \u001b[36m0:00:00\u001b[0m\n",
            "\u001b[?25hCollecting huggingface-hub<1.0,>=0.11.0\n",
            "  Downloading huggingface_hub-0.12.1-py3-none-any.whl (190 kB)\n",
            "\u001b[2K     \u001b[90m━━━━━━━━━━━━━━━━━━━━━━━━━━━━━━━━━━━━━━\u001b[0m \u001b[32m190.3/190.3 KB\u001b[0m \u001b[31m21.8 MB/s\u001b[0m eta \u001b[36m0:00:00\u001b[0m\n",
            "\u001b[?25hRequirement already satisfied: packaging>=20.0 in /usr/local/lib/python3.8/dist-packages (from transformers) (23.0)\n",
            "Requirement already satisfied: filelock in /usr/local/lib/python3.8/dist-packages (from transformers) (3.9.0)\n",
            "Requirement already satisfied: numpy>=1.17 in /usr/local/lib/python3.8/dist-packages (from transformers) (1.21.6)\n",
            "Requirement already satisfied: requests in /usr/local/lib/python3.8/dist-packages (from transformers) (2.25.1)\n",
            "Requirement already satisfied: tqdm>=4.27 in /usr/local/lib/python3.8/dist-packages (from transformers) (4.64.1)\n",
            "Requirement already satisfied: typing-extensions>=3.7.4.3 in /usr/local/lib/python3.8/dist-packages (from huggingface-hub<1.0,>=0.11.0->transformers) (4.5.0)\n",
            "Requirement already satisfied: certifi>=2017.4.17 in /usr/local/lib/python3.8/dist-packages (from requests->transformers) (2022.12.7)\n",
            "Requirement already satisfied: idna<3,>=2.5 in /usr/local/lib/python3.8/dist-packages (from requests->transformers) (2.10)\n",
            "Requirement already satisfied: chardet<5,>=3.0.2 in /usr/local/lib/python3.8/dist-packages (from requests->transformers) (4.0.0)\n",
            "Requirement already satisfied: urllib3<1.27,>=1.21.1 in /usr/local/lib/python3.8/dist-packages (from requests->transformers) (1.24.3)\n",
            "Installing collected packages: tokenizers, huggingface-hub, transformers\n",
            "Successfully installed huggingface-hub-0.12.1 tokenizers-0.13.2 transformers-4.26.1\n"
          ]
        }
      ],
      "source": [
        "!pip install transformers"
      ]
    },
    {
      "cell_type": "code",
      "execution_count": null,
      "metadata": {
        "id": "AAdLxrUZrvgP"
      },
      "outputs": [],
      "source": [
        "import os\n",
        "import pdb\n",
        "import argparse\n",
        "from dataclasses import dataclass, field\n",
        "from typing import Optional\n",
        "from collections import defaultdict\n",
        "\n",
        "import torch\n",
        "from torch.nn.utils.rnn import pad_sequence\n",
        "\n",
        "import numpy as np\n",
        "from tqdm import tqdm, trange\n",
        "\n",
        "from transformers import (\n",
        "    ElectraForSequenceClassification,\n",
        "    ElectraTokenizer,\n",
        "    AutoConfig,\n",
        "    AdamW\n",
        ")"
      ]
    },
    {
      "cell_type": "markdown",
      "metadata": {
        "id": "ASWOOmXqrvgQ"
      },
      "source": [
        "# 1. Preprocess"
      ]
    },
    {
      "cell_type": "code",
      "execution_count": null,
      "metadata": {
        "id": "RAnU6w29rvgR"
      },
      "outputs": [],
      "source": [
        "def make_id_file(task, tokenizer):\n",
        "    def make_data_strings(file_name):\n",
        "        data_strings = []\n",
        "        with open(os.path.join(file_name), 'r', encoding='utf-8') as f:\n",
        "            id_file_data = [tokenizer.encode(line.lower()) for line in f.readlines()]\n",
        "            #CLS/SEP은 encoding시 자동으로 들어가게 됨.\n",
        "        for item in id_file_data:\n",
        "            if 5<=len(item)<23:\n",
        "              data_strings.append(' '.join([str(k) for k in item]))\n",
        "        return data_strings\n",
        "    \n",
        "    print('it will take some times...')\n",
        "    train_pos = make_data_strings('sentiment.train.1')\n",
        "    train_neg = make_data_strings('sentiment.train.0')\n",
        "    dev_pos = make_data_strings('sentiment.dev.1')\n",
        "    dev_neg = make_data_strings('sentiment.dev.0')\n",
        "\n",
        "    print('make id file finished!')\n",
        "    return train_pos, train_neg, dev_pos, dev_neg"
      ]
    },
    {
      "cell_type": "code",
      "execution_count": null,
      "metadata": {
        "colab": {
          "base_uri": "https://localhost:8080/",
          "height": 113,
          "referenced_widgets": [
            "5a010d7a1af6488aba2605fa5d17a7d1",
            "80d7669a9d774dc3b5b1b2f5669a44a5",
            "87301c6400be49b78cc5bccde8d5edf4",
            "e8afa0cf99014371827f92fbef551abb",
            "2f5dacb403d94c9bbe84eedf7bb62bce",
            "eac3574a0a4c4cb5926a836640343f1c",
            "9100d27331054d42bf139429aa82a75c",
            "d6cadcf32ac649f9b016237ff302433e",
            "b01163cf53c747b494f72f6c70629c0e",
            "617e60ec483e48bd8b5bd05ab6b187fa",
            "be63485dfe0b4e9b9c115ccb675e37ee",
            "f16dbe0cad374704a965e096e17b5202",
            "d9d7b866b59341839fd6e89a1f12c01d",
            "6a82fbed1b5a4f0288a7f934c815e76c",
            "07ba033330b34006b5002a9c81abad30",
            "618448baf46e4e2d9406540f0ff53dba",
            "cd6b7620d9eb4eff92d44ff17ace2ee1",
            "5f0e043bae8e4ebabe2efc5bcd6425de",
            "bba4406e61244af483cee9182ccc11d4",
            "5cdbfddd65054565a1263a36be607ed4",
            "4c334362abff49ea80917e9f3eff779f",
            "654294d22fcb4b39881c0c61de039f60",
            "d9f0275b5da248ba8608d1ce0bfcd901",
            "b53be7f9219e48b2a416e71b7dddd49a",
            "21509ece97b64421a0a05347696f9f31",
            "b5873d7b94f84cd8a355e46c06587e87",
            "8957042f5c614f17ae39cf7fcef94fde",
            "6f427c1bd3634b0abf48a069339e0d3a",
            "8715cc8d65c642ab8f11981eb785a14c",
            "a9dc06a3f97a4ffc95f2456a7c71dd20",
            "edc4f3cb61c24ffeb5ea4204213eb8b8",
            "51704817be6b4ffa852f01237470bbfb",
            "75ad2784a199455ab8cb052c5dea4bf3"
          ]
        },
        "id": "Ui2HOCflrvgR",
        "outputId": "1f74f05e-e0b7-4a59-bb66-5907437f443f"
      },
      "outputs": [
        {
          "output_type": "display_data",
          "data": {
            "text/plain": [
              "Downloading (…)solve/main/vocab.txt:   0%|          | 0.00/232k [00:00<?, ?B/s]"
            ],
            "application/vnd.jupyter.widget-view+json": {
              "version_major": 2,
              "version_minor": 0,
              "model_id": "5a010d7a1af6488aba2605fa5d17a7d1"
            }
          },
          "metadata": {}
        },
        {
          "output_type": "display_data",
          "data": {
            "text/plain": [
              "Downloading (…)okenizer_config.json:   0%|          | 0.00/27.0 [00:00<?, ?B/s]"
            ],
            "application/vnd.jupyter.widget-view+json": {
              "version_major": 2,
              "version_minor": 0,
              "model_id": "f16dbe0cad374704a965e096e17b5202"
            }
          },
          "metadata": {}
        },
        {
          "output_type": "display_data",
          "data": {
            "text/plain": [
              "Downloading (…)lve/main/config.json:   0%|          | 0.00/666 [00:00<?, ?B/s]"
            ],
            "application/vnd.jupyter.widget-view+json": {
              "version_major": 2,
              "version_minor": 0,
              "model_id": "d9f0275b5da248ba8608d1ce0bfcd901"
            }
          },
          "metadata": {}
        }
      ],
      "source": [
        "tokenizer = ElectraTokenizer.from_pretrained('google/electra-base-discriminator')"
      ]
    },
    {
      "cell_type": "code",
      "execution_count": null,
      "metadata": {
        "colab": {
          "base_uri": "https://localhost:8080/"
        },
        "id": "BAgztXIBrvgS",
        "outputId": "7f79e7f0-a8ac-4dfe-dfe3-4b5b1001ec83"
      },
      "outputs": [
        {
          "output_type": "stream",
          "name": "stdout",
          "text": [
            "it will take some times...\n",
            "make id file finished!\n"
          ]
        }
      ],
      "source": [
        "train_pos, train_neg, dev_pos, dev_neg = make_id_file('yelp', tokenizer)"
      ]
    },
    {
      "cell_type": "code",
      "execution_count": null,
      "metadata": {
        "colab": {
          "base_uri": "https://localhost:8080/"
        },
        "id": "wRh2WjGRrvgS",
        "outputId": "031173af-03de-4b34-e229-4df6c3139cd1"
      },
      "outputs": [
        {
          "output_type": "execute_result",
          "data": {
            "text/plain": [
              "['101 6581 2833 1012 102',\n",
              " '101 21688 8013 2326 1012 102',\n",
              " '101 2027 2036 2031 3679 19247 1998 3256 6949 2029 2003 2428 2204 1012 102',\n",
              " '101 2009 1005 1055 1037 2204 15174 2098 7570 22974 2063 1012 102',\n",
              " '101 1996 3095 2003 5379 1012 102',\n",
              " '101 2204 3347 2833 1012 102',\n",
              " '101 2204 2326 1012 102',\n",
              " '101 11350 1997 2154 2003 25628 1998 7167 1997 19247 1012 102',\n",
              " '101 2307 2173 2005 6265 2030 3347 27962 1998 5404 1012 102',\n",
              " '101 1996 2047 2846 3504 6429 1012 102']"
            ]
          },
          "metadata": {},
          "execution_count": 10
        }
      ],
      "source": [
        "train_pos[:10]"
      ]
    },
    {
      "cell_type": "code",
      "execution_count": null,
      "metadata": {
        "id": "JdpQQQMUrvgT"
      },
      "outputs": [],
      "source": [
        "class SentimentDataset(object):\n",
        "    def __init__(self, tokenizer, pos, neg):\n",
        "        self.tokenizer = tokenizer\n",
        "        self.data = []\n",
        "        self.label = []\n",
        "\n",
        "        for pos_sent in pos:\n",
        "            self.data += [self._cast_to_int(pos_sent.strip().split())]\n",
        "            self.label += [[1]]\n",
        "        for neg_sent in neg:\n",
        "            self.data += [self._cast_to_int(neg_sent.strip().split())]\n",
        "            self.label += [[0]]\n",
        "\n",
        "    def _cast_to_int(self, sample):\n",
        "        return [int(word_id) for word_id in sample]\n",
        "\n",
        "    def __len__(self):\n",
        "        return len(self.data)\n",
        "\n",
        "    def __getitem__(self, index):\n",
        "        sample = self.data[index]\n",
        "        return np.array(sample), np.array(self.label[index])"
      ]
    },
    {
      "cell_type": "code",
      "execution_count": null,
      "metadata": {
        "id": "wCz5ey8xrvgU"
      },
      "outputs": [],
      "source": [
        "train_dataset = SentimentDataset(tokenizer, train_pos, train_neg)\n",
        "dev_dataset = SentimentDataset(tokenizer, dev_pos, dev_neg)"
      ]
    },
    {
      "cell_type": "code",
      "execution_count": null,
      "metadata": {
        "colab": {
          "base_uri": "https://localhost:8080/"
        },
        "id": "XXNdx9FKuv_u",
        "outputId": "7cc4074b-c9a2-4358-8095-2e3aff1259ef"
      },
      "outputs": [
        {
          "output_type": "stream",
          "name": "stdout",
          "text": [
            "433978\n",
            "3913\n"
          ]
        }
      ],
      "source": [
        "print(len(list(train_dataset)))\n",
        "print(len(list(dev_dataset)))"
      ]
    },
    {
      "cell_type": "code",
      "execution_count": null,
      "metadata": {
        "colab": {
          "base_uri": "https://localhost:8080/",
          "height": 350
        },
        "id": "tsap9mTrszMB",
        "outputId": "0d763523-6cd9-4207-a398-e0d1f0999c58"
      },
      "outputs": [
        {
          "output_type": "display_data",
          "data": {
            "text/plain": [
              "<Figure size 1080x360 with 1 Axes>"
            ],
            "image/png": "[encoded data removed]"
          },
          "metadata": {
            "needs_background": "light"
          }
        }
      ],
      "source": [
        "import matplotlib.pyplot as plt\n",
        "\n",
        "plt.figure(figsize=(15,5))\n",
        "plt.subplot(1, 2, 1)     \n",
        "plt.hist([len(i[0]) for i in list(train_dataset)+list(dev_dataset)])\n",
        "plt.title('Sequence length filtering')\n",
        "plt.xlabel('Length')\n",
        "plt.ylabel('Numbers')\n",
        "plt.show()"
      ]
    },
    {
      "cell_type": "code",
      "execution_count": null,
      "metadata": {
        "colab": {
          "base_uri": "https://localhost:8080/"
        },
        "id": "UuvkMczvrvgU",
        "outputId": "144c3b9b-1722-4be4-d2ff-c72026e5c260"
      },
      "outputs": [
        {
          "output_type": "stream",
          "name": "stdout",
          "text": [
            "(array([ 101, 6581, 2833, 1012,  102]), array([1]))\n",
            "(array([  101, 21688,  8013,  2326,  1012,   102]), array([1]))\n",
            "(array([  101,  2027,  2036,  2031,  3679, 19247,  1998,  3256,  6949,\n",
            "        2029,  2003,  2428,  2204,  1012,   102]), array([1]))\n",
            "(array([  101,  2009,  1005,  1055,  1037,  2204, 15174,  2098,  7570,\n",
            "       22974,  2063,  1012,   102]), array([1]))\n",
            "(array([ 101, 1996, 3095, 2003, 5379, 1012,  102]), array([1]))\n",
            "(array([ 101, 2204, 3347, 2833, 1012,  102]), array([1]))\n",
            "(array([ 101, 2204, 2326, 1012,  102]), array([1]))\n",
            "(array([  101, 11350,  1997,  2154,  2003, 25628,  1998,  7167,  1997,\n",
            "       19247,  1012,   102]), array([1]))\n",
            "(array([  101,  2307,  2173,  2005,  6265,  2030,  3347, 27962,  1998,\n",
            "        5404,  1012,   102]), array([1]))\n",
            "(array([ 101, 1996, 2047, 2846, 3504, 6429, 1012,  102]), array([1]))\n",
            "(array([ 101, 2023, 2173, 2001, 2200, 2204, 1012,  102]), array([1]))\n"
          ]
        }
      ],
      "source": [
        "for i, item in enumerate(train_dataset):\n",
        "    print(item)\n",
        "    if i == 10:\n",
        "        break"
      ]
    },
    {
      "cell_type": "code",
      "source": [
        "def collate_fn_style(samples):\n",
        "    #Padding을 통해 길이 맞춰주기\n",
        "    #samples는 batch size의 input이다.\n",
        "    input_ids, labels = zip(*samples)\n",
        "    max_len = max(len(input_id) for input_id in input_ids)\n",
        "    #Batch_size에서 가장 긴 것이 무엇이냐?\n",
        "    sorted_indices = np.argsort([len(input_id) for input_id in input_ids])[::-1]\n",
        "    #Batch를 길이순으로 정렬하기\n",
        "    input_ids = pad_sequence([torch.tensor(input_ids[index]) for index in sorted_indices],\n",
        "                             batch_first=True)\n",
        "    attention_mask = torch.tensor(\n",
        "        [[1] * len(input_ids[index]) + [0] * (max_len - len(input_ids[index])) for index in\n",
        "         sorted_indices])\n",
        "    token_type_ids = torch.tensor([[0] * len(input_ids[index]) for index in sorted_indices])\n",
        "    position_ids = torch.tensor([list(range(len(input_ids[index]))) for index in sorted_indices])\n",
        "    labels = torch.tensor(np.stack(labels, axis=0)[sorted_indices])\n",
        "\n",
        "    return input_ids, attention_mask, token_type_ids, position_ids, labels"
      ],
      "metadata": {
        "id": "tJs6sSu3mdrB"
      },
      "execution_count": null,
      "outputs": []
    },
    {
      "cell_type": "code",
      "execution_count": null,
      "metadata": {
        "id": "5saagig0rvgV"
      },
      "outputs": [],
      "source": [
        "train_batch_size=32\n",
        "eval_batch_size=64\n",
        "\n",
        "train_loader = torch.utils.data.DataLoader(train_dataset,\n",
        "                                           batch_size=train_batch_size,\n",
        "                                           shuffle=True, collate_fn=collate_fn_style,\n",
        "                                           pin_memory=True, num_workers=2)\n",
        "dev_loader = torch.utils.data.DataLoader(dev_dataset, batch_size=eval_batch_size,\n",
        "                                         shuffle=False, collate_fn=collate_fn_style,\n",
        "                                         num_workers=2)"
      ]
    },
    {
      "cell_type": "code",
      "execution_count": null,
      "metadata": {
        "colab": {
          "base_uri": "https://localhost:8080/"
        },
        "id": "zvFqCaCnrvgW",
        "outputId": "8fbaea36-8a50-4b23-d4a8-b999aaa8ee02"
      },
      "outputs": [
        {
          "output_type": "stream",
          "name": "stderr",
          "text": [
            "Some weights of the model checkpoint at google/electra-base-discriminator were not used when initializing ElectraForSequenceClassification: ['discriminator_predictions.dense.bias', 'discriminator_predictions.dense_prediction.weight', 'discriminator_predictions.dense_prediction.bias', 'discriminator_predictions.dense.weight']\n",
            "- This IS expected if you are initializing ElectraForSequenceClassification from the checkpoint of a model trained on another task or with another architecture (e.g. initializing a BertForSequenceClassification model from a BertForPreTraining model).\n",
            "- This IS NOT expected if you are initializing ElectraForSequenceClassification from the checkpoint of a model that you expect to be exactly identical (initializing a BertForSequenceClassification model from a BertForSequenceClassification model).\n",
            "Some weights of ElectraForSequenceClassification were not initialized from the model checkpoint at google/electra-base-discriminator and are newly initialized: ['classifier.out_proj.weight', 'classifier.dense.weight', 'classifier.dense.bias', 'classifier.out_proj.bias']\n",
            "You should probably TRAIN this model on a down-stream task to be able to use it for predictions and inference.\n"
          ]
        },
        {
          "output_type": "execute_result",
          "data": {
            "text/plain": [
              "ElectraForSequenceClassification(\n",
              "  (electra): ElectraModel(\n",
              "    (embeddings): ElectraEmbeddings(\n",
              "      (word_embeddings): Embedding(30522, 768, padding_idx=0)\n",
              "      (position_embeddings): Embedding(512, 768)\n",
              "      (token_type_embeddings): Embedding(2, 768)\n",
              "      (LayerNorm): LayerNorm((768,), eps=1e-12, elementwise_affine=True)\n",
              "      (dropout): Dropout(p=0.1, inplace=False)\n",
              "    )\n",
              "    (encoder): ElectraEncoder(\n",
              "      (layer): ModuleList(\n",
              "        (0): ElectraLayer(\n",
              "          (attention): ElectraAttention(\n",
              "            (self): ElectraSelfAttention(\n",
              "              (query): Linear(in_features=768, out_features=768, bias=True)\n",
              "              (key): Linear(in_features=768, out_features=768, bias=True)\n",
              "              (value): Linear(in_features=768, out_features=768, bias=True)\n",
              "              (dropout): Dropout(p=0.1, inplace=False)\n",
              "            )\n",
              "            (output): ElectraSelfOutput(\n",
              "              (dense): Linear(in_features=768, out_features=768, bias=True)\n",
              "              (LayerNorm): LayerNorm((768,), eps=1e-12, elementwise_affine=True)\n",
              "              (dropout): Dropout(p=0.1, inplace=False)\n",
              "            )\n",
              "          )\n",
              "          (intermediate): ElectraIntermediate(\n",
              "            (dense): Linear(in_features=768, out_features=3072, bias=True)\n",
              "            (intermediate_act_fn): GELUActivation()\n",
              "          )\n",
              "          (output): ElectraOutput(\n",
              "            (dense): Linear(in_features=3072, out_features=768, bias=True)\n",
              "            (LayerNorm): LayerNorm((768,), eps=1e-12, elementwise_affine=True)\n",
              "            (dropout): Dropout(p=0.1, inplace=False)\n",
              "          )\n",
              "        )\n",
              "        (1): ElectraLayer(\n",
              "          (attention): ElectraAttention(\n",
              "            (self): ElectraSelfAttention(\n",
              "              (query): Linear(in_features=768, out_features=768, bias=True)\n",
              "              (key): Linear(in_features=768, out_features=768, bias=True)\n",
              "              (value): Linear(in_features=768, out_features=768, bias=True)\n",
              "              (dropout): Dropout(p=0.1, inplace=False)\n",
              "            )\n",
              "            (output): ElectraSelfOutput(\n",
              "              (dense): Linear(in_features=768, out_features=768, bias=True)\n",
              "              (LayerNorm): LayerNorm((768,), eps=1e-12, elementwise_affine=True)\n",
              "              (dropout): Dropout(p=0.1, inplace=False)\n",
              "            )\n",
              "          )\n",
              "          (intermediate): ElectraIntermediate(\n",
              "            (dense): Linear(in_features=768, out_features=3072, bias=True)\n",
              "            (intermediate_act_fn): GELUActivation()\n",
              "          )\n",
              "          (output): ElectraOutput(\n",
              "            (dense): Linear(in_features=3072, out_features=768, bias=True)\n",
              "            (LayerNorm): LayerNorm((768,), eps=1e-12, elementwise_affine=True)\n",
              "            (dropout): Dropout(p=0.1, inplace=False)\n",
              "          )\n",
              "        )\n",
              "        (2): ElectraLayer(\n",
              "          (attention): ElectraAttention(\n",
              "            (self): ElectraSelfAttention(\n",
              "              (query): Linear(in_features=768, out_features=768, bias=True)\n",
              "              (key): Linear(in_features=768, out_features=768, bias=True)\n",
              "              (value): Linear(in_features=768, out_features=768, bias=True)\n",
              "              (dropout): Dropout(p=0.1, inplace=False)\n",
              "            )\n",
              "            (output): ElectraSelfOutput(\n",
              "              (dense): Linear(in_features=768, out_features=768, bias=True)\n",
              "              (LayerNorm): LayerNorm((768,), eps=1e-12, elementwise_affine=True)\n",
              "              (dropout): Dropout(p=0.1, inplace=False)\n",
              "            )\n",
              "          )\n",
              "          (intermediate): ElectraIntermediate(\n",
              "            (dense): Linear(in_features=768, out_features=3072, bias=True)\n",
              "            (intermediate_act_fn): GELUActivation()\n",
              "          )\n",
              "          (output): ElectraOutput(\n",
              "            (dense): Linear(in_features=3072, out_features=768, bias=True)\n",
              "            (LayerNorm): LayerNorm((768,), eps=1e-12, elementwise_affine=True)\n",
              "            (dropout): Dropout(p=0.1, inplace=False)\n",
              "          )\n",
              "        )\n",
              "        (3): ElectraLayer(\n",
              "          (attention): ElectraAttention(\n",
              "            (self): ElectraSelfAttention(\n",
              "              (query): Linear(in_features=768, out_features=768, bias=True)\n",
              "              (key): Linear(in_features=768, out_features=768, bias=True)\n",
              "              (value): Linear(in_features=768, out_features=768, bias=True)\n",
              "              (dropout): Dropout(p=0.1, inplace=False)\n",
              "            )\n",
              "            (output): ElectraSelfOutput(\n",
              "              (dense): Linear(in_features=768, out_features=768, bias=True)\n",
              "              (LayerNorm): LayerNorm((768,), eps=1e-12, elementwise_affine=True)\n",
              "              (dropout): Dropout(p=0.1, inplace=False)\n",
              "            )\n",
              "          )\n",
              "          (intermediate): ElectraIntermediate(\n",
              "            (dense): Linear(in_features=768, out_features=3072, bias=True)\n",
              "            (intermediate_act_fn): GELUActivation()\n",
              "          )\n",
              "          (output): ElectraOutput(\n",
              "            (dense): Linear(in_features=3072, out_features=768, bias=True)\n",
              "            (LayerNorm): LayerNorm((768,), eps=1e-12, elementwise_affine=True)\n",
              "            (dropout): Dropout(p=0.1, inplace=False)\n",
              "          )\n",
              "        )\n",
              "        (4): ElectraLayer(\n",
              "          (attention): ElectraAttention(\n",
              "            (self): ElectraSelfAttention(\n",
              "              (query): Linear(in_features=768, out_features=768, bias=True)\n",
              "              (key): Linear(in_features=768, out_features=768, bias=True)\n",
              "              (value): Linear(in_features=768, out_features=768, bias=True)\n",
              "              (dropout): Dropout(p=0.1, inplace=False)\n",
              "            )\n",
              "            (output): ElectraSelfOutput(\n",
              "              (dense): Linear(in_features=768, out_features=768, bias=True)\n",
              "              (LayerNorm): LayerNorm((768,), eps=1e-12, elementwise_affine=True)\n",
              "              (dropout): Dropout(p=0.1, inplace=False)\n",
              "            )\n",
              "          )\n",
              "          (intermediate): ElectraIntermediate(\n",
              "            (dense): Linear(in_features=768, out_features=3072, bias=True)\n",
              "            (intermediate_act_fn): GELUActivation()\n",
              "          )\n",
              "          (output): ElectraOutput(\n",
              "            (dense): Linear(in_features=3072, out_features=768, bias=True)\n",
              "            (LayerNorm): LayerNorm((768,), eps=1e-12, elementwise_affine=True)\n",
              "            (dropout): Dropout(p=0.1, inplace=False)\n",
              "          )\n",
              "        )\n",
              "        (5): ElectraLayer(\n",
              "          (attention): ElectraAttention(\n",
              "            (self): ElectraSelfAttention(\n",
              "              (query): Linear(in_features=768, out_features=768, bias=True)\n",
              "              (key): Linear(in_features=768, out_features=768, bias=True)\n",
              "              (value): Linear(in_features=768, out_features=768, bias=True)\n",
              "              (dropout): Dropout(p=0.1, inplace=False)\n",
              "            )\n",
              "            (output): ElectraSelfOutput(\n",
              "              (dense): Linear(in_features=768, out_features=768, bias=True)\n",
              "              (LayerNorm): LayerNorm((768,), eps=1e-12, elementwise_affine=True)\n",
              "              (dropout): Dropout(p=0.1, inplace=False)\n",
              "            )\n",
              "          )\n",
              "          (intermediate): ElectraIntermediate(\n",
              "            (dense): Linear(in_features=768, out_features=3072, bias=True)\n",
              "            (intermediate_act_fn): GELUActivation()\n",
              "          )\n",
              "          (output): ElectraOutput(\n",
              "            (dense): Linear(in_features=3072, out_features=768, bias=True)\n",
              "            (LayerNorm): LayerNorm((768,), eps=1e-12, elementwise_affine=True)\n",
              "            (dropout): Dropout(p=0.1, inplace=False)\n",
              "          )\n",
              "        )\n",
              "        (6): ElectraLayer(\n",
              "          (attention): ElectraAttention(\n",
              "            (self): ElectraSelfAttention(\n",
              "              (query): Linear(in_features=768, out_features=768, bias=True)\n",
              "              (key): Linear(in_features=768, out_features=768, bias=True)\n",
              "              (value): Linear(in_features=768, out_features=768, bias=True)\n",
              "              (dropout): Dropout(p=0.1, inplace=False)\n",
              "            )\n",
              "            (output): ElectraSelfOutput(\n",
              "              (dense): Linear(in_features=768, out_features=768, bias=True)\n",
              "              (LayerNorm): LayerNorm((768,), eps=1e-12, elementwise_affine=True)\n",
              "              (dropout): Dropout(p=0.1, inplace=False)\n",
              "            )\n",
              "          )\n",
              "          (intermediate): ElectraIntermediate(\n",
              "            (dense): Linear(in_features=768, out_features=3072, bias=True)\n",
              "            (intermediate_act_fn): GELUActivation()\n",
              "          )\n",
              "          (output): ElectraOutput(\n",
              "            (dense): Linear(in_features=3072, out_features=768, bias=True)\n",
              "            (LayerNorm): LayerNorm((768,), eps=1e-12, elementwise_affine=True)\n",
              "            (dropout): Dropout(p=0.1, inplace=False)\n",
              "          )\n",
              "        )\n",
              "        (7): ElectraLayer(\n",
              "          (attention): ElectraAttention(\n",
              "            (self): ElectraSelfAttention(\n",
              "              (query): Linear(in_features=768, out_features=768, bias=True)\n",
              "              (key): Linear(in_features=768, out_features=768, bias=True)\n",
              "              (value): Linear(in_features=768, out_features=768, bias=True)\n",
              "              (dropout): Dropout(p=0.1, inplace=False)\n",
              "            )\n",
              "            (output): ElectraSelfOutput(\n",
              "              (dense): Linear(in_features=768, out_features=768, bias=True)\n",
              "              (LayerNorm): LayerNorm((768,), eps=1e-12, elementwise_affine=True)\n",
              "              (dropout): Dropout(p=0.1, inplace=False)\n",
              "            )\n",
              "          )\n",
              "          (intermediate): ElectraIntermediate(\n",
              "            (dense): Linear(in_features=768, out_features=3072, bias=True)\n",
              "            (intermediate_act_fn): GELUActivation()\n",
              "          )\n",
              "          (output): ElectraOutput(\n",
              "            (dense): Linear(in_features=3072, out_features=768, bias=True)\n",
              "            (LayerNorm): LayerNorm((768,), eps=1e-12, elementwise_affine=True)\n",
              "            (dropout): Dropout(p=0.1, inplace=False)\n",
              "          )\n",
              "        )\n",
              "        (8): ElectraLayer(\n",
              "          (attention): ElectraAttention(\n",
              "            (self): ElectraSelfAttention(\n",
              "              (query): Linear(in_features=768, out_features=768, bias=True)\n",
              "              (key): Linear(in_features=768, out_features=768, bias=True)\n",
              "              (value): Linear(in_features=768, out_features=768, bias=True)\n",
              "              (dropout): Dropout(p=0.1, inplace=False)\n",
              "            )\n",
              "            (output): ElectraSelfOutput(\n",
              "              (dense): Linear(in_features=768, out_features=768, bias=True)\n",
              "              (LayerNorm): LayerNorm((768,), eps=1e-12, elementwise_affine=True)\n",
              "              (dropout): Dropout(p=0.1, inplace=False)\n",
              "            )\n",
              "          )\n",
              "          (intermediate): ElectraIntermediate(\n",
              "            (dense): Linear(in_features=768, out_features=3072, bias=True)\n",
              "            (intermediate_act_fn): GELUActivation()\n",
              "          )\n",
              "          (output): ElectraOutput(\n",
              "            (dense): Linear(in_features=3072, out_features=768, bias=True)\n",
              "            (LayerNorm): LayerNorm((768,), eps=1e-12, elementwise_affine=True)\n",
              "            (dropout): Dropout(p=0.1, inplace=False)\n",
              "          )\n",
              "        )\n",
              "        (9): ElectraLayer(\n",
              "          (attention): ElectraAttention(\n",
              "            (self): ElectraSelfAttention(\n",
              "              (query): Linear(in_features=768, out_features=768, bias=True)\n",
              "              (key): Linear(in_features=768, out_features=768, bias=True)\n",
              "              (value): Linear(in_features=768, out_features=768, bias=True)\n",
              "              (dropout): Dropout(p=0.1, inplace=False)\n",
              "            )\n",
              "            (output): ElectraSelfOutput(\n",
              "              (dense): Linear(in_features=768, out_features=768, bias=True)\n",
              "              (LayerNorm): LayerNorm((768,), eps=1e-12, elementwise_affine=True)\n",
              "              (dropout): Dropout(p=0.1, inplace=False)\n",
              "            )\n",
              "          )\n",
              "          (intermediate): ElectraIntermediate(\n",
              "            (dense): Linear(in_features=768, out_features=3072, bias=True)\n",
              "            (intermediate_act_fn): GELUActivation()\n",
              "          )\n",
              "          (output): ElectraOutput(\n",
              "            (dense): Linear(in_features=3072, out_features=768, bias=True)\n",
              "            (LayerNorm): LayerNorm((768,), eps=1e-12, elementwise_affine=True)\n",
              "            (dropout): Dropout(p=0.1, inplace=False)\n",
              "          )\n",
              "        )\n",
              "        (10): ElectraLayer(\n",
              "          (attention): ElectraAttention(\n",
              "            (self): ElectraSelfAttention(\n",
              "              (query): Linear(in_features=768, out_features=768, bias=True)\n",
              "              (key): Linear(in_features=768, out_features=768, bias=True)\n",
              "              (value): Linear(in_features=768, out_features=768, bias=True)\n",
              "              (dropout): Dropout(p=0.1, inplace=False)\n",
              "            )\n",
              "            (output): ElectraSelfOutput(\n",
              "              (dense): Linear(in_features=768, out_features=768, bias=True)\n",
              "              (LayerNorm): LayerNorm((768,), eps=1e-12, elementwise_affine=True)\n",
              "              (dropout): Dropout(p=0.1, inplace=False)\n",
              "            )\n",
              "          )\n",
              "          (intermediate): ElectraIntermediate(\n",
              "            (dense): Linear(in_features=768, out_features=3072, bias=True)\n",
              "            (intermediate_act_fn): GELUActivation()\n",
              "          )\n",
              "          (output): ElectraOutput(\n",
              "            (dense): Linear(in_features=3072, out_features=768, bias=True)\n",
              "            (LayerNorm): LayerNorm((768,), eps=1e-12, elementwise_affine=True)\n",
              "            (dropout): Dropout(p=0.1, inplace=False)\n",
              "          )\n",
              "        )\n",
              "        (11): ElectraLayer(\n",
              "          (attention): ElectraAttention(\n",
              "            (self): ElectraSelfAttention(\n",
              "              (query): Linear(in_features=768, out_features=768, bias=True)\n",
              "              (key): Linear(in_features=768, out_features=768, bias=True)\n",
              "              (value): Linear(in_features=768, out_features=768, bias=True)\n",
              "              (dropout): Dropout(p=0.1, inplace=False)\n",
              "            )\n",
              "            (output): ElectraSelfOutput(\n",
              "              (dense): Linear(in_features=768, out_features=768, bias=True)\n",
              "              (LayerNorm): LayerNorm((768,), eps=1e-12, elementwise_affine=True)\n",
              "              (dropout): Dropout(p=0.1, inplace=False)\n",
              "            )\n",
              "          )\n",
              "          (intermediate): ElectraIntermediate(\n",
              "            (dense): Linear(in_features=768, out_features=3072, bias=True)\n",
              "            (intermediate_act_fn): GELUActivation()\n",
              "          )\n",
              "          (output): ElectraOutput(\n",
              "            (dense): Linear(in_features=3072, out_features=768, bias=True)\n",
              "            (LayerNorm): LayerNorm((768,), eps=1e-12, elementwise_affine=True)\n",
              "            (dropout): Dropout(p=0.1, inplace=False)\n",
              "          )\n",
              "        )\n",
              "      )\n",
              "    )\n",
              "  )\n",
              "  (classifier): ElectraClassificationHead(\n",
              "    (dense): Linear(in_features=768, out_features=768, bias=True)\n",
              "    (dropout): Dropout(p=0.1, inplace=False)\n",
              "    (out_proj): Linear(in_features=768, out_features=2, bias=True)\n",
              "  )\n",
              ")"
            ]
          },
          "metadata": {},
          "execution_count": 40
        }
      ],
      "source": [
        "# random seed\n",
        "random_seed=35\n",
        "np.random.seed(random_seed)\n",
        "torch.manual_seed(random_seed)\n",
        "\n",
        "device = torch.device('cuda' if torch.cuda.is_available() else 'cpu')\n",
        "\n",
        "model = ElectraForSequenceClassification.from_pretrained('google/electra-base-discriminator')\n",
        "model.to(device)"
      ]
    },
    {
      "cell_type": "code",
      "execution_count": null,
      "metadata": {
        "id": "dWwhmyMyrvgW"
      },
      "outputs": [],
      "source": [
        "model.train()\n",
        "learning_rate = 3e-5\n",
        "optimizer = AdamW(model.parameters(), lr=learning_rate)"
      ]
    },
    {
      "cell_type": "code",
      "execution_count": null,
      "metadata": {
        "id": "MztU-L83rvgW"
      },
      "outputs": [],
      "source": [
        "def compute_acc(predictions, target_labels):\n",
        "    return (np.array(predictions) == np.array(target_labels)).mean()"
      ]
    },
    {
      "cell_type": "code",
      "execution_count": 43,
      "metadata": {
        "colab": {
          "base_uri": "https://localhost:8080/"
        },
        "id": "DuZfvzpGrvgW",
        "outputId": "c906df0a-c6af-4b6c-e60b-891ef3a5b70c"
      },
      "outputs": [
        {
          "metadata": {
            "tags": null
          },
          "name": "stderr",
          "output_type": "stream",
          "text": [
            "Epoch 0:  10%|▉         | 1356/13562 [03:07<28:40,  7.10batch/s, loss=0.0763]\n",
            "Eval:   0%|          | 0/62 [00:00<?, ?it/s]\u001b[A\n",
            "Eval:   2%|▏         | 1/62 [00:00<00:09,  6.15it/s]\u001b[A\n",
            "Eval:   5%|▍         | 3/62 [00:00<00:05, 10.34it/s]\u001b[A\n",
            "Eval:   8%|▊         | 5/62 [00:00<00:04, 11.82it/s]\u001b[A\n",
            "Eval:  11%|█▏        | 7/62 [00:00<00:04, 12.67it/s]\u001b[A\n",
            "Eval:  15%|█▍        | 9/62 [00:00<00:04, 12.72it/s]\u001b[A\n",
            "Eval:  18%|█▊        | 11/62 [00:00<00:03, 12.99it/s]\u001b[A\n",
            "Eval:  21%|██        | 13/62 [00:01<00:03, 13.22it/s]\u001b[A\n",
            "Eval:  24%|██▍       | 15/62 [00:01<00:03, 13.56it/s]\u001b[A\n",
            "Eval:  27%|██▋       | 17/62 [00:01<00:03, 13.39it/s]\u001b[A\n",
            "Eval:  31%|███       | 19/62 [00:01<00:03, 13.63it/s]\u001b[A\n",
            "Eval:  34%|███▍      | 21/62 [00:01<00:02, 13.81it/s]\u001b[A\n",
            "Eval:  37%|███▋      | 23/62 [00:01<00:02, 13.90it/s]\u001b[A\n",
            "Eval:  40%|████      | 25/62 [00:01<00:02, 13.67it/s]\u001b[A\n",
            "Eval:  44%|████▎     | 27/62 [00:02<00:02, 13.55it/s]\u001b[A\n",
            "Eval:  47%|████▋     | 29/62 [00:02<00:02, 13.89it/s]\u001b[A\n",
            "Eval:  50%|█████     | 31/62 [00:02<00:02, 13.85it/s]\u001b[A\n",
            "Eval:  53%|█████▎    | 33/62 [00:02<00:02, 13.45it/s]\u001b[A\n",
            "Eval:  56%|█████▋    | 35/62 [00:02<00:02, 13.07it/s]\u001b[A\n",
            "Eval:  60%|█████▉    | 37/62 [00:02<00:01, 13.05it/s]\u001b[A\n",
            "Eval:  63%|██████▎   | 39/62 [00:02<00:01, 12.90it/s]\u001b[A\n",
            "Eval:  66%|██████▌   | 41/62 [00:03<00:01, 12.80it/s]\u001b[A\n",
            "Eval:  69%|██████▉   | 43/62 [00:03<00:01, 12.78it/s]\u001b[A\n",
            "Eval:  73%|███████▎  | 45/62 [00:03<00:01, 12.92it/s]\u001b[A\n",
            "Eval:  76%|███████▌  | 47/62 [00:03<00:01, 12.85it/s]\u001b[A\n",
            "Eval:  79%|███████▉  | 49/62 [00:03<00:01, 12.76it/s]\u001b[A\n",
            "Eval:  82%|████████▏ | 51/62 [00:03<00:00, 12.85it/s]\u001b[A\n",
            "Eval:  85%|████████▌ | 53/62 [00:04<00:00, 12.67it/s]\u001b[A\n",
            "Eval:  89%|████████▊ | 55/62 [00:04<00:00, 12.73it/s]\u001b[A\n",
            "Eval:  92%|█████████▏| 57/62 [00:04<00:00, 12.88it/s]\u001b[A\n",
            "Eval:  95%|█████████▌| 59/62 [00:04<00:00, 13.17it/s]\u001b[A\n",
            "Eval:  98%|█████████▊| 61/62 [00:04<00:00, 12.93it/s]\u001b[A\n",
            "                                                     \u001b[A"
          ]
        },
        {
          "metadata": {
            "tags": null
          },
          "name": "stdout",
          "output_type": "stream",
          "text": [
            "Acc for model which have lower valid loss:  0.9601328903654485\n"
          ]
        },
        {
          "metadata": {
            "tags": null
          },
          "name": "stderr",
          "output_type": "stream",
          "text": [
            "Epoch 0:  20%|█▉        | 2712/13562 [06:21<25:34,  7.07batch/s, loss=0.0153]\n",
            "Eval:   0%|          | 0/62 [00:00<?, ?it/s]\u001b[A\n",
            "Eval:   2%|▏         | 1/62 [00:00<00:09,  6.37it/s]\u001b[A\n",
            "Eval:   5%|▍         | 3/62 [00:00<00:05, 10.63it/s]\u001b[A\n",
            "Eval:   8%|▊         | 5/62 [00:00<00:04, 12.08it/s]\u001b[A\n",
            "Eval:  11%|█▏        | 7/62 [00:00<00:04, 12.90it/s]\u001b[A\n",
            "Eval:  15%|█▍        | 9/62 [00:00<00:04, 12.99it/s]\u001b[A\n",
            "Eval:  18%|█▊        | 11/62 [00:00<00:03, 13.24it/s]\u001b[A\n",
            "Eval:  21%|██        | 13/62 [00:01<00:03, 13.04it/s]\u001b[A\n",
            "Eval:  24%|██▍       | 15/62 [00:01<00:03, 13.47it/s]\u001b[A\n",
            "Eval:  27%|██▋       | 17/62 [00:01<00:03, 13.36it/s]\u001b[A\n",
            "Eval:  31%|███       | 19/62 [00:01<00:03, 13.62it/s]\u001b[A\n",
            "Eval:  34%|███▍      | 21/62 [00:01<00:02, 13.78it/s]\u001b[A\n",
            "Eval:  37%|███▋      | 23/62 [00:01<00:02, 13.84it/s]\u001b[A\n",
            "Eval:  40%|████      | 25/62 [00:01<00:02, 13.66it/s]\u001b[A\n",
            "Eval:  44%|████▎     | 27/62 [00:02<00:02, 13.66it/s]\u001b[A\n",
            "Eval:  47%|████▋     | 29/62 [00:02<00:02, 13.92it/s]\u001b[A\n",
            "Eval:  50%|█████     | 31/62 [00:02<00:02, 13.87it/s]\u001b[A\n",
            "Eval:  53%|█████▎    | 33/62 [00:02<00:02, 13.38it/s]\u001b[A\n",
            "Eval:  56%|█████▋    | 35/62 [00:02<00:02, 13.03it/s]\u001b[A\n",
            "Eval:  60%|█████▉    | 37/62 [00:02<00:01, 13.01it/s]\u001b[A\n",
            "Eval:  63%|██████▎   | 39/62 [00:02<00:01, 12.85it/s]\u001b[A\n",
            "Eval:  66%|██████▌   | 41/62 [00:03<00:01, 12.68it/s]\u001b[A\n",
            "Eval:  69%|██████▉   | 43/62 [00:03<00:01, 12.50it/s]\u001b[A\n",
            "Eval:  73%|███████▎  | 45/62 [00:03<00:01, 12.68it/s]\u001b[A\n",
            "Eval:  76%|███████▌  | 47/62 [00:03<00:01, 12.70it/s]\u001b[A\n",
            "Eval:  79%|███████▉  | 49/62 [00:03<00:01, 12.63it/s]\u001b[A\n",
            "Eval:  82%|████████▏ | 51/62 [00:03<00:00, 12.69it/s]\u001b[A\n",
            "Eval:  85%|████████▌ | 53/62 [00:04<00:00, 12.56it/s]\u001b[A\n",
            "Eval:  89%|████████▊ | 55/62 [00:04<00:00, 12.75it/s]\u001b[A\n",
            "Eval:  92%|█████████▏| 57/62 [00:04<00:00, 12.87it/s]\u001b[A\n",
            "Eval:  95%|█████████▌| 59/62 [00:04<00:00, 13.13it/s]\u001b[A\n",
            "Eval:  98%|█████████▊| 61/62 [00:04<00:00, 12.86it/s]\u001b[A\n",
            "                                                     \u001b[A"
          ]
        },
        {
          "metadata": {
            "tags": null
          },
          "name": "stdout",
          "output_type": "stream",
          "text": [
            "Acc for model which have lower valid loss:  0.976233069256325\n"
          ]
        },
        {
          "metadata": {
            "tags": null
          },
          "name": "stderr",
          "output_type": "stream",
          "text": [
            "Epoch 0:  30%|██▉       | 4068/13562 [09:36<22:13,  7.12batch/s, loss=0.00337]\n",
            "Eval:   0%|          | 0/62 [00:00<?, ?it/s]\u001b[A\n",
            "Eval:   2%|▏         | 1/62 [00:00<00:09,  6.34it/s]\u001b[A\n",
            "Eval:   5%|▍         | 3/62 [00:00<00:05, 10.54it/s]\u001b[A\n",
            "Eval:   8%|▊         | 5/62 [00:00<00:04, 12.06it/s]\u001b[A\n",
            "Eval:  11%|█▏        | 7/62 [00:00<00:04, 12.88it/s]\u001b[A\n",
            "Eval:  15%|█▍        | 9/62 [00:00<00:04, 13.06it/s]\u001b[A\n",
            "Eval:  18%|█▊        | 11/62 [00:00<00:03, 13.28it/s]\u001b[A\n",
            "Eval:  21%|██        | 13/62 [00:01<00:03, 13.11it/s]\u001b[A\n",
            "Eval:  24%|██▍       | 15/62 [00:01<00:03, 13.48it/s]\u001b[A\n",
            "Eval:  27%|██▋       | 17/62 [00:01<00:03, 13.26it/s]\u001b[A\n",
            "Eval:  31%|███       | 19/62 [00:01<00:03, 13.54it/s]\u001b[A\n",
            "Eval:  34%|███▍      | 21/62 [00:01<00:02, 13.69it/s]\u001b[A\n",
            "Eval:  37%|███▋      | 23/62 [00:01<00:02, 13.77it/s]\u001b[A\n",
            "Eval:  40%|████      | 25/62 [00:01<00:02, 13.55it/s]\u001b[A\n",
            "Eval:  44%|████▎     | 27/62 [00:02<00:02, 13.57it/s]\u001b[A\n",
            "Eval:  47%|████▋     | 29/62 [00:02<00:02, 13.86it/s]\u001b[A\n",
            "Eval:  50%|█████     | 31/62 [00:02<00:02, 13.85it/s]\u001b[A\n",
            "Eval:  53%|█████▎    | 33/62 [00:02<00:02, 13.42it/s]\u001b[A\n",
            "Eval:  56%|█████▋    | 35/62 [00:02<00:02, 13.12it/s]\u001b[A\n",
            "Eval:  60%|█████▉    | 37/62 [00:02<00:01, 13.00it/s]\u001b[A\n",
            "Eval:  63%|██████▎   | 39/62 [00:02<00:01, 12.75it/s]\u001b[A\n",
            "Eval:  66%|██████▌   | 41/62 [00:03<00:01, 12.56it/s]\u001b[A\n",
            "Eval:  69%|██████▉   | 43/62 [00:03<00:01, 12.49it/s]\u001b[A\n",
            "Eval:  73%|███████▎  | 45/62 [00:03<00:01, 12.69it/s]\u001b[A\n",
            "Eval:  76%|███████▌  | 47/62 [00:03<00:01, 12.72it/s]\u001b[A\n",
            "Eval:  79%|███████▉  | 49/62 [00:03<00:01, 12.69it/s]\u001b[A\n",
            "Eval:  82%|████████▏ | 51/62 [00:03<00:00, 12.79it/s]\u001b[A\n",
            "Eval:  85%|████████▌ | 53/62 [00:04<00:00, 12.63it/s]\u001b[A\n",
            "Eval:  89%|████████▊ | 55/62 [00:04<00:00, 12.78it/s]\u001b[A\n",
            "Eval:  92%|█████████▏| 57/62 [00:04<00:00, 12.92it/s]\u001b[A\n",
            "Eval:  95%|█████████▌| 59/62 [00:04<00:00, 13.17it/s]\u001b[A\n",
            "Eval:  98%|█████████▊| 61/62 [00:04<00:00, 12.86it/s]\u001b[A\n",
            "                                                     \u001b[A"
          ]
        },
        {
          "metadata": {
            "tags": null
          },
          "name": "stdout",
          "output_type": "stream",
          "text": [
            "overfit?\n"
          ]
        },
        {
          "metadata": {
            "tags": null
          },
          "name": "stderr",
          "output_type": "stream",
          "text": [
            "Epoch 0:  40%|███▉      | 5424/13562 [12:50<18:55,  7.16batch/s, loss=0.00846]\n",
            "Eval:   0%|          | 0/62 [00:00<?, ?it/s]\u001b[A\n",
            "Eval:   2%|▏         | 1/62 [00:00<00:10,  6.09it/s]\u001b[A\n",
            "Eval:   5%|▍         | 3/62 [00:00<00:05, 10.44it/s]\u001b[A\n",
            "Eval:   8%|▊         | 5/62 [00:00<00:04, 11.97it/s]\u001b[A\n",
            "Eval:  11%|█▏        | 7/62 [00:00<00:04, 12.83it/s]\u001b[A\n",
            "Eval:  15%|█▍        | 9/62 [00:00<00:04, 12.97it/s]\u001b[A\n",
            "Eval:  18%|█▊        | 11/62 [00:00<00:03, 13.23it/s]\u001b[A\n",
            "Eval:  21%|██        | 13/62 [00:01<00:03, 13.30it/s]\u001b[A\n",
            "Eval:  24%|██▍       | 15/62 [00:01<00:03, 13.60it/s]\u001b[A\n",
            "Eval:  27%|██▋       | 17/62 [00:01<00:03, 13.53it/s]\u001b[A\n",
            "Eval:  31%|███       | 19/62 [00:01<00:03, 13.76it/s]\u001b[A\n",
            "Eval:  34%|███▍      | 21/62 [00:01<00:02, 13.85it/s]\u001b[A\n",
            "Eval:  37%|███▋      | 23/62 [00:01<00:02, 13.96it/s]\u001b[A\n",
            "Eval:  40%|████      | 25/62 [00:01<00:02, 13.72it/s]\u001b[A\n",
            "Eval:  44%|████▎     | 27/62 [00:02<00:02, 13.70it/s]\u001b[A\n",
            "Eval:  47%|████▋     | 29/62 [00:02<00:02, 13.99it/s]\u001b[A\n",
            "Eval:  50%|█████     | 31/62 [00:02<00:02, 13.93it/s]\u001b[A\n",
            "Eval:  53%|█████▎    | 33/62 [00:02<00:02, 13.51it/s]\u001b[A\n",
            "Eval:  56%|█████▋    | 35/62 [00:02<00:02, 13.08it/s]\u001b[A\n",
            "Eval:  60%|█████▉    | 37/62 [00:02<00:01, 13.01it/s]\u001b[A\n",
            "Eval:  63%|██████▎   | 39/62 [00:02<00:01, 12.89it/s]\u001b[A\n",
            "Eval:  66%|██████▌   | 41/62 [00:03<00:01, 12.78it/s]\u001b[A\n",
            "Eval:  69%|██████▉   | 43/62 [00:03<00:01, 12.77it/s]\u001b[A\n",
            "Eval:  73%|███████▎  | 45/62 [00:03<00:01, 12.92it/s]\u001b[A\n",
            "Eval:  76%|███████▌  | 47/62 [00:03<00:01, 12.91it/s]\u001b[A\n",
            "Eval:  79%|███████▉  | 49/62 [00:03<00:01, 12.73it/s]\u001b[A\n",
            "Eval:  82%|████████▏ | 51/62 [00:03<00:00, 12.78it/s]\u001b[A\n",
            "Eval:  85%|████████▌ | 53/62 [00:04<00:00, 12.54it/s]\u001b[A\n",
            "Eval:  89%|████████▊ | 55/62 [00:04<00:00, 12.71it/s]\u001b[A\n",
            "Eval:  92%|█████████▏| 57/62 [00:04<00:00, 12.90it/s]\u001b[A\n",
            "Eval:  95%|█████████▌| 59/62 [00:04<00:00, 13.20it/s]\u001b[A\n",
            "Eval:  98%|█████████▊| 61/62 [00:04<00:00, 12.92it/s]\u001b[A\n",
            "                                                     \u001b[A"
          ]
        },
        {
          "metadata": {
            "tags": null
          },
          "name": "stdout",
          "output_type": "stream",
          "text": [
            "overfit?\n"
          ]
        },
        {
          "metadata": {
            "tags": null
          },
          "name": "stderr",
          "output_type": "stream",
          "text": [
            "Epoch 0:  50%|████▉     | 6780/13562 [16:04<15:57,  7.08batch/s, loss=0.0153]\n",
            "Eval:   0%|          | 0/62 [00:00<?, ?it/s]\u001b[A\n",
            "Eval:   2%|▏         | 1/62 [00:00<00:10,  6.02it/s]\u001b[A\n",
            "Eval:   5%|▍         | 3/62 [00:00<00:05, 10.10it/s]\u001b[A\n",
            "Eval:   8%|▊         | 5/62 [00:00<00:04, 11.65it/s]\u001b[A\n",
            "Eval:  11%|█▏        | 7/62 [00:00<00:04, 12.59it/s]\u001b[A\n",
            "Eval:  15%|█▍        | 9/62 [00:00<00:04, 12.74it/s]\u001b[A\n",
            "Eval:  18%|█▊        | 11/62 [00:00<00:03, 13.05it/s]\u001b[A\n",
            "Eval:  21%|██        | 13/62 [00:01<00:03, 13.12it/s]\u001b[A\n",
            "Eval:  24%|██▍       | 15/62 [00:01<00:03, 13.59it/s]\u001b[A\n",
            "Eval:  27%|██▋       | 17/62 [00:01<00:03, 13.43it/s]\u001b[A\n",
            "Eval:  31%|███       | 19/62 [00:01<00:03, 13.77it/s]\u001b[A\n",
            "Eval:  34%|███▍      | 21/62 [00:01<00:02, 13.90it/s]\u001b[A\n",
            "Eval:  37%|███▋      | 23/62 [00:01<00:02, 13.98it/s]\u001b[A\n",
            "Eval:  40%|████      | 25/62 [00:01<00:02, 13.66it/s]\u001b[A\n",
            "Eval:  44%|████▎     | 27/62 [00:02<00:02, 13.60it/s]\u001b[A\n",
            "Eval:  47%|████▋     | 29/62 [00:02<00:02, 13.84it/s]\u001b[A\n",
            "Eval:  50%|█████     | 31/62 [00:02<00:02, 13.82it/s]\u001b[A\n",
            "Eval:  53%|█████▎    | 33/62 [00:02<00:02, 13.39it/s]\u001b[A\n",
            "Eval:  56%|█████▋    | 35/62 [00:02<00:02, 12.98it/s]\u001b[A\n",
            "Eval:  60%|█████▉    | 37/62 [00:02<00:01, 12.98it/s]\u001b[A\n",
            "Eval:  63%|██████▎   | 39/62 [00:02<00:01, 12.86it/s]\u001b[A\n",
            "Eval:  66%|██████▌   | 41/62 [00:03<00:01, 12.75it/s]\u001b[A\n",
            "Eval:  69%|██████▉   | 43/62 [00:03<00:01, 12.69it/s]\u001b[A\n",
            "Eval:  73%|███████▎  | 45/62 [00:03<00:01, 12.87it/s]\u001b[A\n",
            "Eval:  76%|███████▌  | 47/62 [00:03<00:01, 12.79it/s]\u001b[A\n",
            "Eval:  79%|███████▉  | 49/62 [00:03<00:01, 12.78it/s]\u001b[A\n",
            "Eval:  82%|████████▏ | 51/62 [00:03<00:00, 12.88it/s]\u001b[A\n",
            "Eval:  85%|████████▌ | 53/62 [00:04<00:00, 12.70it/s]\u001b[A\n",
            "Eval:  89%|████████▊ | 55/62 [00:04<00:00, 12.85it/s]\u001b[A\n",
            "Eval:  92%|█████████▏| 57/62 [00:04<00:00, 12.97it/s]\u001b[A\n",
            "Eval:  95%|█████████▌| 59/62 [00:04<00:00, 13.24it/s]\u001b[A\n",
            "Eval:  98%|█████████▊| 61/62 [00:04<00:00, 13.04it/s]\u001b[A\n",
            "                                                     \u001b[A"
          ]
        },
        {
          "metadata": {
            "tags": null
          },
          "name": "stdout",
          "output_type": "stream",
          "text": [
            "Acc for model which have lower valid loss:  0.9769997444416049\n"
          ]
        },
        {
          "metadata": {
            "tags": null
          },
          "name": "stderr",
          "output_type": "stream",
          "text": [
            "Epoch 0:  60%|█████▉    | 8136/13562 [19:17<12:18,  7.34batch/s, loss=0.185]\n",
            "Eval:   0%|          | 0/62 [00:00<?, ?it/s]\u001b[A\n",
            "Eval:   2%|▏         | 1/62 [00:00<00:09,  6.36it/s]\u001b[A\n",
            "Eval:   5%|▍         | 3/62 [00:00<00:05, 10.39it/s]\u001b[A\n",
            "Eval:   8%|▊         | 5/62 [00:00<00:04, 11.92it/s]\u001b[A\n",
            "Eval:  11%|█▏        | 7/62 [00:00<00:04, 12.81it/s]\u001b[A\n",
            "Eval:  15%|█▍        | 9/62 [00:00<00:04, 12.95it/s]\u001b[A\n",
            "Eval:  18%|█▊        | 11/62 [00:00<00:03, 13.20it/s]\u001b[A\n",
            "Eval:  21%|██        | 13/62 [00:01<00:03, 13.33it/s]\u001b[A\n",
            "Eval:  24%|██▍       | 15/62 [00:01<00:03, 13.74it/s]\u001b[A\n",
            "Eval:  27%|██▋       | 17/62 [00:01<00:03, 13.53it/s]\u001b[A\n",
            "Eval:  31%|███       | 19/62 [00:01<00:03, 13.77it/s]\u001b[A\n",
            "Eval:  34%|███▍      | 21/62 [00:01<00:02, 13.86it/s]\u001b[A\n",
            "Eval:  37%|███▋      | 23/62 [00:01<00:02, 13.96it/s]\u001b[A\n",
            "Eval:  40%|████      | 25/62 [00:01<00:02, 13.75it/s]\u001b[A\n",
            "Eval:  44%|████▎     | 27/62 [00:02<00:02, 13.68it/s]\u001b[A\n",
            "Eval:  47%|████▋     | 29/62 [00:02<00:02, 13.90it/s]\u001b[A\n",
            "Eval:  50%|█████     | 31/62 [00:02<00:02, 13.84it/s]\u001b[A\n",
            "Eval:  53%|█████▎    | 33/62 [00:02<00:02, 13.49it/s]\u001b[A\n",
            "Eval:  56%|█████▋    | 35/62 [00:02<00:02, 13.09it/s]\u001b[A\n",
            "Eval:  60%|█████▉    | 37/62 [00:02<00:01, 13.04it/s]\u001b[A\n",
            "Eval:  63%|██████▎   | 39/62 [00:02<00:01, 12.80it/s]\u001b[A\n",
            "Eval:  66%|██████▌   | 41/62 [00:03<00:01, 12.60it/s]\u001b[A\n",
            "Eval:  69%|██████▉   | 43/62 [00:03<00:01, 12.42it/s]\u001b[A\n",
            "Eval:  73%|███████▎  | 45/62 [00:03<00:01, 12.58it/s]\u001b[A\n",
            "Eval:  76%|███████▌  | 47/62 [00:03<00:01, 12.59it/s]\u001b[A\n",
            "Eval:  79%|███████▉  | 49/62 [00:03<00:01, 12.59it/s]\u001b[A\n",
            "Eval:  82%|████████▏ | 51/62 [00:03<00:00, 12.75it/s]\u001b[A\n",
            "Eval:  85%|████████▌ | 53/62 [00:04<00:00, 12.57it/s]\u001b[A\n",
            "Eval:  89%|████████▊ | 55/62 [00:04<00:00, 12.75it/s]\u001b[A\n",
            "Eval:  92%|█████████▏| 57/62 [00:04<00:00, 12.94it/s]\u001b[A\n",
            "Eval:  95%|█████████▌| 59/62 [00:04<00:00, 13.18it/s]\u001b[A\n",
            "Eval:  98%|█████████▊| 61/62 [00:04<00:00, 12.97it/s]\u001b[A\n",
            "                                                     \u001b[A"
          ]
        },
        {
          "metadata": {
            "tags": null
          },
          "name": "stdout",
          "output_type": "stream",
          "text": [
            "Acc for model which have lower valid loss:  0.9782775364170713\n"
          ]
        },
        {
          "metadata": {
            "tags": null
          },
          "name": "stderr",
          "output_type": "stream",
          "text": [
            "Epoch 0:  70%|██████▉   | 9492/13562 [22:31<09:17,  7.31batch/s, loss=0.0192]\n",
            "Eval:   0%|          | 0/62 [00:00<?, ?it/s]\u001b[A\n",
            "Eval:   2%|▏         | 1/62 [00:00<00:09,  6.37it/s]\u001b[A\n",
            "Eval:   5%|▍         | 3/62 [00:00<00:05, 10.48it/s]\u001b[A\n",
            "Eval:   8%|▊         | 5/62 [00:00<00:04, 11.98it/s]\u001b[A\n",
            "Eval:  11%|█▏        | 7/62 [00:00<00:04, 12.82it/s]\u001b[A\n",
            "Eval:  15%|█▍        | 9/62 [00:00<00:04, 13.02it/s]\u001b[A\n",
            "Eval:  18%|█▊        | 11/62 [00:00<00:03, 13.21it/s]\u001b[A\n",
            "Eval:  21%|██        | 13/62 [00:01<00:03, 13.03it/s]\u001b[A\n",
            "Eval:  24%|██▍       | 15/62 [00:01<00:03, 13.41it/s]\u001b[A\n",
            "Eval:  27%|██▋       | 17/62 [00:01<00:03, 13.30it/s]\u001b[A\n",
            "Eval:  31%|███       | 19/62 [00:01<00:03, 13.70it/s]\u001b[A\n",
            "Eval:  34%|███▍      | 21/62 [00:01<00:02, 13.80it/s]\u001b[A\n",
            "Eval:  37%|███▋      | 23/62 [00:01<00:02, 13.94it/s]\u001b[A\n",
            "Eval:  40%|████      | 25/62 [00:01<00:02, 13.69it/s]\u001b[A\n",
            "Eval:  44%|████▎     | 27/62 [00:02<00:02, 13.62it/s]\u001b[A\n",
            "Eval:  47%|████▋     | 29/62 [00:02<00:02, 13.77it/s]\u001b[A\n",
            "Eval:  50%|█████     | 31/62 [00:02<00:02, 13.74it/s]\u001b[A\n",
            "Eval:  53%|█████▎    | 33/62 [00:02<00:02, 13.40it/s]\u001b[A\n",
            "Eval:  56%|█████▋    | 35/62 [00:02<00:02, 13.05it/s]\u001b[A\n",
            "Eval:  60%|█████▉    | 37/62 [00:02<00:01, 12.98it/s]\u001b[A\n",
            "Eval:  63%|██████▎   | 39/62 [00:02<00:01, 12.85it/s]\u001b[A\n",
            "Eval:  66%|██████▌   | 41/62 [00:03<00:01, 12.68it/s]\u001b[A\n",
            "Eval:  69%|██████▉   | 43/62 [00:03<00:01, 12.71it/s]\u001b[A\n",
            "Eval:  73%|███████▎  | 45/62 [00:03<00:01, 12.87it/s]\u001b[A\n",
            "Eval:  76%|███████▌  | 47/62 [00:03<00:01, 12.78it/s]\u001b[A\n",
            "Eval:  79%|███████▉  | 49/62 [00:03<00:01, 12.65it/s]\u001b[A\n",
            "Eval:  82%|████████▏ | 51/62 [00:03<00:00, 12.81it/s]\u001b[A\n",
            "Eval:  85%|████████▌ | 53/62 [00:04<00:00, 12.66it/s]\u001b[A\n",
            "Eval:  89%|████████▊ | 55/62 [00:04<00:00, 12.82it/s]\u001b[A\n",
            "Eval:  92%|█████████▏| 57/62 [00:04<00:00, 13.01it/s]\u001b[A\n",
            "Eval:  95%|█████████▌| 59/62 [00:04<00:00, 13.29it/s]\u001b[A\n",
            "Eval:  98%|█████████▊| 61/62 [00:04<00:00, 13.05it/s]\u001b[A\n",
            "                                                     \u001b[A"
          ]
        },
        {
          "metadata": {
            "tags": null
          },
          "name": "stdout",
          "output_type": "stream",
          "text": [
            "overfit?\n"
          ]
        },
        {
          "metadata": {
            "tags": null
          },
          "name": "stderr",
          "output_type": "stream",
          "text": [
            "Epoch 0:  80%|███████▉  | 10848/13562 [25:45<06:23,  7.08batch/s, loss=0.00438]\n",
            "Eval:   0%|          | 0/62 [00:00<?, ?it/s]\u001b[A\n",
            "Eval:   2%|▏         | 1/62 [00:00<00:10,  5.95it/s]\u001b[A\n",
            "Eval:   5%|▍         | 3/62 [00:00<00:05,  9.93it/s]\u001b[A\n",
            "Eval:   8%|▊         | 5/62 [00:00<00:04, 11.60it/s]\u001b[A\n",
            "Eval:  11%|█▏        | 7/62 [00:00<00:04, 12.57it/s]\u001b[A\n",
            "Eval:  15%|█▍        | 9/62 [00:00<00:04, 12.83it/s]\u001b[A\n",
            "Eval:  18%|█▊        | 11/62 [00:00<00:03, 13.09it/s]\u001b[A\n",
            "Eval:  21%|██        | 13/62 [00:01<00:03, 12.75it/s]\u001b[A\n",
            "Eval:  24%|██▍       | 15/62 [00:01<00:03, 13.28it/s]\u001b[A\n",
            "Eval:  27%|██▋       | 17/62 [00:01<00:03, 13.24it/s]\u001b[A\n",
            "Eval:  31%|███       | 19/62 [00:01<00:03, 13.52it/s]\u001b[A\n",
            "Eval:  34%|███▍      | 21/62 [00:01<00:03, 13.66it/s]\u001b[A\n",
            "Eval:  37%|███▋      | 23/62 [00:01<00:02, 13.74it/s]\u001b[A\n",
            "Eval:  40%|████      | 25/62 [00:01<00:02, 13.48it/s]\u001b[A\n",
            "Eval:  44%|████▎     | 27/62 [00:02<00:02, 13.53it/s]\u001b[A\n",
            "Eval:  47%|████▋     | 29/62 [00:02<00:02, 13.71it/s]\u001b[A\n",
            "Eval:  50%|█████     | 31/62 [00:02<00:02, 13.74it/s]\u001b[A\n",
            "Eval:  53%|█████▎    | 33/62 [00:02<00:02, 13.33it/s]\u001b[A\n",
            "Eval:  56%|█████▋    | 35/62 [00:02<00:02, 12.93it/s]\u001b[A\n",
            "Eval:  60%|█████▉    | 37/62 [00:02<00:01, 12.86it/s]\u001b[A\n",
            "Eval:  63%|██████▎   | 39/62 [00:03<00:01, 12.80it/s]\u001b[A\n",
            "Eval:  66%|██████▌   | 41/62 [00:03<00:01, 12.67it/s]\u001b[A\n",
            "Eval:  69%|██████▉   | 43/62 [00:03<00:01, 12.71it/s]\u001b[A\n",
            "Eval:  73%|███████▎  | 45/62 [00:03<00:01, 12.85it/s]\u001b[A\n",
            "Eval:  76%|███████▌  | 47/62 [00:03<00:01, 12.84it/s]\u001b[A\n",
            "Eval:  79%|███████▉  | 49/62 [00:03<00:01, 12.80it/s]\u001b[A\n",
            "Eval:  82%|████████▏ | 51/62 [00:03<00:00, 12.86it/s]\u001b[A\n",
            "Eval:  85%|████████▌ | 53/62 [00:04<00:00, 12.73it/s]\u001b[A\n",
            "Eval:  89%|████████▊ | 55/62 [00:04<00:00, 12.86it/s]\u001b[A\n",
            "Eval:  92%|█████████▏| 57/62 [00:04<00:00, 12.97it/s]\u001b[A\n",
            "Eval:  95%|█████████▌| 59/62 [00:04<00:00, 13.24it/s]\u001b[A\n",
            "Eval:  98%|█████████▊| 61/62 [00:04<00:00, 13.07it/s]\u001b[A\n",
            "                                                     \u001b[A"
          ]
        },
        {
          "metadata": {
            "tags": null
          },
          "name": "stdout",
          "output_type": "stream",
          "text": [
            "Acc for model which have lower valid loss:  0.9787886532072578\n"
          ]
        },
        {
          "metadata": {
            "tags": null
          },
          "name": "stderr",
          "output_type": "stream",
          "text": [
            "Epoch 0:  90%|████████▉ | 12204/13562 [28:59<03:10,  7.12batch/s, loss=0.0742]\n",
            "Eval:   0%|          | 0/62 [00:00<?, ?it/s]\u001b[A\n",
            "Eval:   2%|▏         | 1/62 [00:00<00:09,  6.29it/s]\u001b[A\n",
            "Eval:   5%|▍         | 3/62 [00:00<00:05, 10.30it/s]\u001b[A\n",
            "Eval:   8%|▊         | 5/62 [00:00<00:04, 11.89it/s]\u001b[A\n",
            "Eval:  11%|█▏        | 7/62 [00:00<00:04, 12.80it/s]\u001b[A\n",
            "Eval:  15%|█▍        | 9/62 [00:00<00:04, 12.95it/s]\u001b[A\n",
            "Eval:  18%|█▊        | 11/62 [00:00<00:03, 13.22it/s]\u001b[A\n",
            "Eval:  21%|██        | 13/62 [00:01<00:03, 13.27it/s]\u001b[A\n",
            "Eval:  24%|██▍       | 15/62 [00:01<00:03, 13.58it/s]\u001b[A\n",
            "Eval:  27%|██▋       | 17/62 [00:01<00:03, 13.54it/s]\u001b[A\n",
            "Eval:  31%|███       | 19/62 [00:01<00:03, 13.75it/s]\u001b[A\n",
            "Eval:  34%|███▍      | 21/62 [00:01<00:02, 13.84it/s]\u001b[A\n",
            "Eval:  37%|███▋      | 23/62 [00:01<00:02, 13.91it/s]\u001b[A\n",
            "Eval:  40%|████      | 25/62 [00:01<00:02, 13.64it/s]\u001b[A\n",
            "Eval:  44%|████▎     | 27/62 [00:02<00:02, 13.61it/s]\u001b[A\n",
            "Eval:  47%|████▋     | 29/62 [00:02<00:02, 13.81it/s]\u001b[A\n",
            "Eval:  50%|█████     | 31/62 [00:02<00:02, 13.84it/s]\u001b[A\n",
            "Eval:  53%|█████▎    | 33/62 [00:02<00:02, 13.46it/s]\u001b[A\n",
            "Eval:  56%|█████▋    | 35/62 [00:02<00:02, 13.19it/s]\u001b[A\n",
            "Eval:  60%|█████▉    | 37/62 [00:02<00:01, 13.13it/s]\u001b[A\n",
            "Eval:  63%|██████▎   | 39/62 [00:02<00:01, 12.93it/s]\u001b[A\n",
            "Eval:  66%|██████▌   | 41/62 [00:03<00:01, 12.79it/s]\u001b[A\n",
            "Eval:  69%|██████▉   | 43/62 [00:03<00:01, 12.82it/s]\u001b[A\n",
            "Eval:  73%|███████▎  | 45/62 [00:03<00:01, 12.98it/s]\u001b[A\n",
            "Eval:  76%|███████▌  | 47/62 [00:03<00:01, 12.89it/s]\u001b[A\n",
            "Eval:  79%|███████▉  | 49/62 [00:03<00:01, 12.83it/s]\u001b[A\n",
            "Eval:  82%|████████▏ | 51/62 [00:03<00:00, 12.88it/s]\u001b[A\n",
            "Eval:  85%|████████▌ | 53/62 [00:04<00:00, 12.69it/s]\u001b[A\n",
            "Eval:  89%|████████▊ | 55/62 [00:04<00:00, 12.86it/s]\u001b[A\n",
            "Eval:  92%|█████████▏| 57/62 [00:04<00:00, 13.01it/s]\u001b[A\n",
            "Eval:  95%|█████████▌| 59/62 [00:04<00:00, 13.24it/s]\u001b[A\n",
            "Eval:  98%|█████████▊| 61/62 [00:04<00:00, 12.97it/s]\u001b[A\n",
            "                                                     \u001b[A"
          ]
        },
        {
          "metadata": {
            "tags": null
          },
          "name": "stdout",
          "output_type": "stream",
          "text": [
            "Acc for model which have lower valid loss:  0.9808331203680041\n"
          ]
        },
        {
          "metadata": {
            "tags": null
          },
          "name": "stderr",
          "output_type": "stream",
          "text": [
            "Epoch 0: 100%|█████████▉| 13560/13562 [32:13<00:00,  7.17batch/s, loss=0.0418]\n",
            "Eval:   0%|          | 0/62 [00:00<?, ?it/s]\u001b[A\n",
            "Eval:   2%|▏         | 1/62 [00:00<00:09,  6.48it/s]\u001b[A\n",
            "Eval:   5%|▍         | 3/62 [00:00<00:05, 10.69it/s]\u001b[A\n",
            "Eval:   8%|▊         | 5/62 [00:00<00:04, 12.17it/s]\u001b[A\n",
            "Eval:  11%|█▏        | 7/62 [00:00<00:04, 12.92it/s]\u001b[A\n",
            "Eval:  15%|█▍        | 9/62 [00:00<00:04, 13.06it/s]\u001b[A\n",
            "Eval:  18%|█▊        | 11/62 [00:00<00:03, 13.35it/s]\u001b[A\n",
            "Eval:  21%|██        | 13/62 [00:01<00:03, 13.19it/s]\u001b[A\n",
            "Eval:  24%|██▍       | 15/62 [00:01<00:03, 13.55it/s]\u001b[A\n",
            "Eval:  27%|██▋       | 17/62 [00:01<00:03, 13.40it/s]\u001b[A\n",
            "Eval:  31%|███       | 19/62 [00:01<00:03, 13.78it/s]\u001b[A\n",
            "Eval:  34%|███▍      | 21/62 [00:01<00:02, 13.81it/s]\u001b[A\n",
            "Eval:  37%|███▋      | 23/62 [00:01<00:02, 13.95it/s]\u001b[A\n",
            "Eval:  40%|████      | 25/62 [00:01<00:02, 13.69it/s]\u001b[A\n",
            "Eval:  44%|████▎     | 27/62 [00:02<00:02, 13.64it/s]\u001b[A\n",
            "Eval:  47%|████▋     | 29/62 [00:02<00:02, 13.80it/s]\u001b[A\n",
            "Eval:  50%|█████     | 31/62 [00:02<00:02, 13.77it/s]\u001b[A\n",
            "Eval:  53%|█████▎    | 33/62 [00:02<00:02, 13.34it/s]\u001b[A\n",
            "Eval:  56%|█████▋    | 35/62 [00:02<00:02, 12.95it/s]\u001b[A\n",
            "Eval:  60%|█████▉    | 37/62 [00:02<00:01, 12.99it/s]\u001b[A\n",
            "Eval:  63%|██████▎   | 39/62 [00:02<00:01, 12.86it/s]\u001b[A\n",
            "Eval:  66%|██████▌   | 41/62 [00:03<00:01, 12.74it/s]\u001b[A\n",
            "Eval:  69%|██████▉   | 43/62 [00:03<00:01, 12.71it/s]\u001b[A\n",
            "Eval:  73%|███████▎  | 45/62 [00:03<00:01, 12.88it/s]\u001b[A\n",
            "Eval:  76%|███████▌  | 47/62 [00:03<00:01, 12.83it/s]\u001b[A\n",
            "Eval:  79%|███████▉  | 49/62 [00:03<00:01, 12.80it/s]\u001b[A\n",
            "Eval:  82%|████████▏ | 51/62 [00:03<00:00, 12.88it/s]\u001b[A\n",
            "Eval:  85%|████████▌ | 53/62 [00:04<00:00, 12.68it/s]\u001b[A\n",
            "Eval:  89%|████████▊ | 55/62 [00:04<00:00, 12.76it/s]\u001b[A\n",
            "Eval:  92%|█████████▏| 57/62 [00:04<00:00, 12.96it/s]\u001b[A\n",
            "Eval:  95%|█████████▌| 59/62 [00:04<00:00, 13.23it/s]\u001b[A\n",
            "Eval:  98%|█████████▊| 61/62 [00:04<00:00, 13.01it/s]\u001b[A\n",
            "                                                     \u001b[A"
          ]
        },
        {
          "metadata": {
            "tags": null
          },
          "name": "stdout",
          "output_type": "stream",
          "text": [
            "overfit?\n"
          ]
        },
        {
          "metadata": {
            "tags": null
          },
          "name": "stderr",
          "output_type": "stream",
          "text": [
            "Epoch 0: 100%|██████████| 13562/13562 [32:19<00:00,  6.99batch/s, loss=0.0197]\n",
            "Epoch 1:  10%|▉         | 1356/13562 [03:08<27:50,  7.31batch/s, loss=0.0948]\n",
            "Eval:   0%|          | 0/62 [00:00<?, ?it/s]\u001b[A\n",
            "Eval:   2%|▏         | 1/62 [00:00<00:09,  6.14it/s]\u001b[A\n",
            "Eval:   5%|▍         | 3/62 [00:00<00:05, 10.44it/s]\u001b[A\n",
            "Eval:   8%|▊         | 5/62 [00:00<00:04, 11.92it/s]\u001b[A\n",
            "Eval:  11%|█▏        | 7/62 [00:00<00:04, 12.81it/s]\u001b[A\n",
            "Eval:  15%|█▍        | 9/62 [00:00<00:04, 12.91it/s]\u001b[A\n",
            "Eval:  18%|█▊        | 11/62 [00:00<00:03, 13.17it/s]\u001b[A\n",
            "Eval:  21%|██        | 13/62 [00:01<00:03, 13.03it/s]\u001b[A\n",
            "Eval:  24%|██▍       | 15/62 [00:01<00:03, 13.47it/s]\u001b[A\n",
            "Eval:  27%|██▋       | 17/62 [00:01<00:03, 13.31it/s]\u001b[A\n",
            "Eval:  31%|███       | 19/62 [00:01<00:03, 13.58it/s]\u001b[A\n",
            "Eval:  34%|███▍      | 21/62 [00:01<00:02, 13.74it/s]\u001b[A\n",
            "Eval:  37%|███▋      | 23/62 [00:01<00:02, 13.84it/s]\u001b[A\n",
            "Eval:  40%|████      | 25/62 [00:01<00:02, 13.65it/s]\u001b[A\n",
            "Eval:  44%|████▎     | 27/62 [00:02<00:02, 13.64it/s]\u001b[A\n",
            "Eval:  47%|████▋     | 29/62 [00:02<00:02, 13.86it/s]\u001b[A\n",
            "Eval:  50%|█████     | 31/62 [00:02<00:02, 13.74it/s]\u001b[A\n",
            "Eval:  53%|█████▎    | 33/62 [00:02<00:02, 13.39it/s]\u001b[A\n",
            "Eval:  56%|█████▋    | 35/62 [00:02<00:02, 13.04it/s]\u001b[A\n",
            "Eval:  60%|█████▉    | 37/62 [00:02<00:01, 12.99it/s]\u001b[A\n",
            "Eval:  63%|██████▎   | 39/62 [00:02<00:01, 12.81it/s]\u001b[A\n",
            "Eval:  66%|██████▌   | 41/62 [00:03<00:01, 12.62it/s]\u001b[A\n",
            "Eval:  69%|██████▉   | 43/62 [00:03<00:01, 12.57it/s]\u001b[A\n",
            "Eval:  73%|███████▎  | 45/62 [00:03<00:01, 12.71it/s]\u001b[A\n",
            "Eval:  76%|███████▌  | 47/62 [00:03<00:01, 12.67it/s]\u001b[A\n",
            "Eval:  79%|███████▉  | 49/62 [00:03<00:01, 12.60it/s]\u001b[A\n",
            "Eval:  82%|████████▏ | 51/62 [00:03<00:00, 12.64it/s]\u001b[A\n",
            "Eval:  85%|████████▌ | 53/62 [00:04<00:00, 12.51it/s]\u001b[A\n",
            "Eval:  89%|████████▊ | 55/62 [00:04<00:00, 12.69it/s]\u001b[A\n",
            "Eval:  92%|█████████▏| 57/62 [00:04<00:00, 12.80it/s]\u001b[A\n",
            "Eval:  95%|█████████▌| 59/62 [00:04<00:00, 13.10it/s]\u001b[A\n",
            "Eval:  98%|█████████▊| 61/62 [00:04<00:00, 12.89it/s]\u001b[A\n",
            "                                                     \u001b[A"
          ]
        },
        {
          "metadata": {
            "tags": null
          },
          "name": "stdout",
          "output_type": "stream",
          "text": [
            "overfit?\n"
          ]
        },
        {
          "metadata": {
            "tags": null
          },
          "name": "stderr",
          "output_type": "stream",
          "text": [
            "Epoch 1:  20%|█▉        | 2712/13562 [06:22<26:05,  6.93batch/s, loss=0.00469]\n",
            "Eval:   0%|          | 0/62 [00:00<?, ?it/s]\u001b[A\n",
            "Eval:   2%|▏         | 1/62 [00:00<00:09,  6.41it/s]\u001b[A\n",
            "Eval:   5%|▍         | 3/62 [00:00<00:05, 10.62it/s]\u001b[A\n",
            "Eval:   8%|▊         | 5/62 [00:00<00:04, 12.09it/s]\u001b[A\n",
            "Eval:  11%|█▏        | 7/62 [00:00<00:04, 12.91it/s]\u001b[A\n",
            "Eval:  15%|█▍        | 9/62 [00:00<00:04, 12.99it/s]\u001b[A\n",
            "Eval:  18%|█▊        | 11/62 [00:00<00:03, 13.23it/s]\u001b[A\n",
            "Eval:  21%|██        | 13/62 [00:01<00:03, 12.99it/s]\u001b[A\n",
            "Eval:  24%|██▍       | 15/62 [00:01<00:03, 13.46it/s]\u001b[A\n",
            "Eval:  27%|██▋       | 17/62 [00:01<00:03, 13.37it/s]\u001b[A\n",
            "Eval:  31%|███       | 19/62 [00:01<00:03, 13.63it/s]\u001b[A\n",
            "Eval:  34%|███▍      | 21/62 [00:01<00:02, 13.81it/s]\u001b[A\n",
            "Eval:  37%|███▋      | 23/62 [00:01<00:02, 13.90it/s]\u001b[A\n",
            "Eval:  40%|████      | 25/62 [00:01<00:02, 13.69it/s]\u001b[A\n",
            "Eval:  44%|████▎     | 27/62 [00:02<00:02, 13.70it/s]\u001b[A\n",
            "Eval:  47%|████▋     | 29/62 [00:02<00:02, 13.90it/s]\u001b[A\n",
            "Eval:  50%|█████     | 31/62 [00:02<00:02, 13.85it/s]\u001b[A\n",
            "Eval:  53%|█████▎    | 33/62 [00:02<00:02, 13.43it/s]\u001b[A\n",
            "Eval:  56%|█████▋    | 35/62 [00:02<00:02, 13.05it/s]\u001b[A\n",
            "Eval:  60%|█████▉    | 37/62 [00:02<00:01, 12.98it/s]\u001b[A\n",
            "Eval:  63%|██████▎   | 39/62 [00:02<00:01, 12.73it/s]\u001b[A\n",
            "Eval:  66%|██████▌   | 41/62 [00:03<00:01, 12.54it/s]\u001b[A\n",
            "Eval:  69%|██████▉   | 43/62 [00:03<00:01, 12.43it/s]\u001b[A\n",
            "Eval:  73%|███████▎  | 45/62 [00:03<00:01, 12.60it/s]\u001b[A\n",
            "Eval:  76%|███████▌  | 47/62 [00:03<00:01, 12.67it/s]\u001b[A\n",
            "Eval:  79%|███████▉  | 49/62 [00:03<00:01, 12.73it/s]\u001b[A\n",
            "Eval:  82%|████████▏ | 51/62 [00:03<00:00, 12.81it/s]\u001b[A\n",
            "Eval:  85%|████████▌ | 53/62 [00:04<00:00, 12.72it/s]\u001b[A\n",
            "Eval:  89%|████████▊ | 55/62 [00:04<00:00, 12.82it/s]\u001b[A\n",
            "Eval:  92%|█████████▏| 57/62 [00:04<00:00, 12.92it/s]\u001b[A\n",
            "Eval:  95%|█████████▌| 59/62 [00:04<00:00, 13.16it/s]\u001b[A\n",
            "Eval:  98%|█████████▊| 61/62 [00:04<00:00, 13.01it/s]\u001b[A\n",
            "                                                     \u001b[A"
          ]
        },
        {
          "metadata": {
            "tags": null
          },
          "name": "stdout",
          "output_type": "stream",
          "text": [
            "overfit?\n"
          ]
        },
        {
          "output_type": "stream",
          "name": "stderr",
          "text": [
            "Epoch 1:  30%|██▉       | 4068/13562 [09:36<22:00,  7.19batch/s, loss=0.00531]\n",
            "Eval:   0%|          | 0/62 [00:00<?, ?it/s]\u001b[A\n",
            "Eval:   2%|▏         | 1/62 [00:00<00:10,  5.95it/s]\u001b[A\n",
            "Eval:   5%|▍         | 3/62 [00:00<00:05, 10.16it/s]\u001b[A\n",
            "Eval:   8%|▊         | 5/62 [00:00<00:04, 11.65it/s]\u001b[A\n",
            "Eval:  11%|█▏        | 7/62 [00:00<00:04, 12.60it/s]\u001b[A\n",
            "Eval:  15%|█▍        | 9/62 [00:00<00:04, 12.78it/s]\u001b[A\n",
            "Eval:  18%|█▊        | 11/62 [00:00<00:03, 13.15it/s]\u001b[A\n",
            "Eval:  21%|██        | 13/62 [00:01<00:03, 13.15it/s]\u001b[A\n",
            "Eval:  24%|██▍       | 15/62 [00:01<00:03, 13.55it/s]\u001b[A\n",
            "Eval:  27%|██▋       | 17/62 [00:01<00:03, 13.29it/s]\u001b[A\n",
            "Eval:  31%|███       | 19/62 [00:01<00:03, 13.56it/s]\u001b[A\n",
            "Eval:  34%|███▍      | 21/62 [00:01<00:02, 13.72it/s]\u001b[A\n",
            "Eval:  37%|███▋      | 23/62 [00:01<00:02, 13.83it/s]\u001b[A\n",
            "Eval:  40%|████      | 25/62 [00:01<00:02, 13.63it/s]\u001b[A\n",
            "Eval:  44%|████▎     | 27/62 [00:02<00:02, 13.58it/s]\u001b[A\n",
            "Eval:  47%|████▋     | 29/62 [00:02<00:02, 13.83it/s]\u001b[A\n",
            "Eval:  50%|█████     | 31/62 [00:02<00:02, 13.84it/s]\u001b[A\n",
            "Eval:  53%|█████▎    | 33/62 [00:02<00:02, 13.49it/s]\u001b[A\n",
            "Eval:  56%|█████▋    | 35/62 [00:02<00:02, 13.11it/s]\u001b[A\n",
            "Eval:  60%|█████▉    | 37/62 [00:02<00:01, 13.06it/s]\u001b[A\n",
            "Eval:  63%|██████▎   | 39/62 [00:02<00:01, 12.87it/s]\u001b[A\n",
            "Eval:  66%|██████▌   | 41/62 [00:03<00:01, 12.71it/s]\u001b[A\n",
            "Eval:  69%|██████▉   | 43/62 [00:03<00:01, 12.53it/s]\u001b[A\n",
            "Eval:  73%|███████▎  | 45/62 [00:03<00:01, 12.71it/s]\u001b[A\n",
            "Eval:  76%|███████▌  | 47/62 [00:03<00:01, 12.74it/s]\u001b[A\n",
            "Eval:  79%|███████▉  | 49/62 [00:03<00:01, 12.70it/s]\u001b[A\n",
            "Eval:  82%|████████▏ | 51/62 [00:03<00:00, 12.65it/s]\u001b[A\n",
            "Eval:  85%|████████▌ | 53/62 [00:04<00:00, 12.50it/s]\u001b[A\n",
            "Eval:  89%|████████▊ | 55/62 [00:04<00:00, 12.73it/s]\u001b[A\n",
            "Eval:  92%|█████████▏| 57/62 [00:04<00:00, 12.85it/s]\u001b[A\n",
            "Eval:  95%|█████████▌| 59/62 [00:04<00:00, 13.12it/s]\u001b[A\n",
            "Eval:  98%|█████████▊| 61/62 [00:04<00:00, 12.86it/s]\u001b[A\n",
            "                                                     \u001b[A"
          ]
        },
        {
          "output_type": "stream",
          "name": "stdout",
          "text": [
            "overfit?\n",
            "Oops\n"
          ]
        },
        {
          "output_type": "stream",
          "name": "stderr",
          "text": [
            "Epoch 1:  30%|███       | 4069/13562 [09:42<22:38,  6.99batch/s, loss=0.00531]  \n"
          ]
        }
      ],
      "source": [
        "train_epoch = 3\n",
        "lowest_valid_loss = 9999.\n",
        "validation_loss = []\n",
        "accuracy = []\n",
        "patience=6\n",
        "early_stop=False\n",
        "for epoch in range(train_epoch):\n",
        "    if early_stop:\n",
        "        break\n",
        "    with tqdm(train_loader, unit=\"batch\") as tepoch:\n",
        "        for iteration, (input_ids, attention_mask, token_type_ids, position_ids, labels) in enumerate(tepoch):\n",
        "            if early_stop:\n",
        "                break\n",
        "            tepoch.set_description(f\"Epoch {epoch}\")\n",
        "            input_ids = input_ids.to(device)\n",
        "            attention_mask = attention_mask.to(device)\n",
        "            token_type_ids = token_type_ids.to(device)\n",
        "            position_ids = position_ids.to(device)\n",
        "            labels = labels.to(device, dtype=torch.long)\n",
        "            optimizer.zero_grad()\n",
        "\n",
        "            output = model(input_ids=input_ids,\n",
        "                           attention_mask=attention_mask,\n",
        "                           token_type_ids=token_type_ids,\n",
        "                           position_ids=position_ids,\n",
        "                           labels=labels)\n",
        "\n",
        "            loss = output.loss\n",
        "            loss.backward()\n",
        "\n",
        "            optimizer.step()\n",
        "\n",
        "            tepoch.set_postfix(loss=loss.item())\n",
        "            if iteration != 0 and iteration % int(len(train_loader) / 10) == 0:\n",
        "                # Evaluate the model five times per epoch\n",
        "                with torch.no_grad():\n",
        "                    model.eval()\n",
        "                    valid_losses = []\n",
        "                    predictions = []\n",
        "                    target_labels = []\n",
        "                    for input_ids, attention_mask, token_type_ids, position_ids, labels in tqdm(dev_loader,\n",
        "                                                                                                desc='Eval',\n",
        "                                                                                                position=1,\n",
        "                                                                                                leave=None):\n",
        "                        input_ids = input_ids.to(device)\n",
        "                        attention_mask = attention_mask.to(device)\n",
        "                        token_type_ids = token_type_ids.to(device)\n",
        "                        position_ids = position_ids.to(device)\n",
        "                        labels = labels.to(device, dtype=torch.long)\n",
        "\n",
        "                        output = model(input_ids=input_ids,\n",
        "                                       attention_mask=attention_mask,\n",
        "                                       token_type_ids=token_type_ids,\n",
        "                                       position_ids=position_ids,\n",
        "                                       labels=labels)\n",
        "\n",
        "                        logits = output.logits\n",
        "                        loss = output.loss\n",
        "                        valid_losses.append(loss.item())\n",
        "\n",
        "                        batch_predictions = [0 if example[0] > example[1] else 1 for example in logits]\n",
        "                        batch_labels = [int(example) for example in labels]\n",
        "\n",
        "                        predictions += batch_predictions\n",
        "                        target_labels += batch_labels\n",
        "\n",
        "                acc = compute_acc(predictions, target_labels)\n",
        "                valid_loss = sum(valid_losses) / len(valid_losses)\n",
        "                accuracy.append(acc)\n",
        "                validation_loss.append(valid_loss)\n",
        "                if lowest_valid_loss > valid_loss:\n",
        "                    lowest_valid_loss=valid_loss\n",
        "                    print('Acc for model which have lower valid loss: ', acc)\n",
        "                else:\n",
        "                    patience-=1  \n",
        "                    print(\"overfit?\")  \n",
        "                    if patience<0:\n",
        "                        print(\"Oops\")\n",
        "                        early_stop=True\n",
        "                \n",
        "                torch.save(model.state_dict(), \"./pytorch_model.bin\")\n"
      ]
    },
    {
      "cell_type": "code",
      "execution_count": 44,
      "metadata": {
        "colab": {
          "base_uri": "https://localhost:8080/",
          "height": 350
        },
        "id": "-hvJEETmbbhk",
        "outputId": "011d0d67-f4cd-4644-c5e0-4a5182ef536f"
      },
      "outputs": [
        {
          "output_type": "display_data",
          "data": {
            "text/plain": [
              "<Figure size 1080x360 with 2 Axes>"
            ],
            "image/png": "[encoded data removed]"
          },
          "metadata": {
            "needs_background": "light"
          }
        }
      ],
      "source": [
        "# visualization\n",
        "import matplotlib.pyplot as plt\n",
        "\n",
        "plt.figure(figsize=(15,5))\n",
        "plt.subplot(1, 2, 1)     \n",
        "plt.plot(accuracy, label=' Training acc ', color ='b')\n",
        "plt.title('Training accuracy')\n",
        "plt.xlabel('Iteration')\n",
        "plt.ylabel('Accuracy')\n",
        "plt.legend(loc='lower right')\n",
        "\n",
        "plt.subplot(1, 2, 2) \n",
        "plt.plot(validation_loss, label=' Validation loss ', color = 'r')\n",
        "plt.title('Validation loss')\n",
        "plt.xlabel('Iteration')\n",
        "plt.ylabel('Loss')\n",
        "plt.legend(loc='lower right')\n",
        "\n",
        "plt.show()"
      ]
    },
    {
      "cell_type": "code",
      "execution_count": 45,
      "metadata": {
        "id": "P95gtlnurvgX"
      },
      "outputs": [],
      "source": [
        "import pandas as pd\n",
        "test_df = pd.read_csv('./test_no_label.csv')"
      ]
    },
    {
      "cell_type": "code",
      "execution_count": 46,
      "metadata": {
        "id": "cLDzC10ErvgX"
      },
      "outputs": [],
      "source": [
        "test_dataset = test_df['Id']"
      ]
    },
    {
      "cell_type": "code",
      "execution_count": 47,
      "metadata": {
        "id": "jnt693N0rvgX"
      },
      "outputs": [],
      "source": [
        "def make_id_file_test(tokenizer, test_dataset):\n",
        "    data_strings = []\n",
        "    id_file_data = [tokenizer.encode(sent.lower()) for sent in test_dataset]\n",
        "    for item in id_file_data:\n",
        "        data_strings.append(' '.join([str(k) for k in item]))\n",
        "    return data_strings"
      ]
    },
    {
      "cell_type": "code",
      "execution_count": 48,
      "metadata": {
        "id": "7C5PpXtlrvgY"
      },
      "outputs": [],
      "source": [
        "test = make_id_file_test(tokenizer, test_dataset)"
      ]
    },
    {
      "cell_type": "code",
      "execution_count": 49,
      "metadata": {
        "colab": {
          "base_uri": "https://localhost:8080/"
        },
        "id": "1aqse7SHrvgY",
        "outputId": "021a5180-ec1c-47ff-c042-1961561e7c5a"
      },
      "outputs": [
        {
          "output_type": "execute_result",
          "data": {
            "text/plain": [
              "['101 2009 1005 1055 1037 2878 2047 3325 1998 2047 26389 2169 2051 2017 2175 1012 102',\n",
              " '101 2061 15640 2013 2019 2214 5440 1012 102',\n",
              " '101 2009 2003 1996 2087 14469 7273 1999 1996 3028 1012 102',\n",
              " '101 2079 2025 3696 1037 10084 2007 2122 2111 1012 102',\n",
              " '101 1045 2001 6091 1998 2016 2081 2033 2514 2061 6625 1998 6160 1012 102',\n",
              " '101 1996 2069 2518 2057 2363 2008 2001 2980 2001 1996 4157 1012 102',\n",
              " '101 2053 1010 2025 1996 3924 2012 2004 2226 1010 1996 3924 1999 3502 2152 1012 102',\n",
              " '101 2027 3288 2009 2041 2392 2005 2017 1998 2024 2200 14044 1012 102',\n",
              " '101 4606 1996 12043 2106 1050 1005 1056 2130 2113 2129 2000 2147 1996 3274 1012 102',\n",
              " '101 2027 2031 2019 6581 4989 1997 25025 2015 2000 5454 2013 1012 102']"
            ]
          },
          "metadata": {},
          "execution_count": 49
        }
      ],
      "source": [
        "test[:10]"
      ]
    },
    {
      "cell_type": "code",
      "execution_count": 50,
      "metadata": {
        "id": "cZi14gnnrvgY"
      },
      "outputs": [],
      "source": [
        "class SentimentTestDataset(object):\n",
        "    def __init__(self, tokenizer, test):\n",
        "        self.tokenizer = tokenizer\n",
        "        self.data = []\n",
        "\n",
        "        for sent in test:\n",
        "            self.data += [self._cast_to_int(sent.strip().split())]\n",
        "\n",
        "    def _cast_to_int(self, sample):\n",
        "        return [int(word_id) for word_id in sample]\n",
        "\n",
        "    def __len__(self):\n",
        "        return len(self.data)\n",
        "\n",
        "    def __getitem__(self, index):\n",
        "        sample = self.data[index]\n",
        "        return np.array(sample)"
      ]
    },
    {
      "cell_type": "code",
      "execution_count": 51,
      "metadata": {
        "id": "erHjGE9rrvgY"
      },
      "outputs": [],
      "source": [
        "test_dataset = SentimentTestDataset(tokenizer, test)"
      ]
    },
    {
      "cell_type": "code",
      "execution_count": 52,
      "metadata": {
        "id": "y03-nDX9rvgZ"
      },
      "outputs": [],
      "source": [
        "def collate_fn_style_test(samples):\n",
        "    input_ids = samples\n",
        "    max_len = max(len(input_id) for input_id in input_ids)\n",
        "\n",
        "    input_ids = pad_sequence([torch.tensor(input_ids[index]) for index in range(len(samples))],\n",
        "                             batch_first=True)\n",
        "    attention_mask = torch.tensor(\n",
        "        [[1] * len(input_ids[index]) + [0] * (max_len - len(input_ids[index])) for index in range(len(samples))])\n",
        "    token_type_ids = torch.tensor([[0] * len(input_ids[index]) for index in range(len(samples))])\n",
        "    position_ids = torch.tensor([list(range(len(input_ids[index]))) for index in range(len(samples))])\n",
        "\n",
        "    return input_ids, attention_mask, token_type_ids, position_ids"
      ]
    },
    {
      "cell_type": "code",
      "execution_count": 53,
      "metadata": {
        "id": "gZ0l1HparvgZ"
      },
      "outputs": [],
      "source": [
        "test_batch_size = 32\n",
        "test_loader = torch.utils.data.DataLoader(test_dataset, batch_size=test_batch_size,\n",
        "                                          shuffle=False, collate_fn=collate_fn_style_test,\n",
        "                                          num_workers=2)"
      ]
    },
    {
      "cell_type": "code",
      "execution_count": 54,
      "metadata": {
        "colab": {
          "base_uri": "https://localhost:8080/"
        },
        "id": "XoSHTbJUrvgZ",
        "outputId": "867b5c95-0483-4b07-add2-5fb9a98f12f0"
      },
      "outputs": [
        {
          "output_type": "stream",
          "name": "stderr",
          "text": [
            "\n",
            "Test:   0%|          | 0/32 [00:00<?, ?it/s]\u001b[A\n",
            "Test:   3%|▎         | 1/32 [00:00<00:05,  6.20it/s]\u001b[A\n",
            "Test:   9%|▉         | 3/32 [00:00<00:02, 12.19it/s]\u001b[A\n",
            "Test:  19%|█▉        | 6/32 [00:00<00:01, 16.13it/s]\u001b[A\n",
            "Test:  28%|██▊       | 9/32 [00:00<00:01, 19.69it/s]\u001b[A\n",
            "Test:  38%|███▊      | 12/32 [00:00<00:00, 21.82it/s]\u001b[A\n",
            "Test:  47%|████▋     | 15/32 [00:00<00:00, 23.98it/s]\u001b[A\n",
            "Test:  56%|█████▋    | 18/32 [00:00<00:00, 25.39it/s]\u001b[A\n",
            "Test:  66%|██████▌   | 21/32 [00:00<00:00, 26.21it/s]\u001b[A\n",
            "Test:  75%|███████▌  | 24/32 [00:01<00:00, 27.12it/s]\u001b[A\n",
            "Test:  84%|████████▍ | 27/32 [00:01<00:00, 27.65it/s]\u001b[A\n",
            "Test:  94%|█████████▍| 30/32 [00:01<00:00, 27.31it/s]\u001b[A\n",
            "                                                     \u001b[A"
          ]
        }
      ],
      "source": [
        "with torch.no_grad():\n",
        "    model.eval()\n",
        "    predictions = []\n",
        "    for input_ids, attention_mask, token_type_ids, position_ids in tqdm(test_loader,\n",
        "                                                                        desc='Test',\n",
        "                                                                        position=1,\n",
        "                                                                        leave=None):\n",
        "\n",
        "        input_ids = input_ids.to(device)\n",
        "        attention_mask = attention_mask.to(device)\n",
        "        token_type_ids = token_type_ids.to(device)\n",
        "        position_ids = position_ids.to(device)\n",
        "\n",
        "        output = model(input_ids=input_ids,\n",
        "                       attention_mask=attention_mask,\n",
        "                       token_type_ids=token_type_ids,\n",
        "                       position_ids=position_ids)\n",
        "\n",
        "        logits = output.logits\n",
        "        logits = [torch.argmax(example).cpu().numpy() for example in logits]\n",
        "        predictions += logits"
      ]
    },
    {
      "cell_type": "code",
      "execution_count": 55,
      "metadata": {
        "id": "tGO3aS-VrvgZ"
      },
      "outputs": [],
      "source": [
        "test_df['Category'] = predictions"
      ]
    },
    {
      "cell_type": "code",
      "execution_count": 57,
      "metadata": {
        "id": "VndXxal3rvgZ"
      },
      "outputs": [],
      "source": [
        "test_df.to_csv('./submission.csv', index=False)"
      ]
    }
  ],
  "metadata": {
    "accelerator": "GPU",
    "colab": {
      "machine_shape": "hm",
      "provenance": []
    },
    "gpuClass": "standard",
    "kernelspec": {
      "display_name": "Python 3",
      "language": "python",
      "name": "python3"
    },
    "language_info": {
      "codemirror_mode": {
        "name": "ipython",
        "version": 3
      },
      "file_extension": ".py",
      "mimetype": "text/x-python",
      "name": "python",
      "nbconvert_exporter": "python",
      "pygments_lexer": "ipython3",
      "version": "3.6.4"
    },
    "widgets": {
      "application/vnd.jupyter.widget-state+json": {
        "5a010d7a1af6488aba2605fa5d17a7d1": {
          "model_module": "@jupyter-widgets/controls",
          "model_name": "HBoxModel",
          "model_module_version": "1.5.0",
          "state": {
            "_dom_classes": [],
            "_model_module": "@jupyter-widgets/controls",
            "_model_module_version": "1.5.0",
            "_model_name": "HBoxModel",
            "_view_count": null,
            "_view_module": "@jupyter-widgets/controls",
            "_view_module_version": "1.5.0",
            "_view_name": "HBoxView",
            "box_style": "",
            "children": [
              "IPY_MODEL_80d7669a9d774dc3b5b1b2f5669a44a5",
              "IPY_MODEL_87301c6400be49b78cc5bccde8d5edf4",
              "IPY_MODEL_e8afa0cf99014371827f92fbef551abb"
            ],
            "layout": "IPY_MODEL_2f5dacb403d94c9bbe84eedf7bb62bce"
          }
        },
        "80d7669a9d774dc3b5b1b2f5669a44a5": {
          "model_module": "@jupyter-widgets/controls",
          "model_name": "HTMLModel",
          "model_module_version": "1.5.0",
          "state": {
            "_dom_classes": [],
            "_model_module": "@jupyter-widgets/controls",
            "_model_module_version": "1.5.0",
            "_model_name": "HTMLModel",
            "_view_count": null,
            "_view_module": "@jupyter-widgets/controls",
            "_view_module_version": "1.5.0",
            "_view_name": "HTMLView",
            "description": "",
            "description_tooltip": null,
            "layout": "IPY_MODEL_eac3574a0a4c4cb5926a836640343f1c",
            "placeholder": "​",
            "style": "IPY_MODEL_9100d27331054d42bf139429aa82a75c",
            "value": "Downloading (…)solve/main/vocab.txt: 100%"
          }
        },
        "87301c6400be49b78cc5bccde8d5edf4": {
          "model_module": "@jupyter-widgets/controls",
          "model_name": "FloatProgressModel",
          "model_module_version": "1.5.0",
          "state": {
            "_dom_classes": [],
            "_model_module": "@jupyter-widgets/controls",
            "_model_module_version": "1.5.0",
            "_model_name": "FloatProgressModel",
            "_view_count": null,
            "_view_module": "@jupyter-widgets/controls",
            "_view_module_version": "1.5.0",
            "_view_name": "ProgressView",
            "bar_style": "success",
            "description": "",
            "description_tooltip": null,
            "layout": "IPY_MODEL_d6cadcf32ac649f9b016237ff302433e",
            "max": 231508,
            "min": 0,
            "orientation": "horizontal",
            "style": "IPY_MODEL_b01163cf53c747b494f72f6c70629c0e",
            "value": 231508
          }
        },
        "e8afa0cf99014371827f92fbef551abb": {
          "model_module": "@jupyter-widgets/controls",
          "model_name": "HTMLModel",
          "model_module_version": "1.5.0",
          "state": {
            "_dom_classes": [],
            "_model_module": "@jupyter-widgets/controls",
            "_model_module_version": "1.5.0",
            "_model_name": "HTMLModel",
            "_view_count": null,
            "_view_module": "@jupyter-widgets/controls",
            "_view_module_version": "1.5.0",
            "_view_name": "HTMLView",
            "description": "",
            "description_tooltip": null,
            "layout": "IPY_MODEL_617e60ec483e48bd8b5bd05ab6b187fa",
            "placeholder": "​",
            "style": "IPY_MODEL_be63485dfe0b4e9b9c115ccb675e37ee",
            "value": " 232k/232k [00:00&lt;00:00, 2.80MB/s]"
          }
        },
        "2f5dacb403d94c9bbe84eedf7bb62bce": {
          "model_module": "@jupyter-widgets/base",
          "model_name": "LayoutModel",
          "model_module_version": "1.2.0",
          "state": {
            "_model_module": "@jupyter-widgets/base",
            "_model_module_version": "1.2.0",
            "_model_name": "LayoutModel",
            "_view_count": null,
            "_view_module": "@jupyter-widgets/base",
            "_view_module_version": "1.2.0",
            "_view_name": "LayoutView",
            "align_content": null,
            "align_items": null,
            "align_self": null,
            "border": null,
            "bottom": null,
            "display": null,
            "flex": null,
            "flex_flow": null,
            "grid_area": null,
            "grid_auto_columns": null,
            "grid_auto_flow": null,
            "grid_auto_rows": null,
            "grid_column": null,
            "grid_gap": null,
            "grid_row": null,
            "grid_template_areas": null,
            "grid_template_columns": null,
            "grid_template_rows": null,
            "height": null,
            "justify_content": null,
            "justify_items": null,
            "left": null,
            "margin": null,
            "max_height": null,
            "max_width": null,
            "min_height": null,
            "min_width": null,
            "object_fit": null,
            "object_position": null,
            "order": null,
            "overflow": null,
            "overflow_x": null,
            "overflow_y": null,
            "padding": null,
            "right": null,
            "top": null,
            "visibility": null,
            "width": null
          }
        },
        "eac3574a0a4c4cb5926a836640343f1c": {
          "model_module": "@jupyter-widgets/base",
          "model_name": "LayoutModel",
          "model_module_version": "1.2.0",
          "state": {
            "_model_module": "@jupyter-widgets/base",
            "_model_module_version": "1.2.0",
            "_model_name": "LayoutModel",
            "_view_count": null,
            "_view_module": "@jupyter-widgets/base",
            "_view_module_version": "1.2.0",
            "_view_name": "LayoutView",
            "align_content": null,
            "align_items": null,
            "align_self": null,
            "border": null,
            "bottom": null,
            "display": null,
            "flex": null,
            "flex_flow": null,
            "grid_area": null,
            "grid_auto_columns": null,
            "grid_auto_flow": null,
            "grid_auto_rows": null,
            "grid_column": null,
            "grid_gap": null,
            "grid_row": null,
            "grid_template_areas": null,
            "grid_template_columns": null,
            "grid_template_rows": null,
            "height": null,
            "justify_content": null,
            "justify_items": null,
            "left": null,
            "margin": null,
            "max_height": null,
            "max_width": null,
            "min_height": null,
            "min_width": null,
            "object_fit": null,
            "object_position": null,
            "order": null,
            "overflow": null,
            "overflow_x": null,
            "overflow_y": null,
            "padding": null,
            "right": null,
            "top": null,
            "visibility": null,
            "width": null
          }
        },
        "9100d27331054d42bf139429aa82a75c": {
          "model_module": "@jupyter-widgets/controls",
          "model_name": "DescriptionStyleModel",
          "model_module_version": "1.5.0",
          "state": {
            "_model_module": "@jupyter-widgets/controls",
            "_model_module_version": "1.5.0",
            "_model_name": "DescriptionStyleModel",
            "_view_count": null,
            "_view_module": "@jupyter-widgets/base",
            "_view_module_version": "1.2.0",
            "_view_name": "StyleView",
            "description_width": ""
          }
        },
        "d6cadcf32ac649f9b016237ff302433e": {
          "model_module": "@jupyter-widgets/base",
          "model_name": "LayoutModel",
          "model_module_version": "1.2.0",
          "state": {
            "_model_module": "@jupyter-widgets/base",
            "_model_module_version": "1.2.0",
            "_model_name": "LayoutModel",
            "_view_count": null,
            "_view_module": "@jupyter-widgets/base",
            "_view_module_version": "1.2.0",
            "_view_name": "LayoutView",
            "align_content": null,
            "align_items": null,
            "align_self": null,
            "border": null,
            "bottom": null,
            "display": null,
            "flex": null,
            "flex_flow": null,
            "grid_area": null,
            "grid_auto_columns": null,
            "grid_auto_flow": null,
            "grid_auto_rows": null,
            "grid_column": null,
            "grid_gap": null,
            "grid_row": null,
            "grid_template_areas": null,
            "grid_template_columns": null,
            "grid_template_rows": null,
            "height": null,
            "justify_content": null,
            "justify_items": null,
            "left": null,
            "margin": null,
            "max_height": null,
            "max_width": null,
            "min_height": null,
            "min_width": null,
            "object_fit": null,
            "object_position": null,
            "order": null,
            "overflow": null,
            "overflow_x": null,
            "overflow_y": null,
            "padding": null,
            "right": null,
            "top": null,
            "visibility": null,
            "width": null
          }
        },
        "b01163cf53c747b494f72f6c70629c0e": {
          "model_module": "@jupyter-widgets/controls",
          "model_name": "ProgressStyleModel",
          "model_module_version": "1.5.0",
          "state": {
            "_model_module": "@jupyter-widgets/controls",
            "_model_module_version": "1.5.0",
            "_model_name": "ProgressStyleModel",
            "_view_count": null,
            "_view_module": "@jupyter-widgets/base",
            "_view_module_version": "1.2.0",
            "_view_name": "StyleView",
            "bar_color": null,
            "description_width": ""
          }
        },
        "617e60ec483e48bd8b5bd05ab6b187fa": {
          "model_module": "@jupyter-widgets/base",
          "model_name": "LayoutModel",
          "model_module_version": "1.2.0",
          "state": {
            "_model_module": "@jupyter-widgets/base",
            "_model_module_version": "1.2.0",
            "_model_name": "LayoutModel",
            "_view_count": null,
            "_view_module": "@jupyter-widgets/base",
            "_view_module_version": "1.2.0",
            "_view_name": "LayoutView",
            "align_content": null,
            "align_items": null,
            "align_self": null,
            "border": null,
            "bottom": null,
            "display": null,
            "flex": null,
            "flex_flow": null,
            "grid_area": null,
            "grid_auto_columns": null,
            "grid_auto_flow": null,
            "grid_auto_rows": null,
            "grid_column": null,
            "grid_gap": null,
            "grid_row": null,
            "grid_template_areas": null,
            "grid_template_columns": null,
            "grid_template_rows": null,
            "height": null,
            "justify_content": null,
            "justify_items": null,
            "left": null,
            "margin": null,
            "max_height": null,
            "max_width": null,
            "min_height": null,
            "min_width": null,
            "object_fit": null,
            "object_position": null,
            "order": null,
            "overflow": null,
            "overflow_x": null,
            "overflow_y": null,
            "padding": null,
            "right": null,
            "top": null,
            "visibility": null,
            "width": null
          }
        },
        "be63485dfe0b4e9b9c115ccb675e37ee": {
          "model_module": "@jupyter-widgets/controls",
          "model_name": "DescriptionStyleModel",
          "model_module_version": "1.5.0",
          "state": {
            "_model_module": "@jupyter-widgets/controls",
            "_model_module_version": "1.5.0",
            "_model_name": "DescriptionStyleModel",
            "_view_count": null,
            "_view_module": "@jupyter-widgets/base",
            "_view_module_version": "1.2.0",
            "_view_name": "StyleView",
            "description_width": ""
          }
        },
        "f16dbe0cad374704a965e096e17b5202": {
          "model_module": "@jupyter-widgets/controls",
          "model_name": "HBoxModel",
          "model_module_version": "1.5.0",
          "state": {
            "_dom_classes": [],
            "_model_module": "@jupyter-widgets/controls",
            "_model_module_version": "1.5.0",
            "_model_name": "HBoxModel",
            "_view_count": null,
            "_view_module": "@jupyter-widgets/controls",
            "_view_module_version": "1.5.0",
            "_view_name": "HBoxView",
            "box_style": "",
            "children": [
              "IPY_MODEL_d9d7b866b59341839fd6e89a1f12c01d",
              "IPY_MODEL_6a82fbed1b5a4f0288a7f934c815e76c",
              "IPY_MODEL_07ba033330b34006b5002a9c81abad30"
            ],
            "layout": "IPY_MODEL_618448baf46e4e2d9406540f0ff53dba"
          }
        },
        "d9d7b866b59341839fd6e89a1f12c01d": {
          "model_module": "@jupyter-widgets/controls",
          "model_name": "HTMLModel",
          "model_module_version": "1.5.0",
          "state": {
            "_dom_classes": [],
            "_model_module": "@jupyter-widgets/controls",
            "_model_module_version": "1.5.0",
            "_model_name": "HTMLModel",
            "_view_count": null,
            "_view_module": "@jupyter-widgets/controls",
            "_view_module_version": "1.5.0",
            "_view_name": "HTMLView",
            "description": "",
            "description_tooltip": null,
            "layout": "IPY_MODEL_cd6b7620d9eb4eff92d44ff17ace2ee1",
            "placeholder": "​",
            "style": "IPY_MODEL_5f0e043bae8e4ebabe2efc5bcd6425de",
            "value": "Downloading (…)okenizer_config.json: 100%"
          }
        },
        "6a82fbed1b5a4f0288a7f934c815e76c": {
          "model_module": "@jupyter-widgets/controls",
          "model_name": "FloatProgressModel",
          "model_module_version": "1.5.0",
          "state": {
            "_dom_classes": [],
            "_model_module": "@jupyter-widgets/controls",
            "_model_module_version": "1.5.0",
            "_model_name": "FloatProgressModel",
            "_view_count": null,
            "_view_module": "@jupyter-widgets/controls",
            "_view_module_version": "1.5.0",
            "_view_name": "ProgressView",
            "bar_style": "success",
            "description": "",
            "description_tooltip": null,
            "layout": "IPY_MODEL_bba4406e61244af483cee9182ccc11d4",
            "max": 27,
            "min": 0,
            "orientation": "horizontal",
            "style": "IPY_MODEL_5cdbfddd65054565a1263a36be607ed4",
            "value": 27
          }
        },
        "07ba033330b34006b5002a9c81abad30": {
          "model_module": "@jupyter-widgets/controls",
          "model_name": "HTMLModel",
          "model_module_version": "1.5.0",
          "state": {
            "_dom_classes": [],
            "_model_module": "@jupyter-widgets/controls",
            "_model_module_version": "1.5.0",
            "_model_name": "HTMLModel",
            "_view_count": null,
            "_view_module": "@jupyter-widgets/controls",
            "_view_module_version": "1.5.0",
            "_view_name": "HTMLView",
            "description": "",
            "description_tooltip": null,
            "layout": "IPY_MODEL_4c334362abff49ea80917e9f3eff779f",
            "placeholder": "​",
            "style": "IPY_MODEL_654294d22fcb4b39881c0c61de039f60",
            "value": " 27.0/27.0 [00:00&lt;00:00, 790B/s]"
          }
        },
        "618448baf46e4e2d9406540f0ff53dba": {
          "model_module": "@jupyter-widgets/base",
          "model_name": "LayoutModel",
          "model_module_version": "1.2.0",
          "state": {
            "_model_module": "@jupyter-widgets/base",
            "_model_module_version": "1.2.0",
            "_model_name": "LayoutModel",
            "_view_count": null,
            "_view_module": "@jupyter-widgets/base",
            "_view_module_version": "1.2.0",
            "_view_name": "LayoutView",
            "align_content": null,
            "align_items": null,
            "align_self": null,
            "border": null,
            "bottom": null,
            "display": null,
            "flex": null,
            "flex_flow": null,
            "grid_area": null,
            "grid_auto_columns": null,
            "grid_auto_flow": null,
            "grid_auto_rows": null,
            "grid_column": null,
            "grid_gap": null,
            "grid_row": null,
            "grid_template_areas": null,
            "grid_template_columns": null,
            "grid_template_rows": null,
            "height": null,
            "justify_content": null,
            "justify_items": null,
            "left": null,
            "margin": null,
            "max_height": null,
            "max_width": null,
            "min_height": null,
            "min_width": null,
            "object_fit": null,
            "object_position": null,
            "order": null,
            "overflow": null,
            "overflow_x": null,
            "overflow_y": null,
            "padding": null,
            "right": null,
            "top": null,
            "visibility": null,
            "width": null
          }
        },
        "cd6b7620d9eb4eff92d44ff17ace2ee1": {
          "model_module": "@jupyter-widgets/base",
          "model_name": "LayoutModel",
          "model_module_version": "1.2.0",
          "state": {
            "_model_module": "@jupyter-widgets/base",
            "_model_module_version": "1.2.0",
            "_model_name": "LayoutModel",
            "_view_count": null,
            "_view_module": "@jupyter-widgets/base",
            "_view_module_version": "1.2.0",
            "_view_name": "LayoutView",
            "align_content": null,
            "align_items": null,
            "align_self": null,
            "border": null,
            "bottom": null,
            "display": null,
            "flex": null,
            "flex_flow": null,
            "grid_area": null,
            "grid_auto_columns": null,
            "grid_auto_flow": null,
            "grid_auto_rows": null,
            "grid_column": null,
            "grid_gap": null,
            "grid_row": null,
            "grid_template_areas": null,
            "grid_template_columns": null,
            "grid_template_rows": null,
            "height": null,
            "justify_content": null,
            "justify_items": null,
            "left": null,
            "margin": null,
            "max_height": null,
            "max_width": null,
            "min_height": null,
            "min_width": null,
            "object_fit": null,
            "object_position": null,
            "order": null,
            "overflow": null,
            "overflow_x": null,
            "overflow_y": null,
            "padding": null,
            "right": null,
            "top": null,
            "visibility": null,
            "width": null
          }
        },
        "5f0e043bae8e4ebabe2efc5bcd6425de": {
          "model_module": "@jupyter-widgets/controls",
          "model_name": "DescriptionStyleModel",
          "model_module_version": "1.5.0",
          "state": {
            "_model_module": "@jupyter-widgets/controls",
            "_model_module_version": "1.5.0",
            "_model_name": "DescriptionStyleModel",
            "_view_count": null,
            "_view_module": "@jupyter-widgets/base",
            "_view_module_version": "1.2.0",
            "_view_name": "StyleView",
            "description_width": ""
          }
        },
        "bba4406e61244af483cee9182ccc11d4": {
          "model_module": "@jupyter-widgets/base",
          "model_name": "LayoutModel",
          "model_module_version": "1.2.0",
          "state": {
            "_model_module": "@jupyter-widgets/base",
            "_model_module_version": "1.2.0",
            "_model_name": "LayoutModel",
            "_view_count": null,
            "_view_module": "@jupyter-widgets/base",
            "_view_module_version": "1.2.0",
            "_view_name": "LayoutView",
            "align_content": null,
            "align_items": null,
            "align_self": null,
            "border": null,
            "bottom": null,
            "display": null,
            "flex": null,
            "flex_flow": null,
            "grid_area": null,
            "grid_auto_columns": null,
            "grid_auto_flow": null,
            "grid_auto_rows": null,
            "grid_column": null,
            "grid_gap": null,
            "grid_row": null,
            "grid_template_areas": null,
            "grid_template_columns": null,
            "grid_template_rows": null,
            "height": null,
            "justify_content": null,
            "justify_items": null,
            "left": null,
            "margin": null,
            "max_height": null,
            "max_width": null,
            "min_height": null,
            "min_width": null,
            "object_fit": null,
            "object_position": null,
            "order": null,
            "overflow": null,
            "overflow_x": null,
            "overflow_y": null,
            "padding": null,
            "right": null,
            "top": null,
            "visibility": null,
            "width": null
          }
        },
        "5cdbfddd65054565a1263a36be607ed4": {
          "model_module": "@jupyter-widgets/controls",
          "model_name": "ProgressStyleModel",
          "model_module_version": "1.5.0",
          "state": {
            "_model_module": "@jupyter-widgets/controls",
            "_model_module_version": "1.5.0",
            "_model_name": "ProgressStyleModel",
            "_view_count": null,
            "_view_module": "@jupyter-widgets/base",
            "_view_module_version": "1.2.0",
            "_view_name": "StyleView",
            "bar_color": null,
            "description_width": ""
          }
        },
        "4c334362abff49ea80917e9f3eff779f": {
          "model_module": "@jupyter-widgets/base",
          "model_name": "LayoutModel",
          "model_module_version": "1.2.0",
          "state": {
            "_model_module": "@jupyter-widgets/base",
            "_model_module_version": "1.2.0",
            "_model_name": "LayoutModel",
            "_view_count": null,
            "_view_module": "@jupyter-widgets/base",
            "_view_module_version": "1.2.0",
            "_view_name": "LayoutView",
            "align_content": null,
            "align_items": null,
            "align_self": null,
            "border": null,
            "bottom": null,
            "display": null,
            "flex": null,
            "flex_flow": null,
            "grid_area": null,
            "grid_auto_columns": null,
            "grid_auto_flow": null,
            "grid_auto_rows": null,
            "grid_column": null,
            "grid_gap": null,
            "grid_row": null,
            "grid_template_areas": null,
            "grid_template_columns": null,
            "grid_template_rows": null,
            "height": null,
            "justify_content": null,
            "justify_items": null,
            "left": null,
            "margin": null,
            "max_height": null,
            "max_width": null,
            "min_height": null,
            "min_width": null,
            "object_fit": null,
            "object_position": null,
            "order": null,
            "overflow": null,
            "overflow_x": null,
            "overflow_y": null,
            "padding": null,
            "right": null,
            "top": null,
            "visibility": null,
            "width": null
          }
        },
        "654294d22fcb4b39881c0c61de039f60": {
          "model_module": "@jupyter-widgets/controls",
          "model_name": "DescriptionStyleModel",
          "model_module_version": "1.5.0",
          "state": {
            "_model_module": "@jupyter-widgets/controls",
            "_model_module_version": "1.5.0",
            "_model_name": "DescriptionStyleModel",
            "_view_count": null,
            "_view_module": "@jupyter-widgets/base",
            "_view_module_version": "1.2.0",
            "_view_name": "StyleView",
            "description_width": ""
          }
        },
        "d9f0275b5da248ba8608d1ce0bfcd901": {
          "model_module": "@jupyter-widgets/controls",
          "model_name": "HBoxModel",
          "model_module_version": "1.5.0",
          "state": {
            "_dom_classes": [],
            "_model_module": "@jupyter-widgets/controls",
            "_model_module_version": "1.5.0",
            "_model_name": "HBoxModel",
            "_view_count": null,
            "_view_module": "@jupyter-widgets/controls",
            "_view_module_version": "1.5.0",
            "_view_name": "HBoxView",
            "box_style": "",
            "children": [
              "IPY_MODEL_b53be7f9219e48b2a416e71b7dddd49a",
              "IPY_MODEL_21509ece97b64421a0a05347696f9f31",
              "IPY_MODEL_b5873d7b94f84cd8a355e46c06587e87"
            ],
            "layout": "IPY_MODEL_8957042f5c614f17ae39cf7fcef94fde"
          }
        },
        "b53be7f9219e48b2a416e71b7dddd49a": {
          "model_module": "@jupyter-widgets/controls",
          "model_name": "HTMLModel",
          "model_module_version": "1.5.0",
          "state": {
            "_dom_classes": [],
            "_model_module": "@jupyter-widgets/controls",
            "_model_module_version": "1.5.0",
            "_model_name": "HTMLModel",
            "_view_count": null,
            "_view_module": "@jupyter-widgets/controls",
            "_view_module_version": "1.5.0",
            "_view_name": "HTMLView",
            "description": "",
            "description_tooltip": null,
            "layout": "IPY_MODEL_6f427c1bd3634b0abf48a069339e0d3a",
            "placeholder": "​",
            "style": "IPY_MODEL_8715cc8d65c642ab8f11981eb785a14c",
            "value": "Downloading (…)lve/main/config.json: 100%"
          }
        },
        "21509ece97b64421a0a05347696f9f31": {
          "model_module": "@jupyter-widgets/controls",
          "model_name": "FloatProgressModel",
          "model_module_version": "1.5.0",
          "state": {
            "_dom_classes": [],
            "_model_module": "@jupyter-widgets/controls",
            "_model_module_version": "1.5.0",
            "_model_name": "FloatProgressModel",
            "_view_count": null,
            "_view_module": "@jupyter-widgets/controls",
            "_view_module_version": "1.5.0",
            "_view_name": "ProgressView",
            "bar_style": "success",
            "description": "",
            "description_tooltip": null,
            "layout": "IPY_MODEL_a9dc06a3f97a4ffc95f2456a7c71dd20",
            "max": 666,
            "min": 0,
            "orientation": "horizontal",
            "style": "IPY_MODEL_edc4f3cb61c24ffeb5ea4204213eb8b8",
            "value": 666
          }
        },
        "b5873d7b94f84cd8a355e46c06587e87": {
          "model_module": "@jupyter-widgets/controls",
          "model_name": "HTMLModel",
          "model_module_version": "1.5.0",
          "state": {
            "_dom_classes": [],
            "_model_module": "@jupyter-widgets/controls",
            "_model_module_version": "1.5.0",
            "_model_name": "HTMLModel",
            "_view_count": null,
            "_view_module": "@jupyter-widgets/controls",
            "_view_module_version": "1.5.0",
            "_view_name": "HTMLView",
            "description": "",
            "description_tooltip": null,
            "layout": "IPY_MODEL_51704817be6b4ffa852f01237470bbfb",
            "placeholder": "​",
            "style": "IPY_MODEL_75ad2784a199455ab8cb052c5dea4bf3",
            "value": " 666/666 [00:00&lt;00:00, 36.3kB/s]"
          }
        },
        "8957042f5c614f17ae39cf7fcef94fde": {
          "model_module": "@jupyter-widgets/base",
          "model_name": "LayoutModel",
          "model_module_version": "1.2.0",
          "state": {
            "_model_module": "@jupyter-widgets/base",
            "_model_module_version": "1.2.0",
            "_model_name": "LayoutModel",
            "_view_count": null,
            "_view_module": "@jupyter-widgets/base",
            "_view_module_version": "1.2.0",
            "_view_name": "LayoutView",
            "align_content": null,
            "align_items": null,
            "align_self": null,
            "border": null,
            "bottom": null,
            "display": null,
            "flex": null,
            "flex_flow": null,
            "grid_area": null,
            "grid_auto_columns": null,
            "grid_auto_flow": null,
            "grid_auto_rows": null,
            "grid_column": null,
            "grid_gap": null,
            "grid_row": null,
            "grid_template_areas": null,
            "grid_template_columns": null,
            "grid_template_rows": null,
            "height": null,
            "justify_content": null,
            "justify_items": null,
            "left": null,
            "margin": null,
            "max_height": null,
            "max_width": null,
            "min_height": null,
            "min_width": null,
            "object_fit": null,
            "object_position": null,
            "order": null,
            "overflow": null,
            "overflow_x": null,
            "overflow_y": null,
            "padding": null,
            "right": null,
            "top": null,
            "visibility": null,
            "width": null
          }
        },
        "6f427c1bd3634b0abf48a069339e0d3a": {
          "model_module": "@jupyter-widgets/base",
          "model_name": "LayoutModel",
          "model_module_version": "1.2.0",
          "state": {
            "_model_module": "@jupyter-widgets/base",
            "_model_module_version": "1.2.0",
            "_model_name": "LayoutModel",
            "_view_count": null,
            "_view_module": "@jupyter-widgets/base",
            "_view_module_version": "1.2.0",
            "_view_name": "LayoutView",
            "align_content": null,
            "align_items": null,
            "align_self": null,
            "border": null,
            "bottom": null,
            "display": null,
            "flex": null,
            "flex_flow": null,
            "grid_area": null,
            "grid_auto_columns": null,
            "grid_auto_flow": null,
            "grid_auto_rows": null,
            "grid_column": null,
            "grid_gap": null,
            "grid_row": null,
            "grid_template_areas": null,
            "grid_template_columns": null,
            "grid_template_rows": null,
            "height": null,
            "justify_content": null,
            "justify_items": null,
            "left": null,
            "margin": null,
            "max_height": null,
            "max_width": null,
            "min_height": null,
            "min_width": null,
            "object_fit": null,
            "object_position": null,
            "order": null,
            "overflow": null,
            "overflow_x": null,
            "overflow_y": null,
            "padding": null,
            "right": null,
            "top": null,
            "visibility": null,
            "width": null
          }
        },
        "8715cc8d65c642ab8f11981eb785a14c": {
          "model_module": "@jupyter-widgets/controls",
          "model_name": "DescriptionStyleModel",
          "model_module_version": "1.5.0",
          "state": {
            "_model_module": "@jupyter-widgets/controls",
            "_model_module_version": "1.5.0",
            "_model_name": "DescriptionStyleModel",
            "_view_count": null,
            "_view_module": "@jupyter-widgets/base",
            "_view_module_version": "1.2.0",
            "_view_name": "StyleView",
            "description_width": ""
          }
        },
        "a9dc06a3f97a4ffc95f2456a7c71dd20": {
          "model_module": "@jupyter-widgets/base",
          "model_name": "LayoutModel",
          "model_module_version": "1.2.0",
          "state": {
            "_model_module": "@jupyter-widgets/base",
            "_model_module_version": "1.2.0",
            "_model_name": "LayoutModel",
            "_view_count": null,
            "_view_module": "@jupyter-widgets/base",
            "_view_module_version": "1.2.0",
            "_view_name": "LayoutView",
            "align_content": null,
            "align_items": null,
            "align_self": null,
            "border": null,
            "bottom": null,
            "display": null,
            "flex": null,
            "flex_flow": null,
            "grid_area": null,
            "grid_auto_columns": null,
            "grid_auto_flow": null,
            "grid_auto_rows": null,
            "grid_column": null,
            "grid_gap": null,
            "grid_row": null,
            "grid_template_areas": null,
            "grid_template_columns": null,
            "grid_template_rows": null,
            "height": null,
            "justify_content": null,
            "justify_items": null,
            "left": null,
            "margin": null,
            "max_height": null,
            "max_width": null,
            "min_height": null,
            "min_width": null,
            "object_fit": null,
            "object_position": null,
            "order": null,
            "overflow": null,
            "overflow_x": null,
            "overflow_y": null,
            "padding": null,
            "right": null,
            "top": null,
            "visibility": null,
            "width": null
          }
        },
        "edc4f3cb61c24ffeb5ea4204213eb8b8": {
          "model_module": "@jupyter-widgets/controls",
          "model_name": "ProgressStyleModel",
          "model_module_version": "1.5.0",
          "state": {
            "_model_module": "@jupyter-widgets/controls",
            "_model_module_version": "1.5.0",
            "_model_name": "ProgressStyleModel",
            "_view_count": null,
            "_view_module": "@jupyter-widgets/base",
            "_view_module_version": "1.2.0",
            "_view_name": "StyleView",
            "bar_color": null,
            "description_width": ""
          }
        },
        "51704817be6b4ffa852f01237470bbfb": {
          "model_module": "@jupyter-widgets/base",
          "model_name": "LayoutModel",
          "model_module_version": "1.2.0",
          "state": {
            "_model_module": "@jupyter-widgets/base",
            "_model_module_version": "1.2.0",
            "_model_name": "LayoutModel",
            "_view_count": null,
            "_view_module": "@jupyter-widgets/base",
            "_view_module_version": "1.2.0",
            "_view_name": "LayoutView",
            "align_content": null,
            "align_items": null,
            "align_self": null,
            "border": null,
            "bottom": null,
            "display": null,
            "flex": null,
            "flex_flow": null,
            "grid_area": null,
            "grid_auto_columns": null,
            "grid_auto_flow": null,
            "grid_auto_rows": null,
            "grid_column": null,
            "grid_gap": null,
            "grid_row": null,
            "grid_template_areas": null,
            "grid_template_columns": null,
            "grid_template_rows": null,
            "height": null,
            "justify_content": null,
            "justify_items": null,
            "left": null,
            "margin": null,
            "max_height": null,
            "max_width": null,
            "min_height": null,
            "min_width": null,
            "object_fit": null,
            "object_position": null,
            "order": null,
            "overflow": null,
            "overflow_x": null,
            "overflow_y": null,
            "padding": null,
            "right": null,
            "top": null,
            "visibility": null,
            "width": null
          }
        },
        "75ad2784a199455ab8cb052c5dea4bf3": {
          "model_module": "@jupyter-widgets/controls",
          "model_name": "DescriptionStyleModel",
          "model_module_version": "1.5.0",
          "state": {
            "_model_module": "@jupyter-widgets/controls",
            "_model_module_version": "1.5.0",
            "_model_name": "DescriptionStyleModel",
            "_view_count": null,
            "_view_module": "@jupyter-widgets/base",
            "_view_module_version": "1.2.0",
            "_view_name": "StyleView",
            "description_width": ""
          }
        }
      }
    }
  },
  "nbformat": 4,
  "nbformat_minor": 0
}