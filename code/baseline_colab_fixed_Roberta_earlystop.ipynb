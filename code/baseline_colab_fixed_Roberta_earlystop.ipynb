{
  "cells": [
    {
      "cell_type": "markdown",
      "source": [
        "# Kaggle login, data download"
      ],
      "metadata": {
        "id": "kz0sdccYnjIY"
      }
    },
    {
      "cell_type": "code",
      "source": [
        "!pip install kaggle\n",
        "from google.colab import files\n",
        "files.upload()"
      ],
      "metadata": {
        "colab": {
          "base_uri": "https://localhost:8080/",
          "height": 344
        },
        "id": "DapLLLNYnl-H",
        "outputId": "a610ea7e-26ac-4f56-ba95-decb62c05360"
      },
      "execution_count": null,
      "outputs": [
        {
          "output_type": "stream",
          "name": "stdout",
          "text": [
            "Looking in indexes: https://pypi.org/simple, https://us-python.pkg.dev/colab-wheels/public/simple/\n",
            "Requirement already satisfied: kaggle in /usr/local/lib/python3.8/dist-packages (1.5.12)\n",
            "Requirement already satisfied: tqdm in /usr/local/lib/python3.8/dist-packages (from kaggle) (4.64.1)\n",
            "Requirement already satisfied: python-dateutil in /usr/local/lib/python3.8/dist-packages (from kaggle) (2.8.2)\n",
            "Requirement already satisfied: certifi in /usr/local/lib/python3.8/dist-packages (from kaggle) (2022.12.7)\n",
            "Requirement already satisfied: urllib3 in /usr/local/lib/python3.8/dist-packages (from kaggle) (1.24.3)\n",
            "Requirement already satisfied: requests in /usr/local/lib/python3.8/dist-packages (from kaggle) (2.25.1)\n",
            "Requirement already satisfied: six>=1.10 in /usr/local/lib/python3.8/dist-packages (from kaggle) (1.15.0)\n",
            "Requirement already satisfied: python-slugify in /usr/local/lib/python3.8/dist-packages (from kaggle) (8.0.0)\n",
            "Requirement already satisfied: text-unidecode>=1.3 in /usr/local/lib/python3.8/dist-packages (from python-slugify->kaggle) (1.3)\n",
            "Requirement already satisfied: idna<3,>=2.5 in /usr/local/lib/python3.8/dist-packages (from requests->kaggle) (2.10)\n",
            "Requirement already satisfied: chardet<5,>=3.0.2 in /usr/local/lib/python3.8/dist-packages (from requests->kaggle) (4.0.0)\n"
          ]
        },
        {
          "output_type": "display_data",
          "data": {
            "text/plain": [
              "<IPython.core.display.HTML object>"
            ],
            "text/html": [
              "\n",
              "     <input type=\"file\" id=\"files-dacc96e0-b191-4329-8b23-c6c8a9cf9bb4\" name=\"files[]\" multiple disabled\n",
              "        style=\"border:none\" />\n",
              "     <output id=\"result-dacc96e0-b191-4329-8b23-c6c8a9cf9bb4\">\n",
              "      Upload widget is only available when the cell has been executed in the\n",
              "      current browser session. Please rerun this cell to enable.\n",
              "      </output>\n",
              "      <script>// Copyright 2017 Google LLC\n",
              "//\n",
              "// Licensed under the Apache License, Version 2.0 (the \"License\");\n",
              "// you may not use this file except in compliance with the License.\n",
              "// You may obtain a copy of the License at\n",
              "//\n",
              "//      http://www.apache.org/licenses/LICENSE-2.0\n",
              "//\n",
              "// Unless required by applicable law or agreed to in writing, software\n",
              "// distributed under the License is distributed on an \"AS IS\" BASIS,\n",
              "// WITHOUT WARRANTIES OR CONDITIONS OF ANY KIND, either express or implied.\n",
              "// See the License for the specific language governing permissions and\n",
              "// limitations under the License.\n",
              "\n",
              "/**\n",
              " * @fileoverview Helpers for google.colab Python module.\n",
              " */\n",
              "(function(scope) {\n",
              "function span(text, styleAttributes = {}) {\n",
              "  const element = document.createElement('span');\n",
              "  element.textContent = text;\n",
              "  for (const key of Object.keys(styleAttributes)) {\n",
              "    element.style[key] = styleAttributes[key];\n",
              "  }\n",
              "  return element;\n",
              "}\n",
              "\n",
              "// Max number of bytes which will be uploaded at a time.\n",
              "const MAX_PAYLOAD_SIZE = 100 * 1024;\n",
              "\n",
              "function _uploadFiles(inputId, outputId) {\n",
              "  const steps = uploadFilesStep(inputId, outputId);\n",
              "  const outputElement = document.getElementById(outputId);\n",
              "  // Cache steps on the outputElement to make it available for the next call\n",
              "  // to uploadFilesContinue from Python.\n",
              "  outputElement.steps = steps;\n",
              "\n",
              "  return _uploadFilesContinue(outputId);\n",
              "}\n",
              "\n",
              "// This is roughly an async generator (not supported in the browser yet),\n",
              "// where there are multiple asynchronous steps and the Python side is going\n",
              "// to poll for completion of each step.\n",
              "// This uses a Promise to block the python side on completion of each step,\n",
              "// then passes the result of the previous step as the input to the next step.\n",
              "function _uploadFilesContinue(outputId) {\n",
              "  const outputElement = document.getElementById(outputId);\n",
              "  const steps = outputElement.steps;\n",
              "\n",
              "  const next = steps.next(outputElement.lastPromiseValue);\n",
              "  return Promise.resolve(next.value.promise).then((value) => {\n",
              "    // Cache the last promise value to make it available to the next\n",
              "    // step of the generator.\n",
              "    outputElement.lastPromiseValue = value;\n",
              "    return next.value.response;\n",
              "  });\n",
              "}\n",
              "\n",
              "/**\n",
              " * Generator function which is called between each async step of the upload\n",
              " * process.\n",
              " * @param {string} inputId Element ID of the input file picker element.\n",
              " * @param {string} outputId Element ID of the output display.\n",
              " * @return {!Iterable<!Object>} Iterable of next steps.\n",
              " */\n",
              "function* uploadFilesStep(inputId, outputId) {\n",
              "  const inputElement = document.getElementById(inputId);\n",
              "  inputElement.disabled = false;\n",
              "\n",
              "  const outputElement = document.getElementById(outputId);\n",
              "  outputElement.innerHTML = '';\n",
              "\n",
              "  const pickedPromise = new Promise((resolve) => {\n",
              "    inputElement.addEventListener('change', (e) => {\n",
              "      resolve(e.target.files);\n",
              "    });\n",
              "  });\n",
              "\n",
              "  const cancel = document.createElement('button');\n",
              "  inputElement.parentElement.appendChild(cancel);\n",
              "  cancel.textContent = 'Cancel upload';\n",
              "  const cancelPromise = new Promise((resolve) => {\n",
              "    cancel.onclick = () => {\n",
              "      resolve(null);\n",
              "    };\n",
              "  });\n",
              "\n",
              "  // Wait for the user to pick the files.\n",
              "  const files = yield {\n",
              "    promise: Promise.race([pickedPromise, cancelPromise]),\n",
              "    response: {\n",
              "      action: 'starting',\n",
              "    }\n",
              "  };\n",
              "\n",
              "  cancel.remove();\n",
              "\n",
              "  // Disable the input element since further picks are not allowed.\n",
              "  inputElement.disabled = true;\n",
              "\n",
              "  if (!files) {\n",
              "    return {\n",
              "      response: {\n",
              "        action: 'complete',\n",
              "      }\n",
              "    };\n",
              "  }\n",
              "\n",
              "  for (const file of files) {\n",
              "    const li = document.createElement('li');\n",
              "    li.append(span(file.name, {fontWeight: 'bold'}));\n",
              "    li.append(span(\n",
              "        `(${file.type || 'n/a'}) - ${file.size} bytes, ` +\n",
              "        `last modified: ${\n",
              "            file.lastModifiedDate ? file.lastModifiedDate.toLocaleDateString() :\n",
              "                                    'n/a'} - `));\n",
              "    const percent = span('0% done');\n",
              "    li.appendChild(percent);\n",
              "\n",
              "    outputElement.appendChild(li);\n",
              "\n",
              "    const fileDataPromise = new Promise((resolve) => {\n",
              "      const reader = new FileReader();\n",
              "      reader.onload = (e) => {\n",
              "        resolve(e.target.result);\n",
              "      };\n",
              "      reader.readAsArrayBuffer(file);\n",
              "    });\n",
              "    // Wait for the data to be ready.\n",
              "    let fileData = yield {\n",
              "      promise: fileDataPromise,\n",
              "      response: {\n",
              "        action: 'continue',\n",
              "      }\n",
              "    };\n",
              "\n",
              "    // Use a chunked sending to avoid message size limits. See b/62115660.\n",
              "    let position = 0;\n",
              "    do {\n",
              "      const length = Math.min(fileData.byteLength - position, MAX_PAYLOAD_SIZE);\n",
              "      const chunk = new Uint8Array(fileData, position, length);\n",
              "      position += length;\n",
              "\n",
              "      const base64 = btoa(String.fromCharCode.apply(null, chunk));\n",
              "      yield {\n",
              "        response: {\n",
              "          action: 'append',\n",
              "          file: file.name,\n",
              "          data: base64,\n",
              "        },\n",
              "      };\n",
              "\n",
              "      let percentDone = fileData.byteLength === 0 ?\n",
              "          100 :\n",
              "          Math.round((position / fileData.byteLength) * 100);\n",
              "      percent.textContent = `${percentDone}% done`;\n",
              "\n",
              "    } while (position < fileData.byteLength);\n",
              "  }\n",
              "\n",
              "  // All done.\n",
              "  yield {\n",
              "    response: {\n",
              "      action: 'complete',\n",
              "    }\n",
              "  };\n",
              "}\n",
              "\n",
              "scope.google = scope.google || {};\n",
              "scope.google.colab = scope.google.colab || {};\n",
              "scope.google.colab._files = {\n",
              "  _uploadFiles,\n",
              "  _uploadFilesContinue,\n",
              "};\n",
              "})(self);\n",
              "</script> "
            ]
          },
          "metadata": {}
        },
        {
          "output_type": "stream",
          "name": "stdout",
          "text": [
            "Saving kaggle.json to kaggle.json\n"
          ]
        },
        {
          "output_type": "execute_result",
          "data": {
            "text/plain": [
              "{'kaggle.json': b'{\"username\":\"hyonukjo\",\"key\":\"c809a350a55c435ea7448c20610ab419\"}'}"
            ]
          },
          "metadata": {},
          "execution_count": 1
        }
      ]
    },
    {
      "cell_type": "code",
      "source": [
        "!ls -1ha kaggle.json\n",
        "!mkdir -p ~/.kaggle\n",
        "!cp kaggle.json ~/.kaggle/\n",
        "# Permission Warning 방지\n",
        "!chmod 600 ~/.kaggle/kaggle.json"
      ],
      "metadata": {
        "colab": {
          "base_uri": "https://localhost:8080/"
        },
        "id": "QGXgklLKnmx9",
        "outputId": "63a154ef-15b7-4aca-ae5b-e6adfe23f2ea"
      },
      "execution_count": null,
      "outputs": [
        {
          "output_type": "stream",
          "name": "stdout",
          "text": [
            "kaggle.json\n"
          ]
        }
      ]
    },
    {
      "cell_type": "code",
      "source": [
        "!kaggle competitions download -c 5th-goorm-project-1-text-classification"
      ],
      "metadata": {
        "colab": {
          "base_uri": "https://localhost:8080/"
        },
        "id": "GkOpqz7wnnzL",
        "outputId": "00ee5459-82df-4bda-bf2f-a40d1c3d647b"
      },
      "execution_count": null,
      "outputs": [
        {
          "output_type": "stream",
          "name": "stdout",
          "text": [
            "Downloading 5th-goorm-project-1-text-classification.zip to /content\n",
            "\r  0% 0.00/6.12M [00:00<?, ?B/s]\n",
            "\r100% 6.12M/6.12M [00:00<00:00, 93.6MB/s]\n"
          ]
        }
      ]
    },
    {
      "cell_type": "code",
      "source": [
        "from zipfile import ZipFile\n",
        "# 데이터 경로\n",
        "data_path = '/content/'\n",
        "\n",
        "with ZipFile(data_path + '5th-goorm-project-1-text-classification.zip') as zipper:\n",
        "    zipper.extractall()"
      ],
      "metadata": {
        "id": "jqPpAb2LoBfH"
      },
      "execution_count": null,
      "outputs": []
    },
    {
      "cell_type": "markdown",
      "metadata": {
        "id": "TH32rzgprvgM"
      },
      "source": [
        "# Import requirements"
      ]
    },
    {
      "cell_type": "code",
      "execution_count": null,
      "metadata": {
        "colab": {
          "base_uri": "https://localhost:8080/"
        },
        "id": "G9EvC1HBuf41",
        "outputId": "d7276c16-0b37-444f-ba6d-238df6dd2b3d"
      },
      "outputs": [
        {
          "output_type": "stream",
          "name": "stdout",
          "text": [
            "Looking in indexes: https://pypi.org/simple, https://us-python.pkg.dev/colab-wheels/public/simple/\n",
            "Collecting transformers\n",
            "  Downloading transformers-4.26.1-py3-none-any.whl (6.3 MB)\n",
            "\u001b[2K     \u001b[90m━━━━━━━━━━━━━━━━━━━━━━━━━━━━━━━━━━━━━━━━\u001b[0m \u001b[32m6.3/6.3 MB\u001b[0m \u001b[31m51.8 MB/s\u001b[0m eta \u001b[36m0:00:00\u001b[0m\n",
            "\u001b[?25hRequirement already satisfied: requests in /usr/local/lib/python3.8/dist-packages (from transformers) (2.25.1)\n",
            "Requirement already satisfied: numpy>=1.17 in /usr/local/lib/python3.8/dist-packages (from transformers) (1.21.6)\n",
            "Requirement already satisfied: filelock in /usr/local/lib/python3.8/dist-packages (from transformers) (3.9.0)\n",
            "Requirement already satisfied: packaging>=20.0 in /usr/local/lib/python3.8/dist-packages (from transformers) (23.0)\n",
            "Requirement already satisfied: tqdm>=4.27 in /usr/local/lib/python3.8/dist-packages (from transformers) (4.64.1)\n",
            "Requirement already satisfied: pyyaml>=5.1 in /usr/local/lib/python3.8/dist-packages (from transformers) (6.0)\n",
            "Collecting huggingface-hub<1.0,>=0.11.0\n",
            "  Downloading huggingface_hub-0.12.1-py3-none-any.whl (190 kB)\n",
            "\u001b[2K     \u001b[90m━━━━━━━━━━━━━━━━━━━━━━━━━━━━━━━━━━━━━━\u001b[0m \u001b[32m190.3/190.3 KB\u001b[0m \u001b[31m21.2 MB/s\u001b[0m eta \u001b[36m0:00:00\u001b[0m\n",
            "\u001b[?25hCollecting tokenizers!=0.11.3,<0.14,>=0.11.1\n",
            "  Downloading tokenizers-0.13.2-cp38-cp38-manylinux_2_17_x86_64.manylinux2014_x86_64.whl (7.6 MB)\n",
            "\u001b[2K     \u001b[90m━━━━━━━━━━━━━━━━━━━━━━━━━━━━━━━━━━━━━━━━\u001b[0m \u001b[32m7.6/7.6 MB\u001b[0m \u001b[31m108.1 MB/s\u001b[0m eta \u001b[36m0:00:00\u001b[0m\n",
            "\u001b[?25hRequirement already satisfied: regex!=2019.12.17 in /usr/local/lib/python3.8/dist-packages (from transformers) (2022.6.2)\n",
            "Requirement already satisfied: typing-extensions>=3.7.4.3 in /usr/local/lib/python3.8/dist-packages (from huggingface-hub<1.0,>=0.11.0->transformers) (4.5.0)\n",
            "Requirement already satisfied: certifi>=2017.4.17 in /usr/local/lib/python3.8/dist-packages (from requests->transformers) (2022.12.7)\n",
            "Requirement already satisfied: chardet<5,>=3.0.2 in /usr/local/lib/python3.8/dist-packages (from requests->transformers) (4.0.0)\n",
            "Requirement already satisfied: urllib3<1.27,>=1.21.1 in /usr/local/lib/python3.8/dist-packages (from requests->transformers) (1.24.3)\n",
            "Requirement already satisfied: idna<3,>=2.5 in /usr/local/lib/python3.8/dist-packages (from requests->transformers) (2.10)\n",
            "Installing collected packages: tokenizers, huggingface-hub, transformers\n",
            "Successfully installed huggingface-hub-0.12.1 tokenizers-0.13.2 transformers-4.26.1\n"
          ]
        }
      ],
      "source": [
        "!pip install transformers"
      ]
    },
    {
      "cell_type": "code",
      "execution_count": null,
      "metadata": {
        "id": "AAdLxrUZrvgP"
      },
      "outputs": [],
      "source": [
        "import os\n",
        "import pdb\n",
        "import argparse\n",
        "from dataclasses import dataclass, field\n",
        "from typing import Optional\n",
        "from collections import defaultdict\n",
        "\n",
        "import torch\n",
        "from torch.nn.utils.rnn import pad_sequence\n",
        "\n",
        "import numpy as np\n",
        "from tqdm import tqdm, trange\n",
        "\n",
        "from transformers import (\n",
        "    RobertaForSequenceClassification,\n",
        "    RobertaTokenizer,\n",
        "    AutoConfig,\n",
        "    AdamW\n",
        ")"
      ]
    },
    {
      "cell_type": "markdown",
      "metadata": {
        "id": "ASWOOmXqrvgQ"
      },
      "source": [
        "# 1. Preprocess"
      ]
    },
    {
      "cell_type": "code",
      "execution_count": null,
      "metadata": {
        "id": "RAnU6w29rvgR"
      },
      "outputs": [],
      "source": [
        "def make_id_file(task, tokenizer):\n",
        "    def make_data_strings(file_name):\n",
        "        data_strings = []\n",
        "        with open(os.path.join(file_name), 'r', encoding='utf-8') as f:\n",
        "            id_file_data = [tokenizer.encode(line.lower()) for line in f.readlines()]\n",
        "            #CLS/SEP은 encoding시 자동으로 들어가게 됨.\n",
        "        for item in id_file_data:\n",
        "            data_strings.append(' '.join([str(k) for k in item]))\n",
        "        return data_strings\n",
        "    \n",
        "    print('it will take some times...')\n",
        "    train_pos = make_data_strings('sentiment.train.1')\n",
        "    train_neg = make_data_strings('sentiment.train.0')\n",
        "    dev_pos = make_data_strings('sentiment.dev.1')\n",
        "    dev_neg = make_data_strings('sentiment.dev.0')\n",
        "\n",
        "    print('make id file finished!')\n",
        "    return train_pos, train_neg, dev_pos, dev_neg"
      ]
    },
    {
      "cell_type": "code",
      "execution_count": null,
      "metadata": {
        "colab": {
          "base_uri": "https://localhost:8080/",
          "height": 197,
          "referenced_widgets": [
            "245315abf53d44a9a3675d9602848512",
            "1821fcef10a44bb4b91052019b415573",
            "3a5cb1abbba84487804a92978a39f3dd",
            "02d60a708eb441149e4f9ea92e7eb3ae",
            "3cd6f9b601d84bfeb8325a96316addb0",
            "d9b24877a7ba4b8388dbb4f73ef5f6fa",
            "1ef31b6bf0104ccd83c1938fdf1de8be",
            "f476e7271313428298d82cf46c35cae8",
            "642ef5c9e4774d349caecfa1673e0ced",
            "4d37f06ddfd94a10a6defb2423c8aa47",
            "82ec7025a2c944fea78c86018a9ec7c6",
            "289d75cfbd594543b34b96d72405583d",
            "6277159ff8a7443b82335736e2658f22",
            "47e511ba1bb64d92bda88bebf3208db6",
            "f960793c71794be39fd3c3c1d5aad836",
            "83e82497ac7a4601b96b21099a5027c9",
            "d1975119909845fdb90462def3fec38a",
            "b7939df2a061416b9acf80befc820631",
            "6d3a1649cbbe40d1a936dcbcf0878aaa",
            "09c406de9f18425e93a05f16e2a3f74d",
            "0640e5ed75f64e668e7cc7a8550fb19a",
            "78acaa20c92648fabd66e6ecce385995",
            "45763179a5194405ac601d9e299a9067",
            "7cce651163a943a3813b54fc8425029f",
            "ed55e193af044b23b413014b2518f11c",
            "e85c41d6f7d94fa3a66ab738a924e34e",
            "233c8d2506e643fda5c8104f2008cf2e",
            "475f9548e45642f3922672ecd9a514bf",
            "021ba79e9a6a497da75bbf36a43c5041",
            "0d8884ce09de449892c7ef0390239098",
            "34486dcbf7864368926226e7e46c96cc",
            "89a1e54aedd543bc8ad4e2312fbfeed6",
            "a15257e86149416387a70a925bd7134b"
          ]
        },
        "id": "Ui2HOCflrvgR",
        "outputId": "80d48283-bfcb-41c7-f6ec-285ffd0fcc09"
      },
      "outputs": [
        {
          "output_type": "display_data",
          "data": {
            "text/plain": [
              "Downloading (…)olve/main/vocab.json:   0%|          | 0.00/899k [00:00<?, ?B/s]"
            ],
            "application/vnd.jupyter.widget-view+json": {
              "version_major": 2,
              "version_minor": 0,
              "model_id": "245315abf53d44a9a3675d9602848512"
            }
          },
          "metadata": {}
        },
        {
          "output_type": "display_data",
          "data": {
            "text/plain": [
              "Downloading (…)olve/main/merges.txt:   0%|          | 0.00/456k [00:00<?, ?B/s]"
            ],
            "application/vnd.jupyter.widget-view+json": {
              "version_major": 2,
              "version_minor": 0,
              "model_id": "289d75cfbd594543b34b96d72405583d"
            }
          },
          "metadata": {}
        },
        {
          "output_type": "display_data",
          "data": {
            "text/plain": [
              "Downloading (…)lve/main/config.json:   0%|          | 0.00/481 [00:00<?, ?B/s]"
            ],
            "application/vnd.jupyter.widget-view+json": {
              "version_major": 2,
              "version_minor": 0,
              "model_id": "45763179a5194405ac601d9e299a9067"
            }
          },
          "metadata": {}
        }
      ],
      "source": [
        "tokenizer = RobertaTokenizer.from_pretrained('roberta-base')"
      ]
    },
    {
      "cell_type": "code",
      "execution_count": null,
      "metadata": {
        "colab": {
          "base_uri": "https://localhost:8080/"
        },
        "id": "ttzRlY4Ov0jZ",
        "outputId": "f823c95e-0ee8-4d4a-ae9c-e429e9d4033b"
      },
      "outputs": [
        {
          "output_type": "stream",
          "name": "stdout",
          "text": [
            "5th-goorm-project-1-text-classification.zip  sentiment.dev.1\n",
            "kaggle.json\t\t\t\t     sentiment.train.0\n",
            "sample_data\t\t\t\t     sentiment.train.1\n",
            "sentiment.dev.0\t\t\t\t     test_no_label.csv\n"
          ]
        }
      ],
      "source": [
        "!ls"
      ]
    },
    {
      "cell_type": "code",
      "execution_count": null,
      "metadata": {
        "colab": {
          "base_uri": "https://localhost:8080/"
        },
        "id": "BAgztXIBrvgS",
        "outputId": "7e53f727-4071-4be8-e209-7cacd924f6e3"
      },
      "outputs": [
        {
          "output_type": "stream",
          "name": "stdout",
          "text": [
            "it will take some times...\n",
            "make id file finished!\n"
          ]
        }
      ],
      "source": [
        "train_pos, train_neg, dev_pos, dev_neg = make_id_file('yelp', tokenizer)"
      ]
    },
    {
      "cell_type": "code",
      "execution_count": null,
      "metadata": {
        "colab": {
          "base_uri": "https://localhost:8080/"
        },
        "id": "wRh2WjGRrvgS",
        "outputId": "46b0fc1d-cea3-44fd-8ac3-b65de9d2fb4f"
      },
      "outputs": [
        {
          "output_type": "execute_result",
          "data": {
            "text/plain": [
              "['0 3463 39462 689 479 50118 2',\n",
              " '0 16101 428 2111 544 479 50118 2',\n",
              " '0 10010 67 33 1230 24827 8 2480 6353 61 16 269 205 479 50118 2',\n",
              " '0 405 128 29 10 205 7 14317 9379 1073 324 479 50118 2',\n",
              " '0 627 813 16 5192 479 50118 2',\n",
              " '0 8396 2003 689 479 50118 2',\n",
              " '0 8396 544 479 50118 2',\n",
              " '0 29 18615 9 183 16 17798 8 3739 9 24827 479 50118 2',\n",
              " '0 12338 317 13 4592 50 2003 14967 8 4437 479 50118 2',\n",
              " '0 627 92 1186 1326 2770 479 50118 2']"
            ]
          },
          "metadata": {},
          "execution_count": 11
        }
      ],
      "source": [
        "train_pos[:10]"
      ]
    },
    {
      "cell_type": "code",
      "execution_count": null,
      "metadata": {
        "id": "JdpQQQMUrvgT"
      },
      "outputs": [],
      "source": [
        "class SentimentDataset(object):\n",
        "    def __init__(self, tokenizer, pos, neg):\n",
        "        self.tokenizer = tokenizer\n",
        "        self.data = []\n",
        "        self.label = []\n",
        "\n",
        "        for pos_sent in pos:\n",
        "            self.data += [self._cast_to_int(pos_sent.strip().split())]\n",
        "            self.label += [[1]]\n",
        "        for neg_sent in neg:\n",
        "            self.data += [self._cast_to_int(neg_sent.strip().split())]\n",
        "            self.label += [[0]]\n",
        "\n",
        "    def _cast_to_int(self, sample):\n",
        "        return [int(word_id) for word_id in sample]\n",
        "\n",
        "    def __len__(self):\n",
        "        return len(self.data)\n",
        "\n",
        "    def __getitem__(self, index):\n",
        "        sample = self.data[index]\n",
        "        return np.array(sample), np.array(self.label[index])"
      ]
    },
    {
      "cell_type": "code",
      "execution_count": null,
      "metadata": {
        "id": "wCz5ey8xrvgU"
      },
      "outputs": [],
      "source": [
        "train_dataset = SentimentDataset(tokenizer, train_pos, train_neg)\n",
        "dev_dataset = SentimentDataset(tokenizer, dev_pos, dev_neg)"
      ]
    },
    {
      "cell_type": "code",
      "source": [
        "print(len(list(train_dataset)))\n",
        "print(len(list(dev_dataset)))"
      ],
      "metadata": {
        "colab": {
          "base_uri": "https://localhost:8080/"
        },
        "id": "G5CLjPnWpFDm",
        "outputId": "c1986bc6-a662-4a86-f7dc-d2e6709a2eaf"
      },
      "execution_count": null,
      "outputs": [
        {
          "output_type": "stream",
          "name": "stdout",
          "text": [
            "443259\n",
            "4000\n"
          ]
        }
      ]
    },
    {
      "cell_type": "code",
      "source": [
        "import matplotlib.pyplot as plt\n",
        "\n",
        "plt.figure(figsize=(15,5))\n",
        "plt.subplot(1, 2, 1)     \n",
        "plt.hist([len(i[0]) for i in list(train_dataset)+list(dev_dataset)])\n",
        "plt.title('Sequence length filtering')\n",
        "plt.xlabel('Length')\n",
        "plt.ylabel('Numbers')\n",
        "plt.show()"
      ],
      "metadata": {
        "colab": {
          "base_uri": "https://localhost:8080/",
          "height": 350
        },
        "id": "SmPtqQ92pFHl",
        "outputId": "6100490b-a205-4341-a24b-7ac8880a0775"
      },
      "execution_count": null,
      "outputs": [
        {
          "output_type": "display_data",
          "data": {
            "text/plain": [
              "<Figure size 1080x360 with 1 Axes>"
            ],
            "image/png": "[encoded data removed]"
          },
          "metadata": {
            "needs_background": "light"
          }
        }
      ]
    },
    {
      "cell_type": "code",
      "execution_count": null,
      "metadata": {
        "colab": {
          "base_uri": "https://localhost:8080/"
        },
        "id": "UuvkMczvrvgU",
        "outputId": "b5547b28-3e68-4e02-f612-fb46d3fe2398"
      },
      "outputs": [
        {
          "output_type": "stream",
          "name": "stdout",
          "text": [
            "(array([    0,  3463, 39462,   689,   479, 50118,     2]), array([1]))\n",
            "(array([    0, 16101,   428,  2111,   544,   479, 50118,     2]), array([1]))\n",
            "(array([    0, 10010,    67,    33,  1230, 24827,     8,  2480,  6353,\n",
            "          61,    16,   269,   205,   479, 50118,     2]), array([1]))\n",
            "(array([    0,   405,   128,    29,    10,   205,     7, 14317,  9379,\n",
            "        1073,   324,   479, 50118,     2]), array([1]))\n",
            "(array([    0,   627,   813,    16,  5192,   479, 50118,     2]), array([1]))\n",
            "(array([    0,  8396,  2003,   689,   479, 50118,     2]), array([1]))\n",
            "(array([    0,  8396,   544,   479, 50118,     2]), array([1]))\n",
            "(array([    0,    29, 18615,     9,   183,    16, 17798,     8,  3739,\n",
            "           9, 24827,   479, 50118,     2]), array([1]))\n",
            "(array([    0, 12338,   317,    13,  4592,    50,  2003, 14967,     8,\n",
            "        4437,   479, 50118,     2]), array([1]))\n",
            "(array([    0,   627,    92,  1186,  1326,  2770,   479, 50118,     2]), array([1]))\n",
            "(array([    0,  9226,   317,    21,   182,   205,   479, 50118,     2]), array([1]))\n"
          ]
        }
      ],
      "source": [
        "for i, item in enumerate(train_dataset):\n",
        "    print(item)\n",
        "    if i == 10:\n",
        "        break"
      ]
    },
    {
      "cell_type": "code",
      "execution_count": null,
      "metadata": {
        "id": "B0wRUBYSrvgU"
      },
      "outputs": [],
      "source": [
        "def collate_fn_style(samples):\n",
        "    #Padding을 통해 길이 맞춰주기\n",
        "    #samples는 batch size의 input이다.\n",
        "    input_ids, labels = zip(*samples)\n",
        "    max_len = max(len(input_id) for input_id in input_ids)\n",
        "    #Batch_size에서 가장 긴 것이 무엇이냐?\n",
        "    sorted_indices = np.argsort([len(input_id) for input_id in input_ids])[::-1]\n",
        "    #Batch를 길이순으로 정렬하기\n",
        "    input_ids = pad_sequence([torch.tensor(input_ids[index]) for index in sorted_indices],\n",
        "                             batch_first=True)\n",
        "    attention_mask = torch.tensor(\n",
        "        [[1] * len(input_ids[index]) + [0] * (max_len - len(input_ids[index])) for index in\n",
        "         sorted_indices])\n",
        "    token_type_ids = torch.tensor([[0] * len(input_ids[index]) for index in sorted_indices])\n",
        "    position_ids = torch.tensor([list(range(len(input_ids[index]))) for index in sorted_indices])\n",
        "    labels = torch.tensor(np.stack(labels, axis=0)[sorted_indices])\n",
        "\n",
        "    return input_ids, attention_mask, token_type_ids, position_ids, labels"
      ]
    },
    {
      "cell_type": "code",
      "execution_count": null,
      "metadata": {
        "id": "5saagig0rvgV"
      },
      "outputs": [],
      "source": [
        "train_batch_size=32\n",
        "eval_batch_size=64\n",
        "\n",
        "train_loader = torch.utils.data.DataLoader(train_dataset,\n",
        "                                           batch_size=train_batch_size,\n",
        "                                           shuffle=True, collate_fn=collate_fn_style,\n",
        "                                           pin_memory=True, num_workers=2)\n",
        "dev_loader = torch.utils.data.DataLoader(dev_dataset, batch_size=eval_batch_size,\n",
        "                                         shuffle=False, collate_fn=collate_fn_style,\n",
        "                                         num_workers=2)"
      ]
    },
    {
      "cell_type": "code",
      "execution_count": null,
      "metadata": {
        "colab": {
          "base_uri": "https://localhost:8080/",
          "height": 1000,
          "referenced_widgets": [
            "191e9dfcaf0b43fda130a5fe378500da",
            "6b41d20f75444c3eb2886195048607a4",
            "a25ce143a10d4427b83b6de22e49993f",
            "f31d57be11ad4ac88ea55aae00166e10",
            "5f32964fab4d4764b9b4bcafcdd07643",
            "1eac45c1d74e4ddda902ea1426567224",
            "ace86f318ba84eb1bd893ed5d449124b",
            "71b492f0747b449ca99abacfab98d172",
            "90b2d15a2b4042b19ea1bbc0c49611c3",
            "b557188693544a8ab8ac51bb2db5a091",
            "908ebdc442134807b0656fef6752cbea"
          ]
        },
        "id": "zvFqCaCnrvgW",
        "outputId": "71043a33-6386-4e79-a109-d8f733cba829"
      },
      "outputs": [
        {
          "output_type": "display_data",
          "data": {
            "text/plain": [
              "Downloading (…)\"pytorch_model.bin\";:   0%|          | 0.00/501M [00:00<?, ?B/s]"
            ],
            "application/vnd.jupyter.widget-view+json": {
              "version_major": 2,
              "version_minor": 0,
              "model_id": "191e9dfcaf0b43fda130a5fe378500da"
            }
          },
          "metadata": {}
        },
        {
          "output_type": "stream",
          "name": "stderr",
          "text": [
            "Some weights of the model checkpoint at roberta-base were not used when initializing RobertaForSequenceClassification: ['lm_head.layer_norm.weight', 'lm_head.bias', 'lm_head.decoder.weight', 'lm_head.layer_norm.bias', 'lm_head.dense.bias', 'roberta.pooler.dense.bias', 'roberta.pooler.dense.weight', 'lm_head.dense.weight']\n",
            "- This IS expected if you are initializing RobertaForSequenceClassification from the checkpoint of a model trained on another task or with another architecture (e.g. initializing a BertForSequenceClassification model from a BertForPreTraining model).\n",
            "- This IS NOT expected if you are initializing RobertaForSequenceClassification from the checkpoint of a model that you expect to be exactly identical (initializing a BertForSequenceClassification model from a BertForSequenceClassification model).\n",
            "Some weights of RobertaForSequenceClassification were not initialized from the model checkpoint at roberta-base and are newly initialized: ['classifier.dense.weight', 'classifier.out_proj.weight', 'classifier.out_proj.bias', 'classifier.dense.bias']\n",
            "You should probably TRAIN this model on a down-stream task to be able to use it for predictions and inference.\n"
          ]
        },
        {
          "output_type": "execute_result",
          "data": {
            "text/plain": [
              "RobertaForSequenceClassification(\n",
              "  (roberta): RobertaModel(\n",
              "    (embeddings): RobertaEmbeddings(\n",
              "      (word_embeddings): Embedding(50265, 768, padding_idx=1)\n",
              "      (position_embeddings): Embedding(514, 768, padding_idx=1)\n",
              "      (token_type_embeddings): Embedding(1, 768)\n",
              "      (LayerNorm): LayerNorm((768,), eps=1e-05, elementwise_affine=True)\n",
              "      (dropout): Dropout(p=0.1, inplace=False)\n",
              "    )\n",
              "    (encoder): RobertaEncoder(\n",
              "      (layer): ModuleList(\n",
              "        (0): RobertaLayer(\n",
              "          (attention): RobertaAttention(\n",
              "            (self): RobertaSelfAttention(\n",
              "              (query): Linear(in_features=768, out_features=768, bias=True)\n",
              "              (key): Linear(in_features=768, out_features=768, bias=True)\n",
              "              (value): Linear(in_features=768, out_features=768, bias=True)\n",
              "              (dropout): Dropout(p=0.1, inplace=False)\n",
              "            )\n",
              "            (output): RobertaSelfOutput(\n",
              "              (dense): Linear(in_features=768, out_features=768, bias=True)\n",
              "              (LayerNorm): LayerNorm((768,), eps=1e-05, elementwise_affine=True)\n",
              "              (dropout): Dropout(p=0.1, inplace=False)\n",
              "            )\n",
              "          )\n",
              "          (intermediate): RobertaIntermediate(\n",
              "            (dense): Linear(in_features=768, out_features=3072, bias=True)\n",
              "            (intermediate_act_fn): GELUActivation()\n",
              "          )\n",
              "          (output): RobertaOutput(\n",
              "            (dense): Linear(in_features=3072, out_features=768, bias=True)\n",
              "            (LayerNorm): LayerNorm((768,), eps=1e-05, elementwise_affine=True)\n",
              "            (dropout): Dropout(p=0.1, inplace=False)\n",
              "          )\n",
              "        )\n",
              "        (1): RobertaLayer(\n",
              "          (attention): RobertaAttention(\n",
              "            (self): RobertaSelfAttention(\n",
              "              (query): Linear(in_features=768, out_features=768, bias=True)\n",
              "              (key): Linear(in_features=768, out_features=768, bias=True)\n",
              "              (value): Linear(in_features=768, out_features=768, bias=True)\n",
              "              (dropout): Dropout(p=0.1, inplace=False)\n",
              "            )\n",
              "            (output): RobertaSelfOutput(\n",
              "              (dense): Linear(in_features=768, out_features=768, bias=True)\n",
              "              (LayerNorm): LayerNorm((768,), eps=1e-05, elementwise_affine=True)\n",
              "              (dropout): Dropout(p=0.1, inplace=False)\n",
              "            )\n",
              "          )\n",
              "          (intermediate): RobertaIntermediate(\n",
              "            (dense): Linear(in_features=768, out_features=3072, bias=True)\n",
              "            (intermediate_act_fn): GELUActivation()\n",
              "          )\n",
              "          (output): RobertaOutput(\n",
              "            (dense): Linear(in_features=3072, out_features=768, bias=True)\n",
              "            (LayerNorm): LayerNorm((768,), eps=1e-05, elementwise_affine=True)\n",
              "            (dropout): Dropout(p=0.1, inplace=False)\n",
              "          )\n",
              "        )\n",
              "        (2): RobertaLayer(\n",
              "          (attention): RobertaAttention(\n",
              "            (self): RobertaSelfAttention(\n",
              "              (query): Linear(in_features=768, out_features=768, bias=True)\n",
              "              (key): Linear(in_features=768, out_features=768, bias=True)\n",
              "              (value): Linear(in_features=768, out_features=768, bias=True)\n",
              "              (dropout): Dropout(p=0.1, inplace=False)\n",
              "            )\n",
              "            (output): RobertaSelfOutput(\n",
              "              (dense): Linear(in_features=768, out_features=768, bias=True)\n",
              "              (LayerNorm): LayerNorm((768,), eps=1e-05, elementwise_affine=True)\n",
              "              (dropout): Dropout(p=0.1, inplace=False)\n",
              "            )\n",
              "          )\n",
              "          (intermediate): RobertaIntermediate(\n",
              "            (dense): Linear(in_features=768, out_features=3072, bias=True)\n",
              "            (intermediate_act_fn): GELUActivation()\n",
              "          )\n",
              "          (output): RobertaOutput(\n",
              "            (dense): Linear(in_features=3072, out_features=768, bias=True)\n",
              "            (LayerNorm): LayerNorm((768,), eps=1e-05, elementwise_affine=True)\n",
              "            (dropout): Dropout(p=0.1, inplace=False)\n",
              "          )\n",
              "        )\n",
              "        (3): RobertaLayer(\n",
              "          (attention): RobertaAttention(\n",
              "            (self): RobertaSelfAttention(\n",
              "              (query): Linear(in_features=768, out_features=768, bias=True)\n",
              "              (key): Linear(in_features=768, out_features=768, bias=True)\n",
              "              (value): Linear(in_features=768, out_features=768, bias=True)\n",
              "              (dropout): Dropout(p=0.1, inplace=False)\n",
              "            )\n",
              "            (output): RobertaSelfOutput(\n",
              "              (dense): Linear(in_features=768, out_features=768, bias=True)\n",
              "              (LayerNorm): LayerNorm((768,), eps=1e-05, elementwise_affine=True)\n",
              "              (dropout): Dropout(p=0.1, inplace=False)\n",
              "            )\n",
              "          )\n",
              "          (intermediate): RobertaIntermediate(\n",
              "            (dense): Linear(in_features=768, out_features=3072, bias=True)\n",
              "            (intermediate_act_fn): GELUActivation()\n",
              "          )\n",
              "          (output): RobertaOutput(\n",
              "            (dense): Linear(in_features=3072, out_features=768, bias=True)\n",
              "            (LayerNorm): LayerNorm((768,), eps=1e-05, elementwise_affine=True)\n",
              "            (dropout): Dropout(p=0.1, inplace=False)\n",
              "          )\n",
              "        )\n",
              "        (4): RobertaLayer(\n",
              "          (attention): RobertaAttention(\n",
              "            (self): RobertaSelfAttention(\n",
              "              (query): Linear(in_features=768, out_features=768, bias=True)\n",
              "              (key): Linear(in_features=768, out_features=768, bias=True)\n",
              "              (value): Linear(in_features=768, out_features=768, bias=True)\n",
              "              (dropout): Dropout(p=0.1, inplace=False)\n",
              "            )\n",
              "            (output): RobertaSelfOutput(\n",
              "              (dense): Linear(in_features=768, out_features=768, bias=True)\n",
              "              (LayerNorm): LayerNorm((768,), eps=1e-05, elementwise_affine=True)\n",
              "              (dropout): Dropout(p=0.1, inplace=False)\n",
              "            )\n",
              "          )\n",
              "          (intermediate): RobertaIntermediate(\n",
              "            (dense): Linear(in_features=768, out_features=3072, bias=True)\n",
              "            (intermediate_act_fn): GELUActivation()\n",
              "          )\n",
              "          (output): RobertaOutput(\n",
              "            (dense): Linear(in_features=3072, out_features=768, bias=True)\n",
              "            (LayerNorm): LayerNorm((768,), eps=1e-05, elementwise_affine=True)\n",
              "            (dropout): Dropout(p=0.1, inplace=False)\n",
              "          )\n",
              "        )\n",
              "        (5): RobertaLayer(\n",
              "          (attention): RobertaAttention(\n",
              "            (self): RobertaSelfAttention(\n",
              "              (query): Linear(in_features=768, out_features=768, bias=True)\n",
              "              (key): Linear(in_features=768, out_features=768, bias=True)\n",
              "              (value): Linear(in_features=768, out_features=768, bias=True)\n",
              "              (dropout): Dropout(p=0.1, inplace=False)\n",
              "            )\n",
              "            (output): RobertaSelfOutput(\n",
              "              (dense): Linear(in_features=768, out_features=768, bias=True)\n",
              "              (LayerNorm): LayerNorm((768,), eps=1e-05, elementwise_affine=True)\n",
              "              (dropout): Dropout(p=0.1, inplace=False)\n",
              "            )\n",
              "          )\n",
              "          (intermediate): RobertaIntermediate(\n",
              "            (dense): Linear(in_features=768, out_features=3072, bias=True)\n",
              "            (intermediate_act_fn): GELUActivation()\n",
              "          )\n",
              "          (output): RobertaOutput(\n",
              "            (dense): Linear(in_features=3072, out_features=768, bias=True)\n",
              "            (LayerNorm): LayerNorm((768,), eps=1e-05, elementwise_affine=True)\n",
              "            (dropout): Dropout(p=0.1, inplace=False)\n",
              "          )\n",
              "        )\n",
              "        (6): RobertaLayer(\n",
              "          (attention): RobertaAttention(\n",
              "            (self): RobertaSelfAttention(\n",
              "              (query): Linear(in_features=768, out_features=768, bias=True)\n",
              "              (key): Linear(in_features=768, out_features=768, bias=True)\n",
              "              (value): Linear(in_features=768, out_features=768, bias=True)\n",
              "              (dropout): Dropout(p=0.1, inplace=False)\n",
              "            )\n",
              "            (output): RobertaSelfOutput(\n",
              "              (dense): Linear(in_features=768, out_features=768, bias=True)\n",
              "              (LayerNorm): LayerNorm((768,), eps=1e-05, elementwise_affine=True)\n",
              "              (dropout): Dropout(p=0.1, inplace=False)\n",
              "            )\n",
              "          )\n",
              "          (intermediate): RobertaIntermediate(\n",
              "            (dense): Linear(in_features=768, out_features=3072, bias=True)\n",
              "            (intermediate_act_fn): GELUActivation()\n",
              "          )\n",
              "          (output): RobertaOutput(\n",
              "            (dense): Linear(in_features=3072, out_features=768, bias=True)\n",
              "            (LayerNorm): LayerNorm((768,), eps=1e-05, elementwise_affine=True)\n",
              "            (dropout): Dropout(p=0.1, inplace=False)\n",
              "          )\n",
              "        )\n",
              "        (7): RobertaLayer(\n",
              "          (attention): RobertaAttention(\n",
              "            (self): RobertaSelfAttention(\n",
              "              (query): Linear(in_features=768, out_features=768, bias=True)\n",
              "              (key): Linear(in_features=768, out_features=768, bias=True)\n",
              "              (value): Linear(in_features=768, out_features=768, bias=True)\n",
              "              (dropout): Dropout(p=0.1, inplace=False)\n",
              "            )\n",
              "            (output): RobertaSelfOutput(\n",
              "              (dense): Linear(in_features=768, out_features=768, bias=True)\n",
              "              (LayerNorm): LayerNorm((768,), eps=1e-05, elementwise_affine=True)\n",
              "              (dropout): Dropout(p=0.1, inplace=False)\n",
              "            )\n",
              "          )\n",
              "          (intermediate): RobertaIntermediate(\n",
              "            (dense): Linear(in_features=768, out_features=3072, bias=True)\n",
              "            (intermediate_act_fn): GELUActivation()\n",
              "          )\n",
              "          (output): RobertaOutput(\n",
              "            (dense): Linear(in_features=3072, out_features=768, bias=True)\n",
              "            (LayerNorm): LayerNorm((768,), eps=1e-05, elementwise_affine=True)\n",
              "            (dropout): Dropout(p=0.1, inplace=False)\n",
              "          )\n",
              "        )\n",
              "        (8): RobertaLayer(\n",
              "          (attention): RobertaAttention(\n",
              "            (self): RobertaSelfAttention(\n",
              "              (query): Linear(in_features=768, out_features=768, bias=True)\n",
              "              (key): Linear(in_features=768, out_features=768, bias=True)\n",
              "              (value): Linear(in_features=768, out_features=768, bias=True)\n",
              "              (dropout): Dropout(p=0.1, inplace=False)\n",
              "            )\n",
              "            (output): RobertaSelfOutput(\n",
              "              (dense): Linear(in_features=768, out_features=768, bias=True)\n",
              "              (LayerNorm): LayerNorm((768,), eps=1e-05, elementwise_affine=True)\n",
              "              (dropout): Dropout(p=0.1, inplace=False)\n",
              "            )\n",
              "          )\n",
              "          (intermediate): RobertaIntermediate(\n",
              "            (dense): Linear(in_features=768, out_features=3072, bias=True)\n",
              "            (intermediate_act_fn): GELUActivation()\n",
              "          )\n",
              "          (output): RobertaOutput(\n",
              "            (dense): Linear(in_features=3072, out_features=768, bias=True)\n",
              "            (LayerNorm): LayerNorm((768,), eps=1e-05, elementwise_affine=True)\n",
              "            (dropout): Dropout(p=0.1, inplace=False)\n",
              "          )\n",
              "        )\n",
              "        (9): RobertaLayer(\n",
              "          (attention): RobertaAttention(\n",
              "            (self): RobertaSelfAttention(\n",
              "              (query): Linear(in_features=768, out_features=768, bias=True)\n",
              "              (key): Linear(in_features=768, out_features=768, bias=True)\n",
              "              (value): Linear(in_features=768, out_features=768, bias=True)\n",
              "              (dropout): Dropout(p=0.1, inplace=False)\n",
              "            )\n",
              "            (output): RobertaSelfOutput(\n",
              "              (dense): Linear(in_features=768, out_features=768, bias=True)\n",
              "              (LayerNorm): LayerNorm((768,), eps=1e-05, elementwise_affine=True)\n",
              "              (dropout): Dropout(p=0.1, inplace=False)\n",
              "            )\n",
              "          )\n",
              "          (intermediate): RobertaIntermediate(\n",
              "            (dense): Linear(in_features=768, out_features=3072, bias=True)\n",
              "            (intermediate_act_fn): GELUActivation()\n",
              "          )\n",
              "          (output): RobertaOutput(\n",
              "            (dense): Linear(in_features=3072, out_features=768, bias=True)\n",
              "            (LayerNorm): LayerNorm((768,), eps=1e-05, elementwise_affine=True)\n",
              "            (dropout): Dropout(p=0.1, inplace=False)\n",
              "          )\n",
              "        )\n",
              "        (10): RobertaLayer(\n",
              "          (attention): RobertaAttention(\n",
              "            (self): RobertaSelfAttention(\n",
              "              (query): Linear(in_features=768, out_features=768, bias=True)\n",
              "              (key): Linear(in_features=768, out_features=768, bias=True)\n",
              "              (value): Linear(in_features=768, out_features=768, bias=True)\n",
              "              (dropout): Dropout(p=0.1, inplace=False)\n",
              "            )\n",
              "            (output): RobertaSelfOutput(\n",
              "              (dense): Linear(in_features=768, out_features=768, bias=True)\n",
              "              (LayerNorm): LayerNorm((768,), eps=1e-05, elementwise_affine=True)\n",
              "              (dropout): Dropout(p=0.1, inplace=False)\n",
              "            )\n",
              "          )\n",
              "          (intermediate): RobertaIntermediate(\n",
              "            (dense): Linear(in_features=768, out_features=3072, bias=True)\n",
              "            (intermediate_act_fn): GELUActivation()\n",
              "          )\n",
              "          (output): RobertaOutput(\n",
              "            (dense): Linear(in_features=3072, out_features=768, bias=True)\n",
              "            (LayerNorm): LayerNorm((768,), eps=1e-05, elementwise_affine=True)\n",
              "            (dropout): Dropout(p=0.1, inplace=False)\n",
              "          )\n",
              "        )\n",
              "        (11): RobertaLayer(\n",
              "          (attention): RobertaAttention(\n",
              "            (self): RobertaSelfAttention(\n",
              "              (query): Linear(in_features=768, out_features=768, bias=True)\n",
              "              (key): Linear(in_features=768, out_features=768, bias=True)\n",
              "              (value): Linear(in_features=768, out_features=768, bias=True)\n",
              "              (dropout): Dropout(p=0.1, inplace=False)\n",
              "            )\n",
              "            (output): RobertaSelfOutput(\n",
              "              (dense): Linear(in_features=768, out_features=768, bias=True)\n",
              "              (LayerNorm): LayerNorm((768,), eps=1e-05, elementwise_affine=True)\n",
              "              (dropout): Dropout(p=0.1, inplace=False)\n",
              "            )\n",
              "          )\n",
              "          (intermediate): RobertaIntermediate(\n",
              "            (dense): Linear(in_features=768, out_features=3072, bias=True)\n",
              "            (intermediate_act_fn): GELUActivation()\n",
              "          )\n",
              "          (output): RobertaOutput(\n",
              "            (dense): Linear(in_features=3072, out_features=768, bias=True)\n",
              "            (LayerNorm): LayerNorm((768,), eps=1e-05, elementwise_affine=True)\n",
              "            (dropout): Dropout(p=0.1, inplace=False)\n",
              "          )\n",
              "        )\n",
              "      )\n",
              "    )\n",
              "  )\n",
              "  (classifier): RobertaClassificationHead(\n",
              "    (dense): Linear(in_features=768, out_features=768, bias=True)\n",
              "    (dropout): Dropout(p=0.1, inplace=False)\n",
              "    (out_proj): Linear(in_features=768, out_features=2, bias=True)\n",
              "  )\n",
              ")"
            ]
          },
          "metadata": {},
          "execution_count": 17
        }
      ],
      "source": [
        "# random seed\n",
        "random_seed=42\n",
        "np.random.seed(random_seed)\n",
        "torch.manual_seed(random_seed)\n",
        "\n",
        "device = torch.device('cuda' if torch.cuda.is_available() else 'cpu')\n",
        "\n",
        "model = RobertaForSequenceClassification.from_pretrained('roberta-base')\n",
        "model.to(device)"
      ]
    },
    {
      "cell_type": "code",
      "execution_count": null,
      "metadata": {
        "id": "dWwhmyMyrvgW",
        "colab": {
          "base_uri": "https://localhost:8080/"
        },
        "outputId": "60804757-7d0d-425e-b9ba-b520d6ddc59a"
      },
      "outputs": [
        {
          "output_type": "stream",
          "name": "stderr",
          "text": [
            "/usr/local/lib/python3.8/dist-packages/transformers/optimization.py:306: FutureWarning: This implementation of AdamW is deprecated and will be removed in a future version. Use the PyTorch implementation torch.optim.AdamW instead, or set `no_deprecation_warning=True` to disable this warning\n",
            "  warnings.warn(\n"
          ]
        }
      ],
      "source": [
        "model.train()\n",
        "learning_rate = 3e-5\n",
        "optimizer = AdamW(model.parameters(), lr=learning_rate)"
      ]
    },
    {
      "cell_type": "code",
      "execution_count": null,
      "metadata": {
        "id": "MztU-L83rvgW"
      },
      "outputs": [],
      "source": [
        "def compute_acc(predictions, target_labels):\n",
        "    return (np.array(predictions) == np.array(target_labels)).mean()"
      ]
    },
    {
      "cell_type": "code",
      "source": [
        "train_epoch = 3\n",
        "lowest_valid_loss = 9999.\n",
        "validation_loss = []\n",
        "accuracy = []\n",
        "patience=6\n",
        "early_stop=False\n",
        "for epoch in range(train_epoch):\n",
        "    if early_stop:\n",
        "        break\n",
        "    with tqdm(train_loader, unit=\"batch\") as tepoch:\n",
        "        for iteration, (input_ids, attention_mask, token_type_ids, position_ids, labels) in enumerate(tepoch):\n",
        "            if early_stop:\n",
        "                break\n",
        "            tepoch.set_description(f\"Epoch {epoch}\")\n",
        "            input_ids = input_ids.to(device)\n",
        "            attention_mask = attention_mask.to(device)\n",
        "            token_type_ids = token_type_ids.to(device)\n",
        "            position_ids = position_ids.to(device)\n",
        "            labels = labels.to(device, dtype=torch.long)\n",
        "            optimizer.zero_grad()\n",
        "\n",
        "            output = model(input_ids=input_ids,\n",
        "                           attention_mask=attention_mask,\n",
        "                           token_type_ids=token_type_ids,\n",
        "                           position_ids=position_ids,\n",
        "                           labels=labels)\n",
        "\n",
        "            loss = output.loss\n",
        "            loss.backward()\n",
        "\n",
        "            optimizer.step()\n",
        "\n",
        "            tepoch.set_postfix(loss=loss.item())\n",
        "            if iteration != 0 and iteration % int(len(train_loader) / 10) == 0:\n",
        "                # Evaluate the model five times per epoch\n",
        "                with torch.no_grad():\n",
        "                    model.eval()\n",
        "                    valid_losses = []\n",
        "                    predictions = []\n",
        "                    target_labels = []\n",
        "                    for input_ids, attention_mask, token_type_ids, position_ids, labels in tqdm(dev_loader,\n",
        "                                                                                                desc='Eval',\n",
        "                                                                                                position=1,\n",
        "                                                                                                leave=None):\n",
        "                        input_ids = input_ids.to(device)\n",
        "                        attention_mask = attention_mask.to(device)\n",
        "                        token_type_ids = token_type_ids.to(device)\n",
        "                        position_ids = position_ids.to(device)\n",
        "                        labels = labels.to(device, dtype=torch.long)\n",
        "\n",
        "                        output = model(input_ids=input_ids,\n",
        "                                       attention_mask=attention_mask,\n",
        "                                       token_type_ids=token_type_ids,\n",
        "                                       position_ids=position_ids,\n",
        "                                       labels=labels)\n",
        "\n",
        "                        logits = output.logits\n",
        "                        loss = output.loss\n",
        "                        valid_losses.append(loss.item())\n",
        "\n",
        "                        batch_predictions = [0 if example[0] > example[1] else 1 for example in logits]\n",
        "                        batch_labels = [int(example) for example in labels]\n",
        "\n",
        "                        predictions += batch_predictions\n",
        "                        target_labels += batch_labels\n",
        "\n",
        "                acc = compute_acc(predictions, target_labels)\n",
        "                valid_loss = sum(valid_losses) / len(valid_losses)\n",
        "                accuracy.append(acc)\n",
        "                validation_loss.append(valid_loss)\n",
        "                if lowest_valid_loss > valid_loss:\n",
        "                    lowest_valid_loss=valid_loss\n",
        "                    print('Acc for model which have lower valid loss: ', acc)\n",
        "                else:\n",
        "                    patience-=1  \n",
        "                    print(\"overfit?\")  \n",
        "                    if patience<0:\n",
        "                        print(\"Oops\")\n",
        "                        early_stop=True\n",
        "                \n",
        "                torch.save(model.state_dict(), \"./pytorch_model.bin\")\n"
      ],
      "metadata": {
        "colab": {
          "base_uri": "https://localhost:8080/"
        },
        "id": "Ghu45p9GowWm",
        "outputId": "54fb77be-2c90-4fcf-aff1-cc47999a7f47"
      },
      "execution_count": 24,
      "outputs": [
        {
          "metadata": {
            "tags": null
          },
          "name": "stderr",
          "output_type": "stream",
          "text": [
            "Epoch 0:  10%|▉         | 1385/13852 [03:22<30:58,  6.71batch/s, loss=0.129]\n",
            "Eval:   0%|          | 0/63 [00:00<?, ?it/s]\u001b[A\n",
            "Eval:   2%|▏         | 1/63 [00:00<00:09,  6.64it/s]\u001b[A\n",
            "Eval:   5%|▍         | 3/63 [00:00<00:05, 10.62it/s]\u001b[A\n",
            "Eval:   8%|▊         | 5/63 [00:00<00:04, 12.16it/s]\u001b[A\n",
            "Eval:  11%|█         | 7/63 [00:00<00:04, 12.93it/s]\u001b[A\n",
            "Eval:  14%|█▍        | 9/63 [00:00<00:04, 13.36it/s]\u001b[A\n",
            "Eval:  17%|█▋        | 11/63 [00:00<00:03, 13.56it/s]\u001b[A\n",
            "Eval:  21%|██        | 13/63 [00:01<00:03, 13.37it/s]\u001b[A\n",
            "Eval:  24%|██▍       | 15/63 [00:01<00:03, 13.35it/s]\u001b[A\n",
            "Eval:  27%|██▋       | 17/63 [00:01<00:03, 13.53it/s]\u001b[A\n",
            "Eval:  30%|███       | 19/63 [00:01<00:03, 13.63it/s]\u001b[A\n",
            "Eval:  33%|███▎      | 21/63 [00:01<00:03, 13.59it/s]\u001b[A\n",
            "Eval:  37%|███▋      | 23/63 [00:01<00:02, 13.71it/s]\u001b[A\n",
            "Eval:  40%|███▉      | 25/63 [00:01<00:02, 13.43it/s]\u001b[A\n",
            "Eval:  43%|████▎     | 27/63 [00:02<00:02, 13.36it/s]\u001b[A\n",
            "Eval:  46%|████▌     | 29/63 [00:02<00:02, 13.50it/s]\u001b[A\n",
            "Eval:  49%|████▉     | 31/63 [00:02<00:02, 13.63it/s]\u001b[A\n",
            "Eval:  52%|█████▏    | 33/63 [00:02<00:02, 13.73it/s]\u001b[A\n",
            "Eval:  56%|█████▌    | 35/63 [00:02<00:02, 13.35it/s]\u001b[A\n",
            "Eval:  59%|█████▊    | 37/63 [00:02<00:01, 13.14it/s]\u001b[A\n",
            "Eval:  62%|██████▏   | 39/63 [00:02<00:01, 12.88it/s]\u001b[A\n",
            "Eval:  65%|██████▌   | 41/63 [00:03<00:01, 13.07it/s]\u001b[A\n",
            "Eval:  68%|██████▊   | 43/63 [00:03<00:01, 12.71it/s]\u001b[A\n",
            "Eval:  71%|███████▏  | 45/63 [00:03<00:01, 12.61it/s]\u001b[A\n",
            "Eval:  75%|███████▍  | 47/63 [00:03<00:01, 12.42it/s]\u001b[A\n",
            "Eval:  78%|███████▊  | 49/63 [00:03<00:01, 12.81it/s]\u001b[A\n",
            "Eval:  81%|████████  | 51/63 [00:03<00:00, 12.95it/s]\u001b[A\n",
            "Eval:  84%|████████▍ | 53/63 [00:04<00:00, 12.96it/s]\u001b[A\n",
            "Eval:  87%|████████▋ | 55/63 [00:04<00:00, 12.76it/s]\u001b[A\n",
            "Eval:  90%|█████████ | 57/63 [00:04<00:00, 12.83it/s]\u001b[A\n",
            "Eval:  94%|█████████▎| 59/63 [00:04<00:00, 12.94it/s]\u001b[A\n",
            "Eval:  97%|█████████▋| 61/63 [00:04<00:00, 13.07it/s]\u001b[A\n",
            "Eval: 100%|██████████| 63/63 [00:04<00:00, 13.85it/s]\u001b[A\n",
            "                                                     \u001b[A"
          ]
        },
        {
          "metadata": {
            "tags": null
          },
          "name": "stdout",
          "output_type": "stream",
          "text": [
            "Acc for model which have lower valid loss:  0.9675\n"
          ]
        },
        {
          "metadata": {
            "tags": null
          },
          "name": "stderr",
          "output_type": "stream",
          "text": [
            "Epoch 0:  20%|█▉        | 2770/13852 [06:48<27:19,  6.76batch/s, loss=0.261] \n",
            "Eval:   0%|          | 0/63 [00:00<?, ?it/s]\u001b[A\n",
            "Eval:   2%|▏         | 1/63 [00:00<00:08,  6.94it/s]\u001b[A\n",
            "Eval:   5%|▍         | 3/63 [00:00<00:05, 10.92it/s]\u001b[A\n",
            "Eval:   8%|▊         | 5/63 [00:00<00:04, 12.40it/s]\u001b[A\n",
            "Eval:  11%|█         | 7/63 [00:00<00:04, 13.11it/s]\u001b[A\n",
            "Eval:  14%|█▍        | 9/63 [00:00<00:03, 13.52it/s]\u001b[A\n",
            "Eval:  17%|█▋        | 11/63 [00:00<00:03, 13.69it/s]\u001b[A\n",
            "Eval:  21%|██        | 13/63 [00:01<00:03, 13.30it/s]\u001b[A\n",
            "Eval:  24%|██▍       | 15/63 [00:01<00:03, 13.27it/s]\u001b[A\n",
            "Eval:  27%|██▋       | 17/63 [00:01<00:03, 13.58it/s]\u001b[A\n",
            "Eval:  30%|███       | 19/63 [00:01<00:03, 13.75it/s]\u001b[A\n",
            "Eval:  33%|███▎      | 21/63 [00:01<00:03, 13.75it/s]\u001b[A\n",
            "Eval:  37%|███▋      | 23/63 [00:01<00:02, 13.92it/s]\u001b[A\n",
            "Eval:  40%|███▉      | 25/63 [00:01<00:02, 13.53it/s]\u001b[A\n",
            "Eval:  43%|████▎     | 27/63 [00:02<00:02, 13.42it/s]\u001b[A\n",
            "Eval:  46%|████▌     | 29/63 [00:02<00:02, 13.59it/s]\u001b[A\n",
            "Eval:  49%|████▉     | 31/63 [00:02<00:02, 13.76it/s]\u001b[A\n",
            "Eval:  52%|█████▏    | 33/63 [00:02<00:02, 13.91it/s]\u001b[A\n",
            "Eval:  56%|█████▌    | 35/63 [00:02<00:02, 13.52it/s]\u001b[A\n",
            "Eval:  59%|█████▊    | 37/63 [00:02<00:01, 13.24it/s]\u001b[A\n",
            "Eval:  62%|██████▏   | 39/63 [00:02<00:01, 12.89it/s]\u001b[A\n",
            "Eval:  65%|██████▌   | 41/63 [00:03<00:01, 12.96it/s]\u001b[A\n",
            "Eval:  68%|██████▊   | 43/63 [00:03<00:01, 12.73it/s]\u001b[A\n",
            "Eval:  71%|███████▏  | 45/63 [00:03<00:01, 12.72it/s]\u001b[A\n",
            "Eval:  75%|███████▍  | 47/63 [00:03<00:01, 12.62it/s]\u001b[A\n",
            "Eval:  78%|███████▊  | 49/63 [00:03<00:01, 13.00it/s]\u001b[A\n",
            "Eval:  81%|████████  | 51/63 [00:03<00:00, 13.15it/s]\u001b[A\n",
            "Eval:  84%|████████▍ | 53/63 [00:04<00:00, 13.14it/s]\u001b[A\n",
            "Eval:  87%|████████▋ | 55/63 [00:04<00:00, 12.90it/s]\u001b[A\n",
            "Eval:  90%|█████████ | 57/63 [00:04<00:00, 12.95it/s]\u001b[A\n",
            "Eval:  94%|█████████▎| 59/63 [00:04<00:00, 13.09it/s]\u001b[A\n",
            "Eval:  97%|█████████▋| 61/63 [00:04<00:00, 13.18it/s]\u001b[A\n",
            "Eval: 100%|██████████| 63/63 [00:04<00:00, 14.17it/s]\u001b[A\n",
            "                                                     \u001b[A"
          ]
        },
        {
          "metadata": {
            "tags": null
          },
          "name": "stdout",
          "output_type": "stream",
          "text": [
            "Acc for model which have lower valid loss:  0.96925\n"
          ]
        },
        {
          "metadata": {
            "tags": null
          },
          "name": "stderr",
          "output_type": "stream",
          "text": [
            "Epoch 0:  30%|██▉       | 4155/13852 [10:14<24:34,  6.58batch/s, loss=0.0852]\n",
            "Eval:   0%|          | 0/63 [00:00<?, ?it/s]\u001b[A\n",
            "Eval:   2%|▏         | 1/63 [00:00<00:09,  6.78it/s]\u001b[A\n",
            "Eval:   5%|▍         | 3/63 [00:00<00:05, 10.81it/s]\u001b[A\n",
            "Eval:   8%|▊         | 5/63 [00:00<00:04, 12.29it/s]\u001b[A\n",
            "Eval:  11%|█         | 7/63 [00:00<00:04, 12.98it/s]\u001b[A\n",
            "Eval:  14%|█▍        | 9/63 [00:00<00:04, 13.41it/s]\u001b[A\n",
            "Eval:  17%|█▋        | 11/63 [00:00<00:03, 13.60it/s]\u001b[A\n",
            "Eval:  21%|██        | 13/63 [00:01<00:03, 13.34it/s]\u001b[A\n",
            "Eval:  24%|██▍       | 15/63 [00:01<00:03, 13.26it/s]\u001b[A\n",
            "Eval:  27%|██▋       | 17/63 [00:01<00:03, 13.53it/s]\u001b[A\n",
            "Eval:  30%|███       | 19/63 [00:01<00:03, 13.72it/s]\u001b[A\n",
            "Eval:  33%|███▎      | 21/63 [00:01<00:03, 13.68it/s]\u001b[A\n",
            "Eval:  37%|███▋      | 23/63 [00:01<00:02, 13.82it/s]\u001b[A\n",
            "Eval:  40%|███▉      | 25/63 [00:01<00:02, 13.52it/s]\u001b[A\n",
            "Eval:  43%|████▎     | 27/63 [00:02<00:02, 13.49it/s]\u001b[A\n",
            "Eval:  46%|████▌     | 29/63 [00:02<00:02, 13.64it/s]\u001b[A\n",
            "Eval:  49%|████▉     | 31/63 [00:02<00:02, 13.79it/s]\u001b[A\n",
            "Eval:  52%|█████▏    | 33/63 [00:02<00:02, 13.88it/s]\u001b[A\n",
            "Eval:  56%|█████▌    | 35/63 [00:02<00:02, 13.50it/s]\u001b[A\n",
            "Eval:  59%|█████▊    | 37/63 [00:02<00:01, 13.22it/s]\u001b[A\n",
            "Eval:  62%|██████▏   | 39/63 [00:02<00:01, 12.88it/s]\u001b[A\n",
            "Eval:  65%|██████▌   | 41/63 [00:03<00:01, 12.94it/s]\u001b[A\n",
            "Eval:  68%|██████▊   | 43/63 [00:03<00:01, 12.72it/s]\u001b[A\n",
            "Eval:  71%|███████▏  | 45/63 [00:03<00:01, 12.69it/s]\u001b[A\n",
            "Eval:  75%|███████▍  | 47/63 [00:03<00:01, 12.60it/s]\u001b[A\n",
            "Eval:  78%|███████▊  | 49/63 [00:03<00:01, 13.01it/s]\u001b[A\n",
            "Eval:  81%|████████  | 51/63 [00:03<00:00, 13.15it/s]\u001b[A\n",
            "Eval:  84%|████████▍ | 53/63 [00:04<00:00, 13.11it/s]\u001b[A\n",
            "Eval:  87%|████████▋ | 55/63 [00:04<00:00, 12.93it/s]\u001b[A\n",
            "Eval:  90%|█████████ | 57/63 [00:04<00:00, 12.90it/s]\u001b[A\n",
            "Eval:  94%|█████████▎| 59/63 [00:04<00:00, 13.10it/s]\u001b[A\n",
            "Eval:  97%|█████████▋| 61/63 [00:04<00:00, 13.21it/s]\u001b[A\n",
            "Eval: 100%|██████████| 63/63 [00:04<00:00, 14.13it/s]\u001b[A\n",
            "                                                     \u001b[A"
          ]
        },
        {
          "metadata": {
            "tags": null
          },
          "name": "stdout",
          "output_type": "stream",
          "text": [
            "overfit?\n"
          ]
        },
        {
          "metadata": {
            "tags": null
          },
          "name": "stderr",
          "output_type": "stream",
          "text": [
            "Epoch 0:  40%|███▉      | 5540/13852 [13:41<19:39,  7.05batch/s, loss=0.0161]\n",
            "Eval:   0%|          | 0/63 [00:00<?, ?it/s]\u001b[A\n",
            "Eval:   2%|▏         | 1/63 [00:00<00:08,  7.32it/s]\u001b[A\n",
            "Eval:   5%|▍         | 3/63 [00:00<00:05, 11.13it/s]\u001b[A\n",
            "Eval:   8%|▊         | 5/63 [00:00<00:04, 12.53it/s]\u001b[A\n",
            "Eval:  11%|█         | 7/63 [00:00<00:04, 13.20it/s]\u001b[A\n",
            "Eval:  14%|█▍        | 9/63 [00:00<00:03, 13.58it/s]\u001b[A\n",
            "Eval:  17%|█▋        | 11/63 [00:00<00:03, 13.65it/s]\u001b[A\n",
            "Eval:  21%|██        | 13/63 [00:01<00:03, 13.36it/s]\u001b[A\n",
            "Eval:  24%|██▍       | 15/63 [00:01<00:03, 13.30it/s]\u001b[A\n",
            "Eval:  27%|██▋       | 17/63 [00:01<00:03, 13.54it/s]\u001b[A\n",
            "Eval:  30%|███       | 19/63 [00:01<00:03, 13.73it/s]\u001b[A\n",
            "Eval:  33%|███▎      | 21/63 [00:01<00:03, 13.72it/s]\u001b[A\n",
            "Eval:  37%|███▋      | 23/63 [00:01<00:02, 13.82it/s]\u001b[A\n",
            "Eval:  40%|███▉      | 25/63 [00:01<00:02, 13.55it/s]\u001b[A\n",
            "Eval:  43%|████▎     | 27/63 [00:02<00:02, 13.40it/s]\u001b[A\n",
            "Eval:  46%|████▌     | 29/63 [00:02<00:02, 13.54it/s]\u001b[A\n",
            "Eval:  49%|████▉     | 31/63 [00:02<00:02, 13.64it/s]\u001b[A\n",
            "Eval:  52%|█████▏    | 33/63 [00:02<00:02, 13.71it/s]\u001b[A\n",
            "Eval:  56%|█████▌    | 35/63 [00:02<00:02, 13.39it/s]\u001b[A\n",
            "Eval:  59%|█████▊    | 37/63 [00:02<00:01, 13.22it/s]\u001b[A\n",
            "Eval:  62%|██████▏   | 39/63 [00:02<00:01, 12.92it/s]\u001b[A\n",
            "Eval:  65%|██████▌   | 41/63 [00:03<00:01, 13.03it/s]\u001b[A\n",
            "Eval:  68%|██████▊   | 43/63 [00:03<00:01, 12.84it/s]\u001b[A\n",
            "Eval:  71%|███████▏  | 45/63 [00:03<00:01, 12.83it/s]\u001b[A\n",
            "Eval:  75%|███████▍  | 47/63 [00:03<00:01, 12.71it/s]\u001b[A\n",
            "Eval:  78%|███████▊  | 49/63 [00:03<00:01, 13.05it/s]\u001b[A\n",
            "Eval:  81%|████████  | 51/63 [00:03<00:00, 13.22it/s]\u001b[A\n",
            "Eval:  84%|████████▍ | 53/63 [00:04<00:00, 13.23it/s]\u001b[A\n",
            "Eval:  87%|████████▋ | 55/63 [00:04<00:00, 12.96it/s]\u001b[A\n",
            "Eval:  90%|█████████ | 57/63 [00:04<00:00, 12.95it/s]\u001b[A\n",
            "Eval:  94%|█████████▎| 59/63 [00:04<00:00, 13.15it/s]\u001b[A\n",
            "Eval:  97%|█████████▋| 61/63 [00:04<00:00, 13.21it/s]\u001b[A\n",
            "Eval: 100%|██████████| 63/63 [00:04<00:00, 14.08it/s]\u001b[A\n",
            "                                                     \u001b[A"
          ]
        },
        {
          "metadata": {
            "tags": null
          },
          "name": "stdout",
          "output_type": "stream",
          "text": [
            "Acc for model which have lower valid loss:  0.96825\n"
          ]
        },
        {
          "metadata": {
            "tags": null
          },
          "name": "stderr",
          "output_type": "stream",
          "text": [
            "Epoch 0:  50%|████▉     | 6925/13852 [17:07<16:45,  6.89batch/s, loss=0.0402] \n",
            "Eval:   0%|          | 0/63 [00:00<?, ?it/s]\u001b[A\n",
            "Eval:   2%|▏         | 1/63 [00:00<00:08,  7.34it/s]\u001b[A\n",
            "Eval:   5%|▍         | 3/63 [00:00<00:05, 11.09it/s]\u001b[A\n",
            "Eval:   8%|▊         | 5/63 [00:00<00:04, 12.52it/s]\u001b[A\n",
            "Eval:  11%|█         | 7/63 [00:00<00:04, 13.15it/s]\u001b[A\n",
            "Eval:  14%|█▍        | 9/63 [00:00<00:03, 13.58it/s]\u001b[A\n",
            "Eval:  17%|█▋        | 11/63 [00:00<00:03, 13.81it/s]\u001b[A\n",
            "Eval:  21%|██        | 13/63 [00:01<00:03, 13.30it/s]\u001b[A\n",
            "Eval:  24%|██▍       | 15/63 [00:01<00:03, 13.26it/s]\u001b[A\n",
            "Eval:  27%|██▋       | 17/63 [00:01<00:03, 13.52it/s]\u001b[A\n",
            "Eval:  30%|███       | 19/63 [00:01<00:03, 13.73it/s]\u001b[A\n",
            "Eval:  33%|███▎      | 21/63 [00:01<00:03, 13.72it/s]\u001b[A\n",
            "Eval:  37%|███▋      | 23/63 [00:01<00:02, 13.85it/s]\u001b[A\n",
            "Eval:  40%|███▉      | 25/63 [00:01<00:02, 13.55it/s]\u001b[A\n",
            "Eval:  43%|████▎     | 27/63 [00:02<00:02, 13.46it/s]\u001b[A\n",
            "Eval:  46%|████▌     | 29/63 [00:02<00:02, 13.64it/s]\u001b[A\n",
            "Eval:  49%|████▉     | 31/63 [00:02<00:02, 13.74it/s]\u001b[A\n",
            "Eval:  52%|█████▏    | 33/63 [00:02<00:02, 13.87it/s]\u001b[A\n",
            "Eval:  56%|█████▌    | 35/63 [00:02<00:02, 13.56it/s]\u001b[A\n",
            "Eval:  59%|█████▊    | 37/63 [00:02<00:01, 13.37it/s]\u001b[A\n",
            "Eval:  62%|██████▏   | 39/63 [00:02<00:01, 12.91it/s]\u001b[A\n",
            "Eval:  65%|██████▌   | 41/63 [00:03<00:01, 13.02it/s]\u001b[A\n",
            "Eval:  68%|██████▊   | 43/63 [00:03<00:01, 12.83it/s]\u001b[A\n",
            "Eval:  71%|███████▏  | 45/63 [00:03<00:01, 12.80it/s]\u001b[A\n",
            "Eval:  75%|███████▍  | 47/63 [00:03<00:01, 12.65it/s]\u001b[A\n",
            "Eval:  78%|███████▊  | 49/63 [00:03<00:01, 13.05it/s]\u001b[A\n",
            "Eval:  81%|████████  | 51/63 [00:03<00:00, 13.20it/s]\u001b[A\n",
            "Eval:  84%|████████▍ | 53/63 [00:04<00:00, 13.12it/s]\u001b[A\n",
            "Eval:  87%|████████▋ | 55/63 [00:04<00:00, 12.91it/s]\u001b[A\n",
            "Eval:  90%|█████████ | 57/63 [00:04<00:00, 12.90it/s]\u001b[A\n",
            "Eval:  94%|█████████▎| 59/63 [00:04<00:00, 13.06it/s]\u001b[A\n",
            "Eval:  97%|█████████▋| 61/63 [00:04<00:00, 13.14it/s]\u001b[A\n",
            "Eval: 100%|██████████| 63/63 [00:04<00:00, 14.07it/s]\u001b[A\n",
            "                                                     \u001b[A"
          ]
        },
        {
          "metadata": {
            "tags": null
          },
          "name": "stdout",
          "output_type": "stream",
          "text": [
            "Acc for model which have lower valid loss:  0.9705\n"
          ]
        },
        {
          "metadata": {
            "tags": null
          },
          "name": "stderr",
          "output_type": "stream",
          "text": [
            "Epoch 0:  60%|█████▉    | 8310/13852 [20:33<13:03,  7.08batch/s, loss=0.427]\n",
            "Eval:   0%|          | 0/63 [00:00<?, ?it/s]\u001b[A\n",
            "Eval:   2%|▏         | 1/63 [00:00<00:09,  6.87it/s]\u001b[A\n",
            "Eval:   5%|▍         | 3/63 [00:00<00:05, 10.97it/s]\u001b[A\n",
            "Eval:   8%|▊         | 5/63 [00:00<00:04, 12.41it/s]\u001b[A\n",
            "Eval:  11%|█         | 7/63 [00:00<00:04, 13.11it/s]\u001b[A\n",
            "Eval:  14%|█▍        | 9/63 [00:00<00:03, 13.53it/s]\u001b[A\n",
            "Eval:  17%|█▋        | 11/63 [00:00<00:03, 13.75it/s]\u001b[A\n",
            "Eval:  21%|██        | 13/63 [00:01<00:03, 13.41it/s]\u001b[A\n",
            "Eval:  24%|██▍       | 15/63 [00:01<00:03, 13.41it/s]\u001b[A\n",
            "Eval:  27%|██▋       | 17/63 [00:01<00:03, 13.65it/s]\u001b[A\n",
            "Eval:  30%|███       | 19/63 [00:01<00:03, 13.80it/s]\u001b[A\n",
            "Eval:  33%|███▎      | 21/63 [00:01<00:03, 13.79it/s]\u001b[A\n",
            "Eval:  37%|███▋      | 23/63 [00:01<00:02, 13.90it/s]\u001b[A\n",
            "Eval:  40%|███▉      | 25/63 [00:01<00:02, 13.66it/s]\u001b[A\n",
            "Eval:  43%|████▎     | 27/63 [00:02<00:02, 13.54it/s]\u001b[A\n",
            "Eval:  46%|████▌     | 29/63 [00:02<00:02, 13.71it/s]\u001b[A\n",
            "Eval:  49%|████▉     | 31/63 [00:02<00:02, 13.88it/s]\u001b[A\n",
            "Eval:  52%|█████▏    | 33/63 [00:02<00:02, 13.88it/s]\u001b[A\n",
            "Eval:  56%|█████▌    | 35/63 [00:02<00:02, 13.56it/s]\u001b[A\n",
            "Eval:  59%|█████▊    | 37/63 [00:02<00:01, 13.27it/s]\u001b[A\n",
            "Eval:  62%|██████▏   | 39/63 [00:02<00:01, 12.84it/s]\u001b[A\n",
            "Eval:  65%|██████▌   | 41/63 [00:03<00:01, 12.94it/s]\u001b[A\n",
            "Eval:  68%|██████▊   | 43/63 [00:03<00:01, 12.70it/s]\u001b[A\n",
            "Eval:  71%|███████▏  | 45/63 [00:03<00:01, 12.61it/s]\u001b[A\n",
            "Eval:  75%|███████▍  | 47/63 [00:03<00:01, 12.48it/s]\u001b[A\n",
            "Eval:  78%|███████▊  | 49/63 [00:03<00:01, 12.89it/s]\u001b[A\n",
            "Eval:  81%|████████  | 51/63 [00:03<00:00, 13.03it/s]\u001b[A\n",
            "Eval:  84%|████████▍ | 53/63 [00:04<00:00, 13.08it/s]\u001b[A\n",
            "Eval:  87%|████████▋ | 55/63 [00:04<00:00, 12.94it/s]\u001b[A\n",
            "Eval:  90%|█████████ | 57/63 [00:04<00:00, 13.02it/s]\u001b[A\n",
            "Eval:  94%|█████████▎| 59/63 [00:04<00:00, 13.13it/s]\u001b[A\n",
            "Eval:  97%|█████████▋| 61/63 [00:04<00:00, 13.33it/s]\u001b[A\n",
            "Eval: 100%|██████████| 63/63 [00:04<00:00, 14.26it/s]\u001b[A\n",
            "                                                     \u001b[A"
          ]
        },
        {
          "metadata": {
            "tags": null
          },
          "name": "stdout",
          "output_type": "stream",
          "text": [
            "overfit?\n"
          ]
        },
        {
          "metadata": {
            "tags": null
          },
          "name": "stderr",
          "output_type": "stream",
          "text": [
            "Epoch 0:  70%|██████▉   | 9695/13852 [23:59<09:54,  6.99batch/s, loss=0.0209]\n",
            "Eval:   0%|          | 0/63 [00:00<?, ?it/s]\u001b[A\n",
            "Eval:   2%|▏         | 1/63 [00:00<00:09,  6.46it/s]\u001b[A\n",
            "Eval:   5%|▍         | 3/63 [00:00<00:05, 10.63it/s]\u001b[A\n",
            "Eval:   8%|▊         | 5/63 [00:00<00:04, 12.10it/s]\u001b[A\n",
            "Eval:  11%|█         | 7/63 [00:00<00:04, 12.89it/s]\u001b[A\n",
            "Eval:  14%|█▍        | 9/63 [00:00<00:04, 13.41it/s]\u001b[A\n",
            "Eval:  17%|█▋        | 11/63 [00:00<00:03, 13.63it/s]\u001b[A\n",
            "Eval:  21%|██        | 13/63 [00:01<00:03, 13.21it/s]\u001b[A\n",
            "Eval:  24%|██▍       | 15/63 [00:01<00:03, 13.24it/s]\u001b[A\n",
            "Eval:  27%|██▋       | 17/63 [00:01<00:03, 13.51it/s]\u001b[A\n",
            "Eval:  30%|███       | 19/63 [00:01<00:03, 13.67it/s]\u001b[A\n",
            "Eval:  33%|███▎      | 21/63 [00:01<00:03, 13.65it/s]\u001b[A\n",
            "Eval:  37%|███▋      | 23/63 [00:01<00:02, 13.84it/s]\u001b[A\n",
            "Eval:  40%|███▉      | 25/63 [00:01<00:02, 13.46it/s]\u001b[A\n",
            "Eval:  43%|████▎     | 27/63 [00:02<00:02, 13.48it/s]\u001b[A\n",
            "Eval:  46%|████▌     | 29/63 [00:02<00:02, 13.63it/s]\u001b[A\n",
            "Eval:  49%|████▉     | 31/63 [00:02<00:02, 13.76it/s]\u001b[A\n",
            "Eval:  52%|█████▏    | 33/63 [00:02<00:02, 13.87it/s]\u001b[A\n",
            "Eval:  56%|█████▌    | 35/63 [00:02<00:02, 13.52it/s]\u001b[A\n",
            "Eval:  59%|█████▊    | 37/63 [00:02<00:01, 13.35it/s]\u001b[A\n",
            "Eval:  62%|██████▏   | 39/63 [00:02<00:01, 12.95it/s]\u001b[A\n",
            "Eval:  65%|██████▌   | 41/63 [00:03<00:01, 13.12it/s]\u001b[A\n",
            "Eval:  68%|██████▊   | 43/63 [00:03<00:01, 12.87it/s]\u001b[A\n",
            "Eval:  71%|███████▏  | 45/63 [00:03<00:01, 12.82it/s]\u001b[A\n",
            "Eval:  75%|███████▍  | 47/63 [00:03<00:01, 12.71it/s]\u001b[A\n",
            "Eval:  78%|███████▊  | 49/63 [00:03<00:01, 13.11it/s]\u001b[A\n",
            "Eval:  81%|████████  | 51/63 [00:03<00:00, 13.28it/s]\u001b[A\n",
            "Eval:  84%|████████▍ | 53/63 [00:04<00:00, 13.21it/s]\u001b[A\n",
            "Eval:  87%|████████▋ | 55/63 [00:04<00:00, 12.99it/s]\u001b[A\n",
            "Eval:  90%|█████████ | 57/63 [00:04<00:00, 13.01it/s]\u001b[A\n",
            "Eval:  94%|█████████▎| 59/63 [00:04<00:00, 13.16it/s]\u001b[A\n",
            "Eval:  97%|█████████▋| 61/63 [00:04<00:00, 13.24it/s]\u001b[A\n",
            "Eval: 100%|██████████| 63/63 [00:04<00:00, 14.11it/s]\u001b[A\n",
            "                                                     \u001b[A"
          ]
        },
        {
          "metadata": {
            "tags": null
          },
          "name": "stdout",
          "output_type": "stream",
          "text": [
            "overfit?\n"
          ]
        },
        {
          "metadata": {
            "tags": null
          },
          "name": "stderr",
          "output_type": "stream",
          "text": [
            "Epoch 0:  80%|███████▉  | 11080/13852 [27:24<06:32,  7.05batch/s, loss=0.0782]\n",
            "Eval:   0%|          | 0/63 [00:00<?, ?it/s]\u001b[A\n",
            "Eval:   2%|▏         | 1/63 [00:00<00:08,  7.19it/s]\u001b[A\n",
            "Eval:   5%|▍         | 3/63 [00:00<00:05, 11.22it/s]\u001b[A\n",
            "Eval:   8%|▊         | 5/63 [00:00<00:04, 12.53it/s]\u001b[A\n",
            "Eval:  11%|█         | 7/63 [00:00<00:04, 13.17it/s]\u001b[A\n",
            "Eval:  14%|█▍        | 9/63 [00:00<00:03, 13.60it/s]\u001b[A\n",
            "Eval:  17%|█▋        | 11/63 [00:00<00:03, 13.82it/s]\u001b[A\n",
            "Eval:  21%|██        | 13/63 [00:01<00:03, 13.30it/s]\u001b[A\n",
            "Eval:  24%|██▍       | 15/63 [00:01<00:03, 13.34it/s]\u001b[A\n",
            "Eval:  27%|██▋       | 17/63 [00:01<00:03, 13.53it/s]\u001b[A\n",
            "Eval:  30%|███       | 19/63 [00:01<00:03, 13.69it/s]\u001b[A\n",
            "Eval:  33%|███▎      | 21/63 [00:01<00:03, 13.63it/s]\u001b[A\n",
            "Eval:  37%|███▋      | 23/63 [00:01<00:02, 13.78it/s]\u001b[A\n",
            "Eval:  40%|███▉      | 25/63 [00:01<00:02, 13.43it/s]\u001b[A\n",
            "Eval:  43%|████▎     | 27/63 [00:02<00:02, 13.30it/s]\u001b[A\n",
            "Eval:  46%|████▌     | 29/63 [00:02<00:02, 13.46it/s]\u001b[A\n",
            "Eval:  49%|████▉     | 31/63 [00:02<00:02, 13.61it/s]\u001b[A\n",
            "Eval:  52%|█████▏    | 33/63 [00:02<00:02, 13.71it/s]\u001b[A\n",
            "Eval:  56%|█████▌    | 35/63 [00:02<00:02, 13.45it/s]\u001b[A\n",
            "Eval:  59%|█████▊    | 37/63 [00:02<00:01, 13.31it/s]\u001b[A\n",
            "Eval:  62%|██████▏   | 39/63 [00:02<00:01, 12.89it/s]\u001b[A\n",
            "Eval:  65%|██████▌   | 41/63 [00:03<00:01, 13.00it/s]\u001b[A\n",
            "Eval:  68%|██████▊   | 43/63 [00:03<00:01, 12.83it/s]\u001b[A\n",
            "Eval:  71%|███████▏  | 45/63 [00:03<00:01, 12.84it/s]\u001b[A\n",
            "Eval:  75%|███████▍  | 47/63 [00:03<00:01, 12.74it/s]\u001b[A\n",
            "Eval:  78%|███████▊  | 49/63 [00:03<00:01, 13.16it/s]\u001b[A\n",
            "Eval:  81%|████████  | 51/63 [00:03<00:00, 13.25it/s]\u001b[A\n",
            "Eval:  84%|████████▍ | 53/63 [00:04<00:00, 13.24it/s]\u001b[A\n",
            "Eval:  87%|████████▋ | 55/63 [00:04<00:00, 13.05it/s]\u001b[A\n",
            "Eval:  90%|█████████ | 57/63 [00:04<00:00, 13.12it/s]\u001b[A\n",
            "Eval:  94%|█████████▎| 59/63 [00:04<00:00, 13.16it/s]\u001b[A\n",
            "Eval:  97%|█████████▋| 61/63 [00:04<00:00, 13.30it/s]\u001b[A\n",
            "Eval: 100%|██████████| 63/63 [00:04<00:00, 14.27it/s]\u001b[A\n",
            "                                                     \u001b[A"
          ]
        },
        {
          "metadata": {
            "tags": null
          },
          "name": "stdout",
          "output_type": "stream",
          "text": [
            "overfit?\n"
          ]
        },
        {
          "metadata": {
            "tags": null
          },
          "name": "stderr",
          "output_type": "stream",
          "text": [
            "Epoch 0:  90%|████████▉ | 12465/13852 [30:50<03:18,  6.98batch/s, loss=0.0454]\n",
            "Eval:   0%|          | 0/63 [00:00<?, ?it/s]\u001b[A\n",
            "Eval:   2%|▏         | 1/63 [00:00<00:08,  7.25it/s]\u001b[A\n",
            "Eval:   5%|▍         | 3/63 [00:00<00:05, 11.09it/s]\u001b[A\n",
            "Eval:   8%|▊         | 5/63 [00:00<00:04, 12.49it/s]\u001b[A\n",
            "Eval:  11%|█         | 7/63 [00:00<00:04, 13.15it/s]\u001b[A\n",
            "Eval:  14%|█▍        | 9/63 [00:00<00:03, 13.51it/s]\u001b[A\n",
            "Eval:  17%|█▋        | 11/63 [00:00<00:03, 13.66it/s]\u001b[A\n",
            "Eval:  21%|██        | 13/63 [00:01<00:03, 13.32it/s]\u001b[A\n",
            "Eval:  24%|██▍       | 15/63 [00:01<00:03, 13.35it/s]\u001b[A\n",
            "Eval:  27%|██▋       | 17/63 [00:01<00:03, 13.57it/s]\u001b[A\n",
            "Eval:  30%|███       | 19/63 [00:01<00:03, 13.73it/s]\u001b[A\n",
            "Eval:  33%|███▎      | 21/63 [00:01<00:03, 13.67it/s]\u001b[A\n",
            "Eval:  37%|███▋      | 23/63 [00:01<00:02, 13.83it/s]\u001b[A\n",
            "Eval:  40%|███▉      | 25/63 [00:01<00:02, 13.48it/s]\u001b[A\n",
            "Eval:  43%|████▎     | 27/63 [00:02<00:02, 13.50it/s]\u001b[A\n",
            "Eval:  46%|████▌     | 29/63 [00:02<00:02, 13.65it/s]\u001b[A\n",
            "Eval:  49%|████▉     | 31/63 [00:02<00:02, 13.78it/s]\u001b[A\n",
            "Eval:  52%|█████▏    | 33/63 [00:02<00:02, 13.93it/s]\u001b[A\n",
            "Eval:  56%|█████▌    | 35/63 [00:02<00:02, 13.52it/s]\u001b[A\n",
            "Eval:  59%|█████▊    | 37/63 [00:02<00:01, 13.41it/s]\u001b[A\n",
            "Eval:  62%|██████▏   | 39/63 [00:02<00:01, 13.08it/s]\u001b[A\n",
            "Eval:  65%|██████▌   | 41/63 [00:03<00:01, 13.21it/s]\u001b[A\n",
            "Eval:  68%|██████▊   | 43/63 [00:03<00:01, 12.94it/s]\u001b[A\n",
            "Eval:  71%|███████▏  | 45/63 [00:03<00:01, 12.86it/s]\u001b[A\n",
            "Eval:  75%|███████▍  | 47/63 [00:03<00:01, 12.71it/s]\u001b[A\n",
            "Eval:  78%|███████▊  | 49/63 [00:03<00:01, 13.12it/s]\u001b[A\n",
            "Eval:  81%|████████  | 51/63 [00:03<00:00, 13.30it/s]\u001b[A\n",
            "Eval:  84%|████████▍ | 53/63 [00:03<00:00, 13.33it/s]\u001b[A\n",
            "Eval:  87%|████████▋ | 55/63 [00:04<00:00, 13.13it/s]\u001b[A\n",
            "Eval:  90%|█████████ | 57/63 [00:04<00:00, 13.20it/s]\u001b[A\n",
            "Eval:  94%|█████████▎| 59/63 [00:04<00:00, 13.34it/s]\u001b[A\n",
            "Eval:  97%|█████████▋| 61/63 [00:04<00:00, 13.39it/s]\u001b[A\n",
            "Eval: 100%|██████████| 63/63 [00:04<00:00, 14.29it/s]\u001b[A\n",
            "                                                     \u001b[A"
          ]
        },
        {
          "metadata": {
            "tags": null
          },
          "name": "stdout",
          "output_type": "stream",
          "text": [
            "Acc for model which have lower valid loss:  0.9695\n"
          ]
        },
        {
          "output_type": "stream",
          "name": "stderr",
          "text": [
            "Epoch 0: 100%|█████████▉| 13850/13852 [34:16<00:00,  6.78batch/s, loss=0.0365]\n",
            "Eval:   0%|          | 0/63 [00:00<?, ?it/s]\u001b[A\n",
            "Eval:   2%|▏         | 1/63 [00:00<00:08,  7.08it/s]\u001b[A\n",
            "Eval:   5%|▍         | 3/63 [00:00<00:05, 10.96it/s]\u001b[A\n",
            "Eval:   8%|▊         | 5/63 [00:00<00:04, 12.39it/s]\u001b[A\n",
            "Eval:  11%|█         | 7/63 [00:00<00:04, 13.02it/s]\u001b[A\n",
            "Eval:  14%|█▍        | 9/63 [00:00<00:04, 13.48it/s]\u001b[A\n",
            "Eval:  17%|█▋        | 11/63 [00:00<00:03, 13.64it/s]\u001b[A\n",
            "Eval:  21%|██        | 13/63 [00:01<00:03, 13.32it/s]\u001b[A\n",
            "Eval:  24%|██▍       | 15/63 [00:01<00:03, 13.33it/s]\u001b[A\n",
            "Eval:  27%|██▋       | 17/63 [00:01<00:03, 13.56it/s]\u001b[A\n",
            "Eval:  30%|███       | 19/63 [00:01<00:03, 13.73it/s]\u001b[A\n",
            "Eval:  33%|███▎      | 21/63 [00:01<00:03, 13.68it/s]\u001b[A\n",
            "Eval:  37%|███▋      | 23/63 [00:01<00:02, 13.81it/s]\u001b[A\n",
            "Eval:  40%|███▉      | 25/63 [00:01<00:02, 13.49it/s]\u001b[A\n",
            "Eval:  43%|████▎     | 27/63 [00:02<00:02, 13.38it/s]\u001b[A\n",
            "Eval:  46%|████▌     | 29/63 [00:02<00:02, 13.56it/s]\u001b[A\n",
            "Eval:  49%|████▉     | 31/63 [00:02<00:02, 13.71it/s]\u001b[A\n",
            "Eval:  52%|█████▏    | 33/63 [00:02<00:02, 13.85it/s]\u001b[A\n",
            "Eval:  56%|█████▌    | 35/63 [00:02<00:02, 13.52it/s]\u001b[A\n",
            "Eval:  59%|█████▊    | 37/63 [00:02<00:01, 13.25it/s]\u001b[A\n",
            "Eval:  62%|██████▏   | 39/63 [00:02<00:01, 12.89it/s]\u001b[A\n",
            "Eval:  65%|██████▌   | 41/63 [00:03<00:01, 13.04it/s]\u001b[A\n",
            "Eval:  68%|██████▊   | 43/63 [00:03<00:01, 12.83it/s]\u001b[A\n",
            "Eval:  71%|███████▏  | 45/63 [00:03<00:01, 12.84it/s]\u001b[A\n",
            "Eval:  75%|███████▍  | 47/63 [00:03<00:01, 12.72it/s]\u001b[A\n",
            "Eval:  78%|███████▊  | 49/63 [00:03<00:01, 13.11it/s]\u001b[A\n",
            "Eval:  81%|████████  | 51/63 [00:03<00:00, 13.29it/s]\u001b[A\n",
            "Eval:  84%|████████▍ | 53/63 [00:04<00:00, 13.28it/s]\u001b[A\n",
            "Eval:  87%|████████▋ | 55/63 [00:04<00:00, 13.09it/s]\u001b[A\n",
            "Eval:  90%|█████████ | 57/63 [00:04<00:00, 13.19it/s]\u001b[A\n",
            "Eval:  94%|█████████▎| 59/63 [00:04<00:00, 13.20it/s]\u001b[A\n",
            "Eval:  97%|█████████▋| 61/63 [00:04<00:00, 13.31it/s]\u001b[A\n",
            "Eval: 100%|██████████| 63/63 [00:04<00:00, 14.27it/s]\u001b[A\n",
            "                                                     \u001b[A"
          ]
        },
        {
          "output_type": "stream",
          "name": "stdout",
          "text": [
            "Acc for model which have lower valid loss:  0.97125\n"
          ]
        },
        {
          "output_type": "stream",
          "name": "stderr",
          "text": [
            "Epoch 0: 100%|██████████| 13852/13852 [34:22<00:00,  6.72batch/s, loss=0.0279]\n",
            "Epoch 1:  10%|▉         | 1385/13852 [03:20<29:38,  7.01batch/s, loss=0.133] \n",
            "Eval:   0%|          | 0/63 [00:00<?, ?it/s]\u001b[A\n",
            "Eval:   2%|▏         | 1/63 [00:00<00:08,  7.44it/s]\u001b[A\n",
            "Eval:   5%|▍         | 3/63 [00:00<00:05, 10.90it/s]\u001b[A\n",
            "Eval:   8%|▊         | 5/63 [00:00<00:04, 12.46it/s]\u001b[A\n",
            "Eval:  11%|█         | 7/63 [00:00<00:04, 13.20it/s]\u001b[A\n",
            "Eval:  14%|█▍        | 9/63 [00:00<00:03, 13.61it/s]\u001b[A\n",
            "Eval:  17%|█▋        | 11/63 [00:00<00:03, 13.77it/s]\u001b[A\n",
            "Eval:  21%|██        | 13/63 [00:01<00:03, 13.29it/s]\u001b[A\n",
            "Eval:  24%|██▍       | 15/63 [00:01<00:03, 13.28it/s]\u001b[A\n",
            "Eval:  27%|██▋       | 17/63 [00:01<00:03, 13.53it/s]\u001b[A\n",
            "Eval:  30%|███       | 19/63 [00:01<00:03, 13.72it/s]\u001b[A\n",
            "Eval:  33%|███▎      | 21/63 [00:01<00:03, 13.70it/s]\u001b[A\n",
            "Eval:  37%|███▋      | 23/63 [00:01<00:02, 13.86it/s]\u001b[A\n",
            "Eval:  40%|███▉      | 25/63 [00:01<00:02, 13.57it/s]\u001b[A\n",
            "Eval:  43%|████▎     | 27/63 [00:02<00:02, 13.49it/s]\u001b[A\n",
            "Eval:  46%|████▌     | 29/63 [00:02<00:02, 13.62it/s]\u001b[A\n",
            "Eval:  49%|████▉     | 31/63 [00:02<00:02, 13.72it/s]\u001b[A\n",
            "Eval:  52%|█████▏    | 33/63 [00:02<00:02, 13.78it/s]\u001b[A\n",
            "Eval:  56%|█████▌    | 35/63 [00:02<00:02, 13.37it/s]\u001b[A\n",
            "Eval:  59%|█████▊    | 37/63 [00:02<00:01, 13.23it/s]\u001b[A\n",
            "Eval:  62%|██████▏   | 39/63 [00:02<00:01, 12.93it/s]\u001b[A\n",
            "Eval:  65%|██████▌   | 41/63 [00:03<00:01, 13.12it/s]\u001b[A\n",
            "Eval:  68%|██████▊   | 43/63 [00:03<00:01, 12.79it/s]\u001b[A\n",
            "Eval:  71%|███████▏  | 45/63 [00:03<00:01, 12.67it/s]\u001b[A\n",
            "Eval:  75%|███████▍  | 47/63 [00:03<00:01, 12.46it/s]\u001b[A\n",
            "Eval:  78%|███████▊  | 49/63 [00:03<00:01, 12.87it/s]\u001b[A\n",
            "Eval:  81%|████████  | 51/63 [00:03<00:00, 13.06it/s]\u001b[A\n",
            "Eval:  84%|████████▍ | 53/63 [00:04<00:00, 13.06it/s]\u001b[A\n",
            "Eval:  87%|████████▋ | 55/63 [00:04<00:00, 12.84it/s]\u001b[A\n",
            "Eval:  90%|█████████ | 57/63 [00:04<00:00, 12.87it/s]\u001b[A\n",
            "Eval:  94%|█████████▎| 59/63 [00:04<00:00, 13.09it/s]\u001b[A\n",
            "Eval:  97%|█████████▋| 61/63 [00:04<00:00, 13.17it/s]\u001b[A\n",
            "Eval: 100%|██████████| 63/63 [00:04<00:00, 14.06it/s]\u001b[A\n",
            "                                                     \u001b[A"
          ]
        },
        {
          "output_type": "stream",
          "name": "stdout",
          "text": [
            "Acc for model which have lower valid loss:  0.975\n"
          ]
        },
        {
          "output_type": "stream",
          "name": "stderr",
          "text": [
            "Epoch 1:  20%|█▉        | 2770/13852 [06:46<26:30,  6.97batch/s, loss=0.309]\n",
            "Eval:   0%|          | 0/63 [00:00<?, ?it/s]\u001b[A\n",
            "Eval:   2%|▏         | 1/63 [00:00<00:08,  7.15it/s]\u001b[A\n",
            "Eval:   5%|▍         | 3/63 [00:00<00:05, 11.08it/s]\u001b[A\n",
            "Eval:   8%|▊         | 5/63 [00:00<00:04, 12.51it/s]\u001b[A\n",
            "Eval:  11%|█         | 7/63 [00:00<00:04, 13.14it/s]\u001b[A\n",
            "Eval:  14%|█▍        | 9/63 [00:00<00:03, 13.55it/s]\u001b[A\n",
            "Eval:  17%|█▋        | 11/63 [00:00<00:03, 13.73it/s]\u001b[A\n",
            "Eval:  21%|██        | 13/63 [00:01<00:03, 13.46it/s]\u001b[A\n",
            "Eval:  24%|██▍       | 15/63 [00:01<00:03, 13.52it/s]\u001b[A\n",
            "Eval:  27%|██▋       | 17/63 [00:01<00:03, 13.76it/s]\u001b[A\n",
            "Eval:  30%|███       | 19/63 [00:01<00:03, 13.88it/s]\u001b[A\n",
            "Eval:  33%|███▎      | 21/63 [00:01<00:03, 13.82it/s]\u001b[A\n",
            "Eval:  37%|███▋      | 23/63 [00:01<00:02, 13.95it/s]\u001b[A\n",
            "Eval:  40%|███▉      | 25/63 [00:01<00:02, 13.68it/s]\u001b[A\n",
            "Eval:  43%|████▎     | 27/63 [00:02<00:02, 13.55it/s]\u001b[A\n",
            "Eval:  46%|████▌     | 29/63 [00:02<00:02, 13.77it/s]\u001b[A\n",
            "Eval:  49%|████▉     | 31/63 [00:02<00:02, 13.93it/s]\u001b[A\n",
            "Eval:  52%|█████▏    | 33/63 [00:02<00:02, 14.01it/s]\u001b[A\n",
            "Eval:  56%|█████▌    | 35/63 [00:02<00:02, 13.66it/s]\u001b[A\n",
            "Eval:  59%|█████▊    | 37/63 [00:02<00:01, 13.39it/s]\u001b[A\n",
            "Eval:  62%|██████▏   | 39/63 [00:02<00:01, 13.09it/s]\u001b[A\n",
            "Eval:  65%|██████▌   | 41/63 [00:03<00:01, 13.20it/s]\u001b[A\n",
            "Eval:  68%|██████▊   | 43/63 [00:03<00:01, 12.77it/s]\u001b[A\n",
            "Eval:  71%|███████▏  | 45/63 [00:03<00:01, 12.73it/s]\u001b[A\n",
            "Eval:  75%|███████▍  | 47/63 [00:03<00:01, 12.57it/s]\u001b[A\n",
            "Eval:  78%|███████▊  | 49/63 [00:03<00:01, 12.97it/s]\u001b[A\n",
            "Eval:  81%|████████  | 51/63 [00:03<00:00, 13.15it/s]\u001b[A\n",
            "Eval:  84%|████████▍ | 53/63 [00:03<00:00, 13.11it/s]\u001b[A\n",
            "Eval:  87%|████████▋ | 55/63 [00:04<00:00, 12.87it/s]\u001b[A\n",
            "Eval:  90%|█████████ | 57/63 [00:04<00:00, 12.90it/s]\u001b[A\n",
            "Eval:  94%|█████████▎| 59/63 [00:04<00:00, 13.12it/s]\u001b[A\n",
            "Eval:  97%|█████████▋| 61/63 [00:04<00:00, 13.24it/s]\u001b[A\n",
            "Eval: 100%|██████████| 63/63 [00:04<00:00, 14.10it/s]\u001b[A\n",
            "                                                     \u001b[A"
          ]
        },
        {
          "output_type": "stream",
          "name": "stdout",
          "text": [
            "overfit?\n"
          ]
        },
        {
          "output_type": "stream",
          "name": "stderr",
          "text": [
            "Epoch 1:  30%|██▉       | 4155/13852 [10:11<23:02,  7.01batch/s, loss=0.652]\n",
            "Eval:   0%|          | 0/63 [00:00<?, ?it/s]\u001b[A\n",
            "Eval:   2%|▏         | 1/63 [00:00<00:08,  7.21it/s]\u001b[A\n",
            "Eval:   5%|▍         | 3/63 [00:00<00:05, 11.09it/s]\u001b[A\n",
            "Eval:   8%|▊         | 5/63 [00:00<00:04, 12.54it/s]\u001b[A\n",
            "Eval:  11%|█         | 7/63 [00:00<00:04, 13.14it/s]\u001b[A\n",
            "Eval:  14%|█▍        | 9/63 [00:00<00:03, 13.56it/s]\u001b[A\n",
            "Eval:  17%|█▋        | 11/63 [00:00<00:03, 13.72it/s]\u001b[A\n",
            "Eval:  21%|██        | 13/63 [00:01<00:03, 13.46it/s]\u001b[A\n",
            "Eval:  24%|██▍       | 15/63 [00:01<00:03, 13.46it/s]\u001b[A\n",
            "Eval:  27%|██▋       | 17/63 [00:01<00:03, 13.72it/s]\u001b[A\n",
            "Eval:  30%|███       | 19/63 [00:01<00:03, 13.89it/s]\u001b[A\n",
            "Eval:  33%|███▎      | 21/63 [00:01<00:03, 13.83it/s]\u001b[A\n",
            "Eval:  37%|███▋      | 23/63 [00:01<00:02, 13.97it/s]\u001b[A\n",
            "Eval:  40%|███▉      | 25/63 [00:01<00:02, 13.69it/s]\u001b[A\n",
            "Eval:  43%|████▎     | 27/63 [00:02<00:02, 13.53it/s]\u001b[A\n",
            "Eval:  46%|████▌     | 29/63 [00:02<00:02, 13.66it/s]\u001b[A\n",
            "Eval:  49%|████▉     | 31/63 [00:02<00:02, 13.80it/s]\u001b[A\n",
            "Eval:  52%|█████▏    | 33/63 [00:02<00:02, 13.91it/s]\u001b[A\n",
            "Eval:  56%|█████▌    | 35/63 [00:02<00:02, 13.54it/s]\u001b[A\n",
            "Eval:  59%|█████▊    | 37/63 [00:02<00:01, 13.35it/s]\u001b[A\n",
            "Eval:  62%|██████▏   | 39/63 [00:02<00:01, 12.96it/s]\u001b[A\n",
            "Eval:  65%|██████▌   | 41/63 [00:03<00:01, 13.11it/s]\u001b[A\n",
            "Eval:  68%|██████▊   | 43/63 [00:03<00:01, 12.87it/s]\u001b[A\n",
            "Eval:  71%|███████▏  | 45/63 [00:03<00:01, 12.86it/s]\u001b[A\n",
            "Eval:  75%|███████▍  | 47/63 [00:03<00:01, 12.71it/s]\u001b[A\n",
            "Eval:  78%|███████▊  | 49/63 [00:03<00:01, 13.12it/s]\u001b[A\n",
            "Eval:  81%|████████  | 51/63 [00:03<00:00, 13.26it/s]\u001b[A\n",
            "Eval:  84%|████████▍ | 53/63 [00:03<00:00, 13.27it/s]\u001b[A\n",
            "Eval:  87%|████████▋ | 55/63 [00:04<00:00, 13.14it/s]\u001b[A\n",
            "Eval:  90%|█████████ | 57/63 [00:04<00:00, 13.21it/s]\u001b[A\n",
            "Eval:  94%|█████████▎| 59/63 [00:04<00:00, 13.37it/s]\u001b[A\n",
            "Eval:  97%|█████████▋| 61/63 [00:04<00:00, 13.45it/s]\u001b[A\n",
            "Eval: 100%|██████████| 63/63 [00:04<00:00, 14.38it/s]\u001b[A\n",
            "                                                     \u001b[A"
          ]
        },
        {
          "output_type": "stream",
          "name": "stdout",
          "text": [
            "overfit?\n"
          ]
        },
        {
          "output_type": "stream",
          "name": "stderr",
          "text": [
            "Epoch 1:  40%|███▉      | 5540/13852 [13:36<20:01,  6.92batch/s, loss=0.221]\n",
            "Eval:   0%|          | 0/63 [00:00<?, ?it/s]\u001b[A\n",
            "Eval:   2%|▏         | 1/63 [00:00<00:08,  7.11it/s]\u001b[A\n",
            "Eval:   5%|▍         | 3/63 [00:00<00:05, 10.77it/s]\u001b[A\n",
            "Eval:   8%|▊         | 5/63 [00:00<00:04, 12.40it/s]\u001b[A\n",
            "Eval:  11%|█         | 7/63 [00:00<00:04, 13.13it/s]\u001b[A\n",
            "Eval:  14%|█▍        | 9/63 [00:00<00:03, 13.59it/s]\u001b[A\n",
            "Eval:  17%|█▋        | 11/63 [00:00<00:03, 13.79it/s]\u001b[A\n",
            "Eval:  21%|██        | 13/63 [00:01<00:03, 13.46it/s]\u001b[A\n",
            "Eval:  24%|██▍       | 15/63 [00:01<00:03, 13.46it/s]\u001b[A\n",
            "Eval:  27%|██▋       | 17/63 [00:01<00:03, 13.69it/s]\u001b[A\n",
            "Eval:  30%|███       | 19/63 [00:01<00:03, 13.85it/s]\u001b[A\n",
            "Eval:  33%|███▎      | 21/63 [00:01<00:03, 13.76it/s]\u001b[A\n",
            "Eval:  37%|███▋      | 23/63 [00:01<00:02, 13.95it/s]\u001b[A\n",
            "Eval:  40%|███▉      | 25/63 [00:01<00:02, 13.56it/s]\u001b[A\n",
            "Eval:  43%|████▎     | 27/63 [00:02<00:02, 13.50it/s]\u001b[A\n",
            "Eval:  46%|████▌     | 29/63 [00:02<00:02, 13.67it/s]\u001b[A\n",
            "Eval:  49%|████▉     | 31/63 [00:02<00:02, 13.79it/s]\u001b[A\n",
            "Eval:  52%|█████▏    | 33/63 [00:02<00:02, 13.90it/s]\u001b[A\n",
            "Eval:  56%|█████▌    | 35/63 [00:02<00:02, 13.54it/s]\u001b[A\n",
            "Eval:  59%|█████▊    | 37/63 [00:02<00:01, 13.34it/s]\u001b[A\n",
            "Eval:  62%|██████▏   | 39/63 [00:02<00:01, 13.04it/s]\u001b[A\n",
            "Eval:  65%|██████▌   | 41/63 [00:03<00:01, 13.20it/s]\u001b[A\n",
            "Eval:  68%|██████▊   | 43/63 [00:03<00:01, 12.87it/s]\u001b[A\n",
            "Eval:  71%|███████▏  | 45/63 [00:03<00:01, 12.73it/s]\u001b[A\n",
            "Eval:  75%|███████▍  | 47/63 [00:03<00:01, 12.57it/s]\u001b[A\n",
            "Eval:  78%|███████▊  | 49/63 [00:03<00:01, 12.97it/s]\u001b[A\n",
            "Eval:  81%|████████  | 51/63 [00:03<00:00, 13.10it/s]\u001b[A\n",
            "Eval:  84%|████████▍ | 53/63 [00:04<00:00, 13.18it/s]\u001b[A\n",
            "Eval:  87%|████████▋ | 55/63 [00:04<00:00, 13.07it/s]\u001b[A\n",
            "Eval:  90%|█████████ | 57/63 [00:04<00:00, 13.15it/s]\u001b[A\n",
            "Eval:  94%|█████████▎| 59/63 [00:04<00:00, 13.31it/s]\u001b[A\n",
            "Eval:  97%|█████████▋| 61/63 [00:04<00:00, 13.40it/s]\u001b[A\n",
            "Eval: 100%|██████████| 63/63 [00:04<00:00, 14.28it/s]\u001b[A\n",
            "                                                     \u001b[A"
          ]
        },
        {
          "output_type": "stream",
          "name": "stdout",
          "text": [
            "overfit?\n",
            "Oops\n"
          ]
        },
        {
          "output_type": "stream",
          "name": "stderr",
          "text": [
            "Epoch 1:  40%|████      | 5541/13852 [13:41<20:32,  6.74batch/s, loss=0.221]  \n"
          ]
        }
      ]
    },
    {
      "cell_type": "code",
      "execution_count": null,
      "metadata": {
        "id": "DuZfvzpGrvgW"
      },
      "outputs": [],
      "source": [
        "# train_epoch = 3\n",
        "# lowest_valid_loss = 9999.\n",
        "# validation_loss = []\n",
        "# accuracy = []\n",
        "# for epoch in range(train_epoch):\n",
        "#     with tqdm(train_loader, unit=\"batch\") as tepoch:\n",
        "#         for iteration, (input_ids, attention_mask, token_type_ids, position_ids, labels) in enumerate(tepoch):\n",
        "#             tepoch.set_description(f\"Epoch {epoch}\")\n",
        "#             input_ids = input_ids.to(device)\n",
        "#             attention_mask = attention_mask.to(device)\n",
        "#             token_type_ids = token_type_ids.to(device)\n",
        "#             position_ids = position_ids.to(device)\n",
        "#             labels = labels.to(device, dtype=torch.long)\n",
        "#             optimizer.zero_grad()\n",
        "\n",
        "#             output = model(input_ids=input_ids,\n",
        "#                            attention_mask=attention_mask,\n",
        "#                            token_type_ids=token_type_ids,\n",
        "#                            position_ids=position_ids,\n",
        "#                            labels=labels)\n",
        "\n",
        "#             loss = output.loss\n",
        "#             loss.backward()\n",
        "\n",
        "#             optimizer.step()\n",
        "\n",
        "#             tepoch.set_postfix(loss=loss.item())\n",
        "#             if iteration != 0 and iteration % int(len(train_loader) / 6) == 0:\n",
        "#                 # Evaluate the model five times per epoch\n",
        "#                 with torch.no_grad():\n",
        "#                     model.eval()\n",
        "#                     valid_losses = []\n",
        "#                     predictions = []\n",
        "#                     target_labels = []\n",
        "#                     for input_ids, attention_mask, token_type_ids, position_ids, labels in tqdm(dev_loader,\n",
        "#                                                                                                 desc='Eval',\n",
        "#                                                                                                 position=1,\n",
        "#                                                                                                 leave=None):\n",
        "#                         input_ids = input_ids.to(device)\n",
        "#                         attention_mask = attention_mask.to(device)\n",
        "#                         token_type_ids = token_type_ids.to(device)\n",
        "#                         position_ids = position_ids.to(device)\n",
        "#                         labels = labels.to(device, dtype=torch.long)\n",
        "\n",
        "#                         output = model(input_ids=input_ids,\n",
        "#                                        attention_mask=attention_mask,\n",
        "#                                        token_type_ids=token_type_ids,\n",
        "#                                        position_ids=position_ids,\n",
        "#                                        labels=labels)\n",
        "\n",
        "#                         logits = output.logits\n",
        "#                         loss = output.loss\n",
        "#                         valid_losses.append(loss.item())\n",
        "\n",
        "#                         batch_predictions = [0 if example[0] > example[1] else 1 for example in logits]\n",
        "#                         batch_labels = [int(example) for example in labels]\n",
        "\n",
        "#                         predictions += batch_predictions\n",
        "#                         target_labels += batch_labels\n",
        "\n",
        "#                 acc = compute_acc(predictions, target_labels)\n",
        "#                 valid_loss = sum(valid_losses) / len(valid_losses)\n",
        "#                 if lowest_valid_loss > valid_loss:\n",
        "#                     print('Acc for model which have lower valid loss: ', acc)\n",
        "#                     accuracy.append(acc) # accuracy 값 저장\n",
        "#                     validation_loss.append(valid_loss) # validation loss 값 저장\n",
        "#                     torch.save(model.state_dict(), \"./pytorch_model.bin\")"
      ]
    },
    {
      "cell_type": "code",
      "execution_count": 25,
      "metadata": {
        "colab": {
          "base_uri": "https://localhost:8080/",
          "height": 350
        },
        "id": "i2eaYcuzMaAB",
        "outputId": "2322fb71-d974-4969-8d9e-7e966c741049"
      },
      "outputs": [
        {
          "output_type": "display_data",
          "data": {
            "text/plain": [
              "<Figure size 1080x360 with 2 Axes>"
            ],
            "image/png": "[encoded data removed]"
          },
          "metadata": {
            "needs_background": "light"
          }
        }
      ],
      "source": [
        "# visualization\n",
        "import matplotlib.pyplot as plt\n",
        "\n",
        "plt.figure(figsize=(15,5))\n",
        "plt.subplot(1, 2, 1)     \n",
        "plt.plot(accuracy, label=' Training acc ', color ='b')\n",
        "plt.title('Training accuracy')\n",
        "plt.xlabel('Iteration')\n",
        "plt.ylabel('Accuracy')\n",
        "plt.legend(loc='lower right')\n",
        "\n",
        "plt.subplot(1, 2, 2) \n",
        "plt.plot(validation_loss, label=' Validation loss ', color = 'r')\n",
        "plt.title('Validation loss')\n",
        "plt.xlabel('Iteration')\n",
        "plt.ylabel('Loss')\n",
        "plt.legend(loc='lower right')\n",
        "\n",
        "plt.show()"
      ]
    },
    {
      "cell_type": "code",
      "execution_count": 26,
      "metadata": {
        "id": "P95gtlnurvgX"
      },
      "outputs": [],
      "source": [
        "import pandas as pd\n",
        "test_df = pd.read_csv('test_no_label.csv')"
      ]
    },
    {
      "cell_type": "code",
      "execution_count": 27,
      "metadata": {
        "id": "cLDzC10ErvgX"
      },
      "outputs": [],
      "source": [
        "test_dataset = test_df['Id']"
      ]
    },
    {
      "cell_type": "code",
      "execution_count": 28,
      "metadata": {
        "id": "jnt693N0rvgX"
      },
      "outputs": [],
      "source": [
        "def make_id_file_test(tokenizer, test_dataset):\n",
        "    data_strings = []\n",
        "    id_file_data = [tokenizer.encode(sent.lower()) for sent in test_dataset]\n",
        "    for item in id_file_data:\n",
        "        data_strings.append(' '.join([str(k) for k in item]))\n",
        "    return data_strings"
      ]
    },
    {
      "cell_type": "code",
      "execution_count": 29,
      "metadata": {
        "id": "7C5PpXtlrvgY"
      },
      "outputs": [],
      "source": [
        "test = make_id_file_test(tokenizer, test_dataset)"
      ]
    },
    {
      "cell_type": "code",
      "execution_count": 30,
      "metadata": {
        "colab": {
          "base_uri": "https://localhost:8080/"
        },
        "id": "1aqse7SHrvgY",
        "outputId": "d8829a25-bb20-41a4-b940-b082a58003fb"
      },
      "outputs": [
        {
          "output_type": "execute_result",
          "data": {
            "text/plain": [
              "['0 405 128 29 10 1086 92 676 8 92 14250 349 86 47 213 479 2',\n",
              " '0 2527 6770 31 41 793 2674 479 2',\n",
              " '0 405 16 5 144 12757 3553 1439 11 5 15044 479 2',\n",
              " '0 5016 45 1203 10 7792 19 209 82 479 2',\n",
              " '0 118 21 7464 8 79 156 162 619 98 3473 8 2814 479 2',\n",
              " '0 627 129 631 52 829 14 21 2131 21 5 3895 479 2',\n",
              " '0 2362 2156 45 5 1980 23 25 257 2156 5 1980 11 3812 239 479 2',\n",
              " '0 10010 836 24 66 760 13 47 8 32 182 7163 479 2',\n",
              " '0 7269 5 22633 222 295 75 190 216 141 7 173 5 3034 479 2',\n",
              " '0 10010 33 41 4206 4230 9 44505 7 2807 31 479 2']"
            ]
          },
          "metadata": {},
          "execution_count": 30
        }
      ],
      "source": [
        "test[:10]"
      ]
    },
    {
      "cell_type": "code",
      "execution_count": 31,
      "metadata": {
        "id": "cZi14gnnrvgY"
      },
      "outputs": [],
      "source": [
        "class SentimentTestDataset(object):\n",
        "    def __init__(self, tokenizer, test):\n",
        "        self.tokenizer = tokenizer\n",
        "        self.data = []\n",
        "\n",
        "        for sent in test:\n",
        "            self.data += [self._cast_to_int(sent.strip().split())]\n",
        "\n",
        "    def _cast_to_int(self, sample):\n",
        "        return [int(word_id) for word_id in sample]\n",
        "\n",
        "    def __len__(self):\n",
        "        return len(self.data)\n",
        "\n",
        "    def __getitem__(self, index):\n",
        "        sample = self.data[index]\n",
        "        return np.array(sample)"
      ]
    },
    {
      "cell_type": "code",
      "execution_count": 32,
      "metadata": {
        "id": "erHjGE9rrvgY"
      },
      "outputs": [],
      "source": [
        "test_dataset = SentimentTestDataset(tokenizer, test)"
      ]
    },
    {
      "cell_type": "code",
      "execution_count": 33,
      "metadata": {
        "id": "y03-nDX9rvgZ"
      },
      "outputs": [],
      "source": [
        "def collate_fn_style_test(samples):\n",
        "    input_ids = samples\n",
        "    max_len = max(len(input_id) for input_id in input_ids)\n",
        "\n",
        "    input_ids = pad_sequence([torch.tensor(input_ids[index]) for index in range(len(samples))],\n",
        "                             batch_first=True)\n",
        "    attention_mask = torch.tensor(\n",
        "        [[1] * len(input_ids[index]) + [0] * (max_len - len(input_ids[index])) for index in range(len(samples))])\n",
        "    token_type_ids = torch.tensor([[0] * len(input_ids[index]) for index in range(len(samples))])\n",
        "    position_ids = torch.tensor([list(range(len(input_ids[index]))) for index in range(len(samples))])\n",
        "\n",
        "    return input_ids, attention_mask, token_type_ids, position_ids"
      ]
    },
    {
      "cell_type": "code",
      "execution_count": 34,
      "metadata": {
        "id": "gZ0l1HparvgZ"
      },
      "outputs": [],
      "source": [
        "test_batch_size = 32\n",
        "test_loader = torch.utils.data.DataLoader(test_dataset, batch_size=test_batch_size,\n",
        "                                          shuffle=False, collate_fn=collate_fn_style_test,\n",
        "                                          num_workers=2)"
      ]
    },
    {
      "cell_type": "code",
      "execution_count": 35,
      "metadata": {
        "colab": {
          "base_uri": "https://localhost:8080/"
        },
        "id": "XoSHTbJUrvgZ",
        "outputId": "07596f12-5c69-467b-be8d-bf60fae60974"
      },
      "outputs": [
        {
          "output_type": "stream",
          "name": "stderr",
          "text": [
            "\n",
            "Test:   0%|          | 0/32 [00:00<?, ?it/s]\u001b[A\n",
            "Test:   3%|▎         | 1/32 [00:00<00:04,  7.38it/s]\u001b[A\n",
            "Test:   9%|▉         | 3/32 [00:00<00:02, 12.71it/s]\u001b[A\n",
            "Test:  16%|█▌        | 5/32 [00:00<00:01, 14.99it/s]\u001b[A\n",
            "Test:  25%|██▌       | 8/32 [00:00<00:01, 19.61it/s]\u001b[A\n",
            "Test:  34%|███▍      | 11/32 [00:00<00:00, 22.35it/s]\u001b[A\n",
            "Test:  44%|████▍     | 14/32 [00:00<00:00, 24.15it/s]\u001b[A\n",
            "Test:  53%|█████▎    | 17/32 [00:00<00:00, 25.55it/s]\u001b[A\n",
            "Test:  62%|██████▎   | 20/32 [00:00<00:00, 26.48it/s]\u001b[A\n",
            "Test:  72%|███████▏  | 23/32 [00:01<00:00, 26.58it/s]\u001b[A\n",
            "Test:  81%|████████▏ | 26/32 [00:01<00:00, 26.88it/s]\u001b[A\n",
            "Test:  91%|█████████ | 29/32 [00:01<00:00, 26.97it/s]\u001b[A\n",
            "                                                     \u001b[A"
          ]
        }
      ],
      "source": [
        "with torch.no_grad():\n",
        "    model.eval()\n",
        "    predictions = []\n",
        "    for input_ids, attention_mask, token_type_ids, position_ids in tqdm(test_loader,\n",
        "                                                                        desc='Test',\n",
        "                                                                        position=1,\n",
        "                                                                        leave=None):\n",
        "\n",
        "        input_ids = input_ids.to(device)\n",
        "        attention_mask = attention_mask.to(device)\n",
        "        token_type_ids = token_type_ids.to(device)\n",
        "        position_ids = position_ids.to(device)\n",
        "\n",
        "        output = model(input_ids=input_ids,\n",
        "                       attention_mask=attention_mask,\n",
        "                       token_type_ids=token_type_ids,\n",
        "                       position_ids=position_ids)\n",
        "\n",
        "        logits = output.logits\n",
        "        logits = [torch.argmax(example).cpu().numpy() for example in logits]\n",
        "        predictions += logits"
      ]
    },
    {
      "cell_type": "code",
      "execution_count": 36,
      "metadata": {
        "id": "tGO3aS-VrvgZ"
      },
      "outputs": [],
      "source": [
        "test_df['Category'] = predictions"
      ]
    },
    {
      "cell_type": "code",
      "execution_count": 38,
      "metadata": {
        "id": "VndXxal3rvgZ"
      },
      "outputs": [],
      "source": [
        "test_df.to_csv('./submission.csv', index=False)"
      ]
    }
  ],
  "metadata": {
    "accelerator": "GPU",
    "colab": {
      "machine_shape": "hm",
      "provenance": []
    },
    "gpuClass": "standard",
    "kernelspec": {
      "display_name": "Python 3.10.6 64-bit",
      "language": "python",
      "name": "python3"
    },
    "language_info": {
      "codemirror_mode": {
        "name": "ipython",
        "version": 3
      },
      "file_extension": ".py",
      "mimetype": "text/x-python",
      "name": "python",
      "nbconvert_exporter": "python",
      "pygments_lexer": "ipython3",
      "version": "3.10.6"
    },
    "vscode": {
      "interpreter": {
        "hash": "b0fa6594d8f4cbf19f97940f81e996739fb7646882a419484c72d19e05852a7e"
      }
    },
    "widgets": {
      "application/vnd.jupyter.widget-state+json": {
        "245315abf53d44a9a3675d9602848512": {
          "model_module": "@jupyter-widgets/controls",
          "model_name": "HBoxModel",
          "model_module_version": "1.5.0",
          "state": {
            "_dom_classes": [],
            "_model_module": "@jupyter-widgets/controls",
            "_model_module_version": "1.5.0",
            "_model_name": "HBoxModel",
            "_view_count": null,
            "_view_module": "@jupyter-widgets/controls",
            "_view_module_version": "1.5.0",
            "_view_name": "HBoxView",
            "box_style": "",
            "children": [
              "IPY_MODEL_1821fcef10a44bb4b91052019b415573",
              "IPY_MODEL_3a5cb1abbba84487804a92978a39f3dd",
              "IPY_MODEL_02d60a708eb441149e4f9ea92e7eb3ae"
            ],
            "layout": "IPY_MODEL_3cd6f9b601d84bfeb8325a96316addb0"
          }
        },
        "1821fcef10a44bb4b91052019b415573": {
          "model_module": "@jupyter-widgets/controls",
          "model_name": "HTMLModel",
          "model_module_version": "1.5.0",
          "state": {
            "_dom_classes": [],
            "_model_module": "@jupyter-widgets/controls",
            "_model_module_version": "1.5.0",
            "_model_name": "HTMLModel",
            "_view_count": null,
            "_view_module": "@jupyter-widgets/controls",
            "_view_module_version": "1.5.0",
            "_view_name": "HTMLView",
            "description": "",
            "description_tooltip": null,
            "layout": "IPY_MODEL_d9b24877a7ba4b8388dbb4f73ef5f6fa",
            "placeholder": "​",
            "style": "IPY_MODEL_1ef31b6bf0104ccd83c1938fdf1de8be",
            "value": "Downloading (…)olve/main/vocab.json: 100%"
          }
        },
        "3a5cb1abbba84487804a92978a39f3dd": {
          "model_module": "@jupyter-widgets/controls",
          "model_name": "FloatProgressModel",
          "model_module_version": "1.5.0",
          "state": {
            "_dom_classes": [],
            "_model_module": "@jupyter-widgets/controls",
            "_model_module_version": "1.5.0",
            "_model_name": "FloatProgressModel",
            "_view_count": null,
            "_view_module": "@jupyter-widgets/controls",
            "_view_module_version": "1.5.0",
            "_view_name": "ProgressView",
            "bar_style": "success",
            "description": "",
            "description_tooltip": null,
            "layout": "IPY_MODEL_f476e7271313428298d82cf46c35cae8",
            "max": 898823,
            "min": 0,
            "orientation": "horizontal",
            "style": "IPY_MODEL_642ef5c9e4774d349caecfa1673e0ced",
            "value": 898823
          }
        },
        "02d60a708eb441149e4f9ea92e7eb3ae": {
          "model_module": "@jupyter-widgets/controls",
          "model_name": "HTMLModel",
          "model_module_version": "1.5.0",
          "state": {
            "_dom_classes": [],
            "_model_module": "@jupyter-widgets/controls",
            "_model_module_version": "1.5.0",
            "_model_name": "HTMLModel",
            "_view_count": null,
            "_view_module": "@jupyter-widgets/controls",
            "_view_module_version": "1.5.0",
            "_view_name": "HTMLView",
            "description": "",
            "description_tooltip": null,
            "layout": "IPY_MODEL_4d37f06ddfd94a10a6defb2423c8aa47",
            "placeholder": "​",
            "style": "IPY_MODEL_82ec7025a2c944fea78c86018a9ec7c6",
            "value": " 899k/899k [00:00&lt;00:00, 6.72MB/s]"
          }
        },
        "3cd6f9b601d84bfeb8325a96316addb0": {
          "model_module": "@jupyter-widgets/base",
          "model_name": "LayoutModel",
          "model_module_version": "1.2.0",
          "state": {
            "_model_module": "@jupyter-widgets/base",
            "_model_module_version": "1.2.0",
            "_model_name": "LayoutModel",
            "_view_count": null,
            "_view_module": "@jupyter-widgets/base",
            "_view_module_version": "1.2.0",
            "_view_name": "LayoutView",
            "align_content": null,
            "align_items": null,
            "align_self": null,
            "border": null,
            "bottom": null,
            "display": null,
            "flex": null,
            "flex_flow": null,
            "grid_area": null,
            "grid_auto_columns": null,
            "grid_auto_flow": null,
            "grid_auto_rows": null,
            "grid_column": null,
            "grid_gap": null,
            "grid_row": null,
            "grid_template_areas": null,
            "grid_template_columns": null,
            "grid_template_rows": null,
            "height": null,
            "justify_content": null,
            "justify_items": null,
            "left": null,
            "margin": null,
            "max_height": null,
            "max_width": null,
            "min_height": null,
            "min_width": null,
            "object_fit": null,
            "object_position": null,
            "order": null,
            "overflow": null,
            "overflow_x": null,
            "overflow_y": null,
            "padding": null,
            "right": null,
            "top": null,
            "visibility": null,
            "width": null
          }
        },
        "d9b24877a7ba4b8388dbb4f73ef5f6fa": {
          "model_module": "@jupyter-widgets/base",
          "model_name": "LayoutModel",
          "model_module_version": "1.2.0",
          "state": {
            "_model_module": "@jupyter-widgets/base",
            "_model_module_version": "1.2.0",
            "_model_name": "LayoutModel",
            "_view_count": null,
            "_view_module": "@jupyter-widgets/base",
            "_view_module_version": "1.2.0",
            "_view_name": "LayoutView",
            "align_content": null,
            "align_items": null,
            "align_self": null,
            "border": null,
            "bottom": null,
            "display": null,
            "flex": null,
            "flex_flow": null,
            "grid_area": null,
            "grid_auto_columns": null,
            "grid_auto_flow": null,
            "grid_auto_rows": null,
            "grid_column": null,
            "grid_gap": null,
            "grid_row": null,
            "grid_template_areas": null,
            "grid_template_columns": null,
            "grid_template_rows": null,
            "height": null,
            "justify_content": null,
            "justify_items": null,
            "left": null,
            "margin": null,
            "max_height": null,
            "max_width": null,
            "min_height": null,
            "min_width": null,
            "object_fit": null,
            "object_position": null,
            "order": null,
            "overflow": null,
            "overflow_x": null,
            "overflow_y": null,
            "padding": null,
            "right": null,
            "top": null,
            "visibility": null,
            "width": null
          }
        },
        "1ef31b6bf0104ccd83c1938fdf1de8be": {
          "model_module": "@jupyter-widgets/controls",
          "model_name": "DescriptionStyleModel",
          "model_module_version": "1.5.0",
          "state": {
            "_model_module": "@jupyter-widgets/controls",
            "_model_module_version": "1.5.0",
            "_model_name": "DescriptionStyleModel",
            "_view_count": null,
            "_view_module": "@jupyter-widgets/base",
            "_view_module_version": "1.2.0",
            "_view_name": "StyleView",
            "description_width": ""
          }
        },
        "f476e7271313428298d82cf46c35cae8": {
          "model_module": "@jupyter-widgets/base",
          "model_name": "LayoutModel",
          "model_module_version": "1.2.0",
          "state": {
            "_model_module": "@jupyter-widgets/base",
            "_model_module_version": "1.2.0",
            "_model_name": "LayoutModel",
            "_view_count": null,
            "_view_module": "@jupyter-widgets/base",
            "_view_module_version": "1.2.0",
            "_view_name": "LayoutView",
            "align_content": null,
            "align_items": null,
            "align_self": null,
            "border": null,
            "bottom": null,
            "display": null,
            "flex": null,
            "flex_flow": null,
            "grid_area": null,
            "grid_auto_columns": null,
            "grid_auto_flow": null,
            "grid_auto_rows": null,
            "grid_column": null,
            "grid_gap": null,
            "grid_row": null,
            "grid_template_areas": null,
            "grid_template_columns": null,
            "grid_template_rows": null,
            "height": null,
            "justify_content": null,
            "justify_items": null,
            "left": null,
            "margin": null,
            "max_height": null,
            "max_width": null,
            "min_height": null,
            "min_width": null,
            "object_fit": null,
            "object_position": null,
            "order": null,
            "overflow": null,
            "overflow_x": null,
            "overflow_y": null,
            "padding": null,
            "right": null,
            "top": null,
            "visibility": null,
            "width": null
          }
        },
        "642ef5c9e4774d349caecfa1673e0ced": {
          "model_module": "@jupyter-widgets/controls",
          "model_name": "ProgressStyleModel",
          "model_module_version": "1.5.0",
          "state": {
            "_model_module": "@jupyter-widgets/controls",
            "_model_module_version": "1.5.0",
            "_model_name": "ProgressStyleModel",
            "_view_count": null,
            "_view_module": "@jupyter-widgets/base",
            "_view_module_version": "1.2.0",
            "_view_name": "StyleView",
            "bar_color": null,
            "description_width": ""
          }
        },
        "4d37f06ddfd94a10a6defb2423c8aa47": {
          "model_module": "@jupyter-widgets/base",
          "model_name": "LayoutModel",
          "model_module_version": "1.2.0",
          "state": {
            "_model_module": "@jupyter-widgets/base",
            "_model_module_version": "1.2.0",
            "_model_name": "LayoutModel",
            "_view_count": null,
            "_view_module": "@jupyter-widgets/base",
            "_view_module_version": "1.2.0",
            "_view_name": "LayoutView",
            "align_content": null,
            "align_items": null,
            "align_self": null,
            "border": null,
            "bottom": null,
            "display": null,
            "flex": null,
            "flex_flow": null,
            "grid_area": null,
            "grid_auto_columns": null,
            "grid_auto_flow": null,
            "grid_auto_rows": null,
            "grid_column": null,
            "grid_gap": null,
            "grid_row": null,
            "grid_template_areas": null,
            "grid_template_columns": null,
            "grid_template_rows": null,
            "height": null,
            "justify_content": null,
            "justify_items": null,
            "left": null,
            "margin": null,
            "max_height": null,
            "max_width": null,
            "min_height": null,
            "min_width": null,
            "object_fit": null,
            "object_position": null,
            "order": null,
            "overflow": null,
            "overflow_x": null,
            "overflow_y": null,
            "padding": null,
            "right": null,
            "top": null,
            "visibility": null,
            "width": null
          }
        },
        "82ec7025a2c944fea78c86018a9ec7c6": {
          "model_module": "@jupyter-widgets/controls",
          "model_name": "DescriptionStyleModel",
          "model_module_version": "1.5.0",
          "state": {
            "_model_module": "@jupyter-widgets/controls",
            "_model_module_version": "1.5.0",
            "_model_name": "DescriptionStyleModel",
            "_view_count": null,
            "_view_module": "@jupyter-widgets/base",
            "_view_module_version": "1.2.0",
            "_view_name": "StyleView",
            "description_width": ""
          }
        },
        "289d75cfbd594543b34b96d72405583d": {
          "model_module": "@jupyter-widgets/controls",
          "model_name": "HBoxModel",
          "model_module_version": "1.5.0",
          "state": {
            "_dom_classes": [],
            "_model_module": "@jupyter-widgets/controls",
            "_model_module_version": "1.5.0",
            "_model_name": "HBoxModel",
            "_view_count": null,
            "_view_module": "@jupyter-widgets/controls",
            "_view_module_version": "1.5.0",
            "_view_name": "HBoxView",
            "box_style": "",
            "children": [
              "IPY_MODEL_6277159ff8a7443b82335736e2658f22",
              "IPY_MODEL_47e511ba1bb64d92bda88bebf3208db6",
              "IPY_MODEL_f960793c71794be39fd3c3c1d5aad836"
            ],
            "layout": "IPY_MODEL_83e82497ac7a4601b96b21099a5027c9"
          }
        },
        "6277159ff8a7443b82335736e2658f22": {
          "model_module": "@jupyter-widgets/controls",
          "model_name": "HTMLModel",
          "model_module_version": "1.5.0",
          "state": {
            "_dom_classes": [],
            "_model_module": "@jupyter-widgets/controls",
            "_model_module_version": "1.5.0",
            "_model_name": "HTMLModel",
            "_view_count": null,
            "_view_module": "@jupyter-widgets/controls",
            "_view_module_version": "1.5.0",
            "_view_name": "HTMLView",
            "description": "",
            "description_tooltip": null,
            "layout": "IPY_MODEL_d1975119909845fdb90462def3fec38a",
            "placeholder": "​",
            "style": "IPY_MODEL_b7939df2a061416b9acf80befc820631",
            "value": "Downloading (…)olve/main/merges.txt: 100%"
          }
        },
        "47e511ba1bb64d92bda88bebf3208db6": {
          "model_module": "@jupyter-widgets/controls",
          "model_name": "FloatProgressModel",
          "model_module_version": "1.5.0",
          "state": {
            "_dom_classes": [],
            "_model_module": "@jupyter-widgets/controls",
            "_model_module_version": "1.5.0",
            "_model_name": "FloatProgressModel",
            "_view_count": null,
            "_view_module": "@jupyter-widgets/controls",
            "_view_module_version": "1.5.0",
            "_view_name": "ProgressView",
            "bar_style": "success",
            "description": "",
            "description_tooltip": null,
            "layout": "IPY_MODEL_6d3a1649cbbe40d1a936dcbcf0878aaa",
            "max": 456318,
            "min": 0,
            "orientation": "horizontal",
            "style": "IPY_MODEL_09c406de9f18425e93a05f16e2a3f74d",
            "value": 456318
          }
        },
        "f960793c71794be39fd3c3c1d5aad836": {
          "model_module": "@jupyter-widgets/controls",
          "model_name": "HTMLModel",
          "model_module_version": "1.5.0",
          "state": {
            "_dom_classes": [],
            "_model_module": "@jupyter-widgets/controls",
            "_model_module_version": "1.5.0",
            "_model_name": "HTMLModel",
            "_view_count": null,
            "_view_module": "@jupyter-widgets/controls",
            "_view_module_version": "1.5.0",
            "_view_name": "HTMLView",
            "description": "",
            "description_tooltip": null,
            "layout": "IPY_MODEL_0640e5ed75f64e668e7cc7a8550fb19a",
            "placeholder": "​",
            "style": "IPY_MODEL_78acaa20c92648fabd66e6ecce385995",
            "value": " 456k/456k [00:00&lt;00:00, 4.57MB/s]"
          }
        },
        "83e82497ac7a4601b96b21099a5027c9": {
          "model_module": "@jupyter-widgets/base",
          "model_name": "LayoutModel",
          "model_module_version": "1.2.0",
          "state": {
            "_model_module": "@jupyter-widgets/base",
            "_model_module_version": "1.2.0",
            "_model_name": "LayoutModel",
            "_view_count": null,
            "_view_module": "@jupyter-widgets/base",
            "_view_module_version": "1.2.0",
            "_view_name": "LayoutView",
            "align_content": null,
            "align_items": null,
            "align_self": null,
            "border": null,
            "bottom": null,
            "display": null,
            "flex": null,
            "flex_flow": null,
            "grid_area": null,
            "grid_auto_columns": null,
            "grid_auto_flow": null,
            "grid_auto_rows": null,
            "grid_column": null,
            "grid_gap": null,
            "grid_row": null,
            "grid_template_areas": null,
            "grid_template_columns": null,
            "grid_template_rows": null,
            "height": null,
            "justify_content": null,
            "justify_items": null,
            "left": null,
            "margin": null,
            "max_height": null,
            "max_width": null,
            "min_height": null,
            "min_width": null,
            "object_fit": null,
            "object_position": null,
            "order": null,
            "overflow": null,
            "overflow_x": null,
            "overflow_y": null,
            "padding": null,
            "right": null,
            "top": null,
            "visibility": null,
            "width": null
          }
        },
        "d1975119909845fdb90462def3fec38a": {
          "model_module": "@jupyter-widgets/base",
          "model_name": "LayoutModel",
          "model_module_version": "1.2.0",
          "state": {
            "_model_module": "@jupyter-widgets/base",
            "_model_module_version": "1.2.0",
            "_model_name": "LayoutModel",
            "_view_count": null,
            "_view_module": "@jupyter-widgets/base",
            "_view_module_version": "1.2.0",
            "_view_name": "LayoutView",
            "align_content": null,
            "align_items": null,
            "align_self": null,
            "border": null,
            "bottom": null,
            "display": null,
            "flex": null,
            "flex_flow": null,
            "grid_area": null,
            "grid_auto_columns": null,
            "grid_auto_flow": null,
            "grid_auto_rows": null,
            "grid_column": null,
            "grid_gap": null,
            "grid_row": null,
            "grid_template_areas": null,
            "grid_template_columns": null,
            "grid_template_rows": null,
            "height": null,
            "justify_content": null,
            "justify_items": null,
            "left": null,
            "margin": null,
            "max_height": null,
            "max_width": null,
            "min_height": null,
            "min_width": null,
            "object_fit": null,
            "object_position": null,
            "order": null,
            "overflow": null,
            "overflow_x": null,
            "overflow_y": null,
            "padding": null,
            "right": null,
            "top": null,
            "visibility": null,
            "width": null
          }
        },
        "b7939df2a061416b9acf80befc820631": {
          "model_module": "@jupyter-widgets/controls",
          "model_name": "DescriptionStyleModel",
          "model_module_version": "1.5.0",
          "state": {
            "_model_module": "@jupyter-widgets/controls",
            "_model_module_version": "1.5.0",
            "_model_name": "DescriptionStyleModel",
            "_view_count": null,
            "_view_module": "@jupyter-widgets/base",
            "_view_module_version": "1.2.0",
            "_view_name": "StyleView",
            "description_width": ""
          }
        },
        "6d3a1649cbbe40d1a936dcbcf0878aaa": {
          "model_module": "@jupyter-widgets/base",
          "model_name": "LayoutModel",
          "model_module_version": "1.2.0",
          "state": {
            "_model_module": "@jupyter-widgets/base",
            "_model_module_version": "1.2.0",
            "_model_name": "LayoutModel",
            "_view_count": null,
            "_view_module": "@jupyter-widgets/base",
            "_view_module_version": "1.2.0",
            "_view_name": "LayoutView",
            "align_content": null,
            "align_items": null,
            "align_self": null,
            "border": null,
            "bottom": null,
            "display": null,
            "flex": null,
            "flex_flow": null,
            "grid_area": null,
            "grid_auto_columns": null,
            "grid_auto_flow": null,
            "grid_auto_rows": null,
            "grid_column": null,
            "grid_gap": null,
            "grid_row": null,
            "grid_template_areas": null,
            "grid_template_columns": null,
            "grid_template_rows": null,
            "height": null,
            "justify_content": null,
            "justify_items": null,
            "left": null,
            "margin": null,
            "max_height": null,
            "max_width": null,
            "min_height": null,
            "min_width": null,
            "object_fit": null,
            "object_position": null,
            "order": null,
            "overflow": null,
            "overflow_x": null,
            "overflow_y": null,
            "padding": null,
            "right": null,
            "top": null,
            "visibility": null,
            "width": null
          }
        },
        "09c406de9f18425e93a05f16e2a3f74d": {
          "model_module": "@jupyter-widgets/controls",
          "model_name": "ProgressStyleModel",
          "model_module_version": "1.5.0",
          "state": {
            "_model_module": "@jupyter-widgets/controls",
            "_model_module_version": "1.5.0",
            "_model_name": "ProgressStyleModel",
            "_view_count": null,
            "_view_module": "@jupyter-widgets/base",
            "_view_module_version": "1.2.0",
            "_view_name": "StyleView",
            "bar_color": null,
            "description_width": ""
          }
        },
        "0640e5ed75f64e668e7cc7a8550fb19a": {
          "model_module": "@jupyter-widgets/base",
          "model_name": "LayoutModel",
          "model_module_version": "1.2.0",
          "state": {
            "_model_module": "@jupyter-widgets/base",
            "_model_module_version": "1.2.0",
            "_model_name": "LayoutModel",
            "_view_count": null,
            "_view_module": "@jupyter-widgets/base",
            "_view_module_version": "1.2.0",
            "_view_name": "LayoutView",
            "align_content": null,
            "align_items": null,
            "align_self": null,
            "border": null,
            "bottom": null,
            "display": null,
            "flex": null,
            "flex_flow": null,
            "grid_area": null,
            "grid_auto_columns": null,
            "grid_auto_flow": null,
            "grid_auto_rows": null,
            "grid_column": null,
            "grid_gap": null,
            "grid_row": null,
            "grid_template_areas": null,
            "grid_template_columns": null,
            "grid_template_rows": null,
            "height": null,
            "justify_content": null,
            "justify_items": null,
            "left": null,
            "margin": null,
            "max_height": null,
            "max_width": null,
            "min_height": null,
            "min_width": null,
            "object_fit": null,
            "object_position": null,
            "order": null,
            "overflow": null,
            "overflow_x": null,
            "overflow_y": null,
            "padding": null,
            "right": null,
            "top": null,
            "visibility": null,
            "width": null
          }
        },
        "78acaa20c92648fabd66e6ecce385995": {
          "model_module": "@jupyter-widgets/controls",
          "model_name": "DescriptionStyleModel",
          "model_module_version": "1.5.0",
          "state": {
            "_model_module": "@jupyter-widgets/controls",
            "_model_module_version": "1.5.0",
            "_model_name": "DescriptionStyleModel",
            "_view_count": null,
            "_view_module": "@jupyter-widgets/base",
            "_view_module_version": "1.2.0",
            "_view_name": "StyleView",
            "description_width": ""
          }
        },
        "45763179a5194405ac601d9e299a9067": {
          "model_module": "@jupyter-widgets/controls",
          "model_name": "HBoxModel",
          "model_module_version": "1.5.0",
          "state": {
            "_dom_classes": [],
            "_model_module": "@jupyter-widgets/controls",
            "_model_module_version": "1.5.0",
            "_model_name": "HBoxModel",
            "_view_count": null,
            "_view_module": "@jupyter-widgets/controls",
            "_view_module_version": "1.5.0",
            "_view_name": "HBoxView",
            "box_style": "",
            "children": [
              "IPY_MODEL_7cce651163a943a3813b54fc8425029f",
              "IPY_MODEL_ed55e193af044b23b413014b2518f11c",
              "IPY_MODEL_e85c41d6f7d94fa3a66ab738a924e34e"
            ],
            "layout": "IPY_MODEL_233c8d2506e643fda5c8104f2008cf2e"
          }
        },
        "7cce651163a943a3813b54fc8425029f": {
          "model_module": "@jupyter-widgets/controls",
          "model_name": "HTMLModel",
          "model_module_version": "1.5.0",
          "state": {
            "_dom_classes": [],
            "_model_module": "@jupyter-widgets/controls",
            "_model_module_version": "1.5.0",
            "_model_name": "HTMLModel",
            "_view_count": null,
            "_view_module": "@jupyter-widgets/controls",
            "_view_module_version": "1.5.0",
            "_view_name": "HTMLView",
            "description": "",
            "description_tooltip": null,
            "layout": "IPY_MODEL_475f9548e45642f3922672ecd9a514bf",
            "placeholder": "​",
            "style": "IPY_MODEL_021ba79e9a6a497da75bbf36a43c5041",
            "value": "Downloading (…)lve/main/config.json: 100%"
          }
        },
        "ed55e193af044b23b413014b2518f11c": {
          "model_module": "@jupyter-widgets/controls",
          "model_name": "FloatProgressModel",
          "model_module_version": "1.5.0",
          "state": {
            "_dom_classes": [],
            "_model_module": "@jupyter-widgets/controls",
            "_model_module_version": "1.5.0",
            "_model_name": "FloatProgressModel",
            "_view_count": null,
            "_view_module": "@jupyter-widgets/controls",
            "_view_module_version": "1.5.0",
            "_view_name": "ProgressView",
            "bar_style": "success",
            "description": "",
            "description_tooltip": null,
            "layout": "IPY_MODEL_0d8884ce09de449892c7ef0390239098",
            "max": 481,
            "min": 0,
            "orientation": "horizontal",
            "style": "IPY_MODEL_34486dcbf7864368926226e7e46c96cc",
            "value": 481
          }
        },
        "e85c41d6f7d94fa3a66ab738a924e34e": {
          "model_module": "@jupyter-widgets/controls",
          "model_name": "HTMLModel",
          "model_module_version": "1.5.0",
          "state": {
            "_dom_classes": [],
            "_model_module": "@jupyter-widgets/controls",
            "_model_module_version": "1.5.0",
            "_model_name": "HTMLModel",
            "_view_count": null,
            "_view_module": "@jupyter-widgets/controls",
            "_view_module_version": "1.5.0",
            "_view_name": "HTMLView",
            "description": "",
            "description_tooltip": null,
            "layout": "IPY_MODEL_89a1e54aedd543bc8ad4e2312fbfeed6",
            "placeholder": "​",
            "style": "IPY_MODEL_a15257e86149416387a70a925bd7134b",
            "value": " 481/481 [00:00&lt;00:00, 31.2kB/s]"
          }
        },
        "233c8d2506e643fda5c8104f2008cf2e": {
          "model_module": "@jupyter-widgets/base",
          "model_name": "LayoutModel",
          "model_module_version": "1.2.0",
          "state": {
            "_model_module": "@jupyter-widgets/base",
            "_model_module_version": "1.2.0",
            "_model_name": "LayoutModel",
            "_view_count": null,
            "_view_module": "@jupyter-widgets/base",
            "_view_module_version": "1.2.0",
            "_view_name": "LayoutView",
            "align_content": null,
            "align_items": null,
            "align_self": null,
            "border": null,
            "bottom": null,
            "display": null,
            "flex": null,
            "flex_flow": null,
            "grid_area": null,
            "grid_auto_columns": null,
            "grid_auto_flow": null,
            "grid_auto_rows": null,
            "grid_column": null,
            "grid_gap": null,
            "grid_row": null,
            "grid_template_areas": null,
            "grid_template_columns": null,
            "grid_template_rows": null,
            "height": null,
            "justify_content": null,
            "justify_items": null,
            "left": null,
            "margin": null,
            "max_height": null,
            "max_width": null,
            "min_height": null,
            "min_width": null,
            "object_fit": null,
            "object_position": null,
            "order": null,
            "overflow": null,
            "overflow_x": null,
            "overflow_y": null,
            "padding": null,
            "right": null,
            "top": null,
            "visibility": null,
            "width": null
          }
        },
        "475f9548e45642f3922672ecd9a514bf": {
          "model_module": "@jupyter-widgets/base",
          "model_name": "LayoutModel",
          "model_module_version": "1.2.0",
          "state": {
            "_model_module": "@jupyter-widgets/base",
            "_model_module_version": "1.2.0",
            "_model_name": "LayoutModel",
            "_view_count": null,
            "_view_module": "@jupyter-widgets/base",
            "_view_module_version": "1.2.0",
            "_view_name": "LayoutView",
            "align_content": null,
            "align_items": null,
            "align_self": null,
            "border": null,
            "bottom": null,
            "display": null,
            "flex": null,
            "flex_flow": null,
            "grid_area": null,
            "grid_auto_columns": null,
            "grid_auto_flow": null,
            "grid_auto_rows": null,
            "grid_column": null,
            "grid_gap": null,
            "grid_row": null,
            "grid_template_areas": null,
            "grid_template_columns": null,
            "grid_template_rows": null,
            "height": null,
            "justify_content": null,
            "justify_items": null,
            "left": null,
            "margin": null,
            "max_height": null,
            "max_width": null,
            "min_height": null,
            "min_width": null,
            "object_fit": null,
            "object_position": null,
            "order": null,
            "overflow": null,
            "overflow_x": null,
            "overflow_y": null,
            "padding": null,
            "right": null,
            "top": null,
            "visibility": null,
            "width": null
          }
        },
        "021ba79e9a6a497da75bbf36a43c5041": {
          "model_module": "@jupyter-widgets/controls",
          "model_name": "DescriptionStyleModel",
          "model_module_version": "1.5.0",
          "state": {
            "_model_module": "@jupyter-widgets/controls",
            "_model_module_version": "1.5.0",
            "_model_name": "DescriptionStyleModel",
            "_view_count": null,
            "_view_module": "@jupyter-widgets/base",
            "_view_module_version": "1.2.0",
            "_view_name": "StyleView",
            "description_width": ""
          }
        },
        "0d8884ce09de449892c7ef0390239098": {
          "model_module": "@jupyter-widgets/base",
          "model_name": "LayoutModel",
          "model_module_version": "1.2.0",
          "state": {
            "_model_module": "@jupyter-widgets/base",
            "_model_module_version": "1.2.0",
            "_model_name": "LayoutModel",
            "_view_count": null,
            "_view_module": "@jupyter-widgets/base",
            "_view_module_version": "1.2.0",
            "_view_name": "LayoutView",
            "align_content": null,
            "align_items": null,
            "align_self": null,
            "border": null,
            "bottom": null,
            "display": null,
            "flex": null,
            "flex_flow": null,
            "grid_area": null,
            "grid_auto_columns": null,
            "grid_auto_flow": null,
            "grid_auto_rows": null,
            "grid_column": null,
            "grid_gap": null,
            "grid_row": null,
            "grid_template_areas": null,
            "grid_template_columns": null,
            "grid_template_rows": null,
            "height": null,
            "justify_content": null,
            "justify_items": null,
            "left": null,
            "margin": null,
            "max_height": null,
            "max_width": null,
            "min_height": null,
            "min_width": null,
            "object_fit": null,
            "object_position": null,
            "order": null,
            "overflow": null,
            "overflow_x": null,
            "overflow_y": null,
            "padding": null,
            "right": null,
            "top": null,
            "visibility": null,
            "width": null
          }
        },
        "34486dcbf7864368926226e7e46c96cc": {
          "model_module": "@jupyter-widgets/controls",
          "model_name": "ProgressStyleModel",
          "model_module_version": "1.5.0",
          "state": {
            "_model_module": "@jupyter-widgets/controls",
            "_model_module_version": "1.5.0",
            "_model_name": "ProgressStyleModel",
            "_view_count": null,
            "_view_module": "@jupyter-widgets/base",
            "_view_module_version": "1.2.0",
            "_view_name": "StyleView",
            "bar_color": null,
            "description_width": ""
          }
        },
        "89a1e54aedd543bc8ad4e2312fbfeed6": {
          "model_module": "@jupyter-widgets/base",
          "model_name": "LayoutModel",
          "model_module_version": "1.2.0",
          "state": {
            "_model_module": "@jupyter-widgets/base",
            "_model_module_version": "1.2.0",
            "_model_name": "LayoutModel",
            "_view_count": null,
            "_view_module": "@jupyter-widgets/base",
            "_view_module_version": "1.2.0",
            "_view_name": "LayoutView",
            "align_content": null,
            "align_items": null,
            "align_self": null,
            "border": null,
            "bottom": null,
            "display": null,
            "flex": null,
            "flex_flow": null,
            "grid_area": null,
            "grid_auto_columns": null,
            "grid_auto_flow": null,
            "grid_auto_rows": null,
            "grid_column": null,
            "grid_gap": null,
            "grid_row": null,
            "grid_template_areas": null,
            "grid_template_columns": null,
            "grid_template_rows": null,
            "height": null,
            "justify_content": null,
            "justify_items": null,
            "left": null,
            "margin": null,
            "max_height": null,
            "max_width": null,
            "min_height": null,
            "min_width": null,
            "object_fit": null,
            "object_position": null,
            "order": null,
            "overflow": null,
            "overflow_x": null,
            "overflow_y": null,
            "padding": null,
            "right": null,
            "top": null,
            "visibility": null,
            "width": null
          }
        },
        "a15257e86149416387a70a925bd7134b": {
          "model_module": "@jupyter-widgets/controls",
          "model_name": "DescriptionStyleModel",
          "model_module_version": "1.5.0",
          "state": {
            "_model_module": "@jupyter-widgets/controls",
            "_model_module_version": "1.5.0",
            "_model_name": "DescriptionStyleModel",
            "_view_count": null,
            "_view_module": "@jupyter-widgets/base",
            "_view_module_version": "1.2.0",
            "_view_name": "StyleView",
            "description_width": ""
          }
        },
        "191e9dfcaf0b43fda130a5fe378500da": {
          "model_module": "@jupyter-widgets/controls",
          "model_name": "HBoxModel",
          "model_module_version": "1.5.0",
          "state": {
            "_dom_classes": [],
            "_model_module": "@jupyter-widgets/controls",
            "_model_module_version": "1.5.0",
            "_model_name": "HBoxModel",
            "_view_count": null,
            "_view_module": "@jupyter-widgets/controls",
            "_view_module_version": "1.5.0",
            "_view_name": "HBoxView",
            "box_style": "",
            "children": [
              "IPY_MODEL_6b41d20f75444c3eb2886195048607a4",
              "IPY_MODEL_a25ce143a10d4427b83b6de22e49993f",
              "IPY_MODEL_f31d57be11ad4ac88ea55aae00166e10"
            ],
            "layout": "IPY_MODEL_5f32964fab4d4764b9b4bcafcdd07643"
          }
        },
        "6b41d20f75444c3eb2886195048607a4": {
          "model_module": "@jupyter-widgets/controls",
          "model_name": "HTMLModel",
          "model_module_version": "1.5.0",
          "state": {
            "_dom_classes": [],
            "_model_module": "@jupyter-widgets/controls",
            "_model_module_version": "1.5.0",
            "_model_name": "HTMLModel",
            "_view_count": null,
            "_view_module": "@jupyter-widgets/controls",
            "_view_module_version": "1.5.0",
            "_view_name": "HTMLView",
            "description": "",
            "description_tooltip": null,
            "layout": "IPY_MODEL_1eac45c1d74e4ddda902ea1426567224",
            "placeholder": "​",
            "style": "IPY_MODEL_ace86f318ba84eb1bd893ed5d449124b",
            "value": "Downloading (…)&quot;pytorch_model.bin&quot;;: 100%"
          }
        },
        "a25ce143a10d4427b83b6de22e49993f": {
          "model_module": "@jupyter-widgets/controls",
          "model_name": "FloatProgressModel",
          "model_module_version": "1.5.0",
          "state": {
            "_dom_classes": [],
            "_model_module": "@jupyter-widgets/controls",
            "_model_module_version": "1.5.0",
            "_model_name": "FloatProgressModel",
            "_view_count": null,
            "_view_module": "@jupyter-widgets/controls",
            "_view_module_version": "1.5.0",
            "_view_name": "ProgressView",
            "bar_style": "success",
            "description": "",
            "description_tooltip": null,
            "layout": "IPY_MODEL_71b492f0747b449ca99abacfab98d172",
            "max": 501200538,
            "min": 0,
            "orientation": "horizontal",
            "style": "IPY_MODEL_90b2d15a2b4042b19ea1bbc0c49611c3",
            "value": 501200538
          }
        },
        "f31d57be11ad4ac88ea55aae00166e10": {
          "model_module": "@jupyter-widgets/controls",
          "model_name": "HTMLModel",
          "model_module_version": "1.5.0",
          "state": {
            "_dom_classes": [],
            "_model_module": "@jupyter-widgets/controls",
            "_model_module_version": "1.5.0",
            "_model_name": "HTMLModel",
            "_view_count": null,
            "_view_module": "@jupyter-widgets/controls",
            "_view_module_version": "1.5.0",
            "_view_name": "HTMLView",
            "description": "",
            "description_tooltip": null,
            "layout": "IPY_MODEL_b557188693544a8ab8ac51bb2db5a091",
            "placeholder": "​",
            "style": "IPY_MODEL_908ebdc442134807b0656fef6752cbea",
            "value": " 501M/501M [00:03&lt;00:00, 132MB/s]"
          }
        },
        "5f32964fab4d4764b9b4bcafcdd07643": {
          "model_module": "@jupyter-widgets/base",
          "model_name": "LayoutModel",
          "model_module_version": "1.2.0",
          "state": {
            "_model_module": "@jupyter-widgets/base",
            "_model_module_version": "1.2.0",
            "_model_name": "LayoutModel",
            "_view_count": null,
            "_view_module": "@jupyter-widgets/base",
            "_view_module_version": "1.2.0",
            "_view_name": "LayoutView",
            "align_content": null,
            "align_items": null,
            "align_self": null,
            "border": null,
            "bottom": null,
            "display": null,
            "flex": null,
            "flex_flow": null,
            "grid_area": null,
            "grid_auto_columns": null,
            "grid_auto_flow": null,
            "grid_auto_rows": null,
            "grid_column": null,
            "grid_gap": null,
            "grid_row": null,
            "grid_template_areas": null,
            "grid_template_columns": null,
            "grid_template_rows": null,
            "height": null,
            "justify_content": null,
            "justify_items": null,
            "left": null,
            "margin": null,
            "max_height": null,
            "max_width": null,
            "min_height": null,
            "min_width": null,
            "object_fit": null,
            "object_position": null,
            "order": null,
            "overflow": null,
            "overflow_x": null,
            "overflow_y": null,
            "padding": null,
            "right": null,
            "top": null,
            "visibility": null,
            "width": null
          }
        },
        "1eac45c1d74e4ddda902ea1426567224": {
          "model_module": "@jupyter-widgets/base",
          "model_name": "LayoutModel",
          "model_module_version": "1.2.0",
          "state": {
            "_model_module": "@jupyter-widgets/base",
            "_model_module_version": "1.2.0",
            "_model_name": "LayoutModel",
            "_view_count": null,
            "_view_module": "@jupyter-widgets/base",
            "_view_module_version": "1.2.0",
            "_view_name": "LayoutView",
            "align_content": null,
            "align_items": null,
            "align_self": null,
            "border": null,
            "bottom": null,
            "display": null,
            "flex": null,
            "flex_flow": null,
            "grid_area": null,
            "grid_auto_columns": null,
            "grid_auto_flow": null,
            "grid_auto_rows": null,
            "grid_column": null,
            "grid_gap": null,
            "grid_row": null,
            "grid_template_areas": null,
            "grid_template_columns": null,
            "grid_template_rows": null,
            "height": null,
            "justify_content": null,
            "justify_items": null,
            "left": null,
            "margin": null,
            "max_height": null,
            "max_width": null,
            "min_height": null,
            "min_width": null,
            "object_fit": null,
            "object_position": null,
            "order": null,
            "overflow": null,
            "overflow_x": null,
            "overflow_y": null,
            "padding": null,
            "right": null,
            "top": null,
            "visibility": null,
            "width": null
          }
        },
        "ace86f318ba84eb1bd893ed5d449124b": {
          "model_module": "@jupyter-widgets/controls",
          "model_name": "DescriptionStyleModel",
          "model_module_version": "1.5.0",
          "state": {
            "_model_module": "@jupyter-widgets/controls",
            "_model_module_version": "1.5.0",
            "_model_name": "DescriptionStyleModel",
            "_view_count": null,
            "_view_module": "@jupyter-widgets/base",
            "_view_module_version": "1.2.0",
            "_view_name": "StyleView",
            "description_width": ""
          }
        },
        "71b492f0747b449ca99abacfab98d172": {
          "model_module": "@jupyter-widgets/base",
          "model_name": "LayoutModel",
          "model_module_version": "1.2.0",
          "state": {
            "_model_module": "@jupyter-widgets/base",
            "_model_module_version": "1.2.0",
            "_model_name": "LayoutModel",
            "_view_count": null,
            "_view_module": "@jupyter-widgets/base",
            "_view_module_version": "1.2.0",
            "_view_name": "LayoutView",
            "align_content": null,
            "align_items": null,
            "align_self": null,
            "border": null,
            "bottom": null,
            "display": null,
            "flex": null,
            "flex_flow": null,
            "grid_area": null,
            "grid_auto_columns": null,
            "grid_auto_flow": null,
            "grid_auto_rows": null,
            "grid_column": null,
            "grid_gap": null,
            "grid_row": null,
            "grid_template_areas": null,
            "grid_template_columns": null,
            "grid_template_rows": null,
            "height": null,
            "justify_content": null,
            "justify_items": null,
            "left": null,
            "margin": null,
            "max_height": null,
            "max_width": null,
            "min_height": null,
            "min_width": null,
            "object_fit": null,
            "object_position": null,
            "order": null,
            "overflow": null,
            "overflow_x": null,
            "overflow_y": null,
            "padding": null,
            "right": null,
            "top": null,
            "visibility": null,
            "width": null
          }
        },
        "90b2d15a2b4042b19ea1bbc0c49611c3": {
          "model_module": "@jupyter-widgets/controls",
          "model_name": "ProgressStyleModel",
          "model_module_version": "1.5.0",
          "state": {
            "_model_module": "@jupyter-widgets/controls",
            "_model_module_version": "1.5.0",
            "_model_name": "ProgressStyleModel",
            "_view_count": null,
            "_view_module": "@jupyter-widgets/base",
            "_view_module_version": "1.2.0",
            "_view_name": "StyleView",
            "bar_color": null,
            "description_width": ""
          }
        },
        "b557188693544a8ab8ac51bb2db5a091": {
          "model_module": "@jupyter-widgets/base",
          "model_name": "LayoutModel",
          "model_module_version": "1.2.0",
          "state": {
            "_model_module": "@jupyter-widgets/base",
            "_model_module_version": "1.2.0",
            "_model_name": "LayoutModel",
            "_view_count": null,
            "_view_module": "@jupyter-widgets/base",
            "_view_module_version": "1.2.0",
            "_view_name": "LayoutView",
            "align_content": null,
            "align_items": null,
            "align_self": null,
            "border": null,
            "bottom": null,
            "display": null,
            "flex": null,
            "flex_flow": null,
            "grid_area": null,
            "grid_auto_columns": null,
            "grid_auto_flow": null,
            "grid_auto_rows": null,
            "grid_column": null,
            "grid_gap": null,
            "grid_row": null,
            "grid_template_areas": null,
            "grid_template_columns": null,
            "grid_template_rows": null,
            "height": null,
            "justify_content": null,
            "justify_items": null,
            "left": null,
            "margin": null,
            "max_height": null,
            "max_width": null,
            "min_height": null,
            "min_width": null,
            "object_fit": null,
            "object_position": null,
            "order": null,
            "overflow": null,
            "overflow_x": null,
            "overflow_y": null,
            "padding": null,
            "right": null,
            "top": null,
            "visibility": null,
            "width": null
          }
        },
        "908ebdc442134807b0656fef6752cbea": {
          "model_module": "@jupyter-widgets/controls",
          "model_name": "DescriptionStyleModel",
          "model_module_version": "1.5.0",
          "state": {
            "_model_module": "@jupyter-widgets/controls",
            "_model_module_version": "1.5.0",
            "_model_name": "DescriptionStyleModel",
            "_view_count": null,
            "_view_module": "@jupyter-widgets/base",
            "_view_module_version": "1.2.0",
            "_view_name": "StyleView",
            "description_width": ""
          }
        }
      }
    }
  },
  "nbformat": 4,
  "nbformat_minor": 0
}